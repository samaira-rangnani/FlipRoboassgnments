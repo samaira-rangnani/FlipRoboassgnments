{
 "cells": [
  {
   "cell_type": "code",
   "execution_count": 1,
   "id": "e4f3f050",
   "metadata": {},
   "outputs": [],
   "source": [
    "import numpy as np\n",
    "import pandas as pd\n",
    "import re"
   ]
  },
  {
   "cell_type": "markdown",
   "id": "edfcaece",
   "metadata": {},
   "source": [
    "Question 1-\n",
    "Write a Python program to replace all occurrences of a space, comma, or dot with a colon."
   ]
  },
  {
   "cell_type": "code",
   "execution_count": 2,
   "id": "40440871",
   "metadata": {},
   "outputs": [
    {
     "name": "stdout",
     "output_type": "stream",
     "text": [
      "Enter a text'Python Exercises, PHP exercises.'\n",
      "'Python:Exercises::PHP:exercises:'\n"
     ]
    }
   ],
   "source": [
    "text=input('Enter a text')\n",
    "\n",
    "x=re.sub(\"[\\s,.]\",\":\",text) \n",
    "print(x)\n"
   ]
  },
  {
   "cell_type": "code",
   "execution_count": null,
   "id": "c0e70545",
   "metadata": {},
   "outputs": [],
   "source": []
  },
  {
   "cell_type": "markdown",
   "id": "b221f26e",
   "metadata": {},
   "source": [
    "Question 2-  Write a Python program to find all words starting with 'a' or 'e' in a given string."
   ]
  },
  {
   "cell_type": "code",
   "execution_count": 3,
   "id": "028d38e9",
   "metadata": {},
   "outputs": [
    {
     "name": "stdout",
     "output_type": "stream",
     "text": [
      "Enter a stringeasy and essay acc\n",
      "['easy', 'and', 'essay', 'acc']\n"
     ]
    }
   ],
   "source": [
    "string=input('Enter a string')\n",
    "x=re.findall('[ae]\\w+',string)\n",
    "print(x)"
   ]
  },
  {
   "cell_type": "code",
   "execution_count": null,
   "id": "14844177",
   "metadata": {},
   "outputs": [],
   "source": []
  },
  {
   "cell_type": "markdown",
   "id": "4c8dc693",
   "metadata": {},
   "source": [
    "Question 3- Create a function in python to find all words that are at least 4 characters long in a string. The use of the re.compile() method is mandatory."
   ]
  },
  {
   "cell_type": "code",
   "execution_count": 37,
   "id": "ccca8f12",
   "metadata": {},
   "outputs": [],
   "source": [
    "import re\n",
    "text='I am learning python program'\n",
    "x=re.compile('\\w{4,}')\n"
   ]
  },
  {
   "cell_type": "code",
   "execution_count": 38,
   "id": "5d835c1c",
   "metadata": {},
   "outputs": [
    {
     "data": {
      "text/plain": [
       "re.compile(r'\\w{4,}', re.UNICODE)"
      ]
     },
     "execution_count": 38,
     "metadata": {},
     "output_type": "execute_result"
    }
   ],
   "source": [
    "x\n"
   ]
  },
  {
   "cell_type": "code",
   "execution_count": 39,
   "id": "af7a56ce",
   "metadata": {},
   "outputs": [
    {
     "name": "stdout",
     "output_type": "stream",
     "text": [
      "['learning', 'python', 'program']\n"
     ]
    }
   ],
   "source": [
    "a=x.findall(text)\n",
    "print(a)"
   ]
  },
  {
   "cell_type": "code",
   "execution_count": null,
   "id": "d0279cd5",
   "metadata": {},
   "outputs": [],
   "source": []
  },
  {
   "cell_type": "markdown",
   "id": "7a37cfe2",
   "metadata": {},
   "source": [
    "Question 4- Create a function in python to find all three, four, and five character words in a string. The use of the re.compile() method is mandatory."
   ]
  },
  {
   "cell_type": "code",
   "execution_count": 67,
   "id": "50ea1e89",
   "metadata": {},
   "outputs": [],
   "source": [
    "text='Welcome to python.My goal isto learn new language to flourish my carrer.'\n",
    "x=re.compile('\\w{3,5}')"
   ]
  },
  {
   "cell_type": "code",
   "execution_count": 68,
   "id": "6d35932e",
   "metadata": {},
   "outputs": [
    {
     "data": {
      "text/plain": [
       "re.compile(r'\\w{3,5}', re.UNICODE)"
      ]
     },
     "execution_count": 68,
     "metadata": {},
     "output_type": "execute_result"
    }
   ],
   "source": [
    "x"
   ]
  },
  {
   "cell_type": "code",
   "execution_count": 69,
   "id": "97ac69ce",
   "metadata": {},
   "outputs": [
    {
     "name": "stdout",
     "output_type": "stream",
     "text": [
      "['Welco', 'pytho', 'goal', 'isto', 'learn', 'new', 'langu', 'age', 'flour', 'ish', 'carre']\n"
     ]
    }
   ],
   "source": [
    "b=x.findall(text)\n",
    "print(b)"
   ]
  },
  {
   "cell_type": "code",
   "execution_count": null,
   "id": "1c512822",
   "metadata": {},
   "outputs": [],
   "source": []
  },
  {
   "cell_type": "markdown",
   "id": "c9cec673",
   "metadata": {},
   "source": [
    "Question 5- Create a function in Python to remove the parenthesis in a list of strings. The use of the re.compile() method is mandatory."
   ]
  },
  {
   "cell_type": "code",
   "execution_count": 177,
   "id": "7a4831a3",
   "metadata": {},
   "outputs": [
    {
     "data": {
      "text/plain": [
       "re.compile(r'\\w[\\(*\\)]', re.UNICODE)"
      ]
     },
     "execution_count": 177,
     "metadata": {},
     "output_type": "execute_result"
    }
   ],
   "source": [
    "text='example (.com), hr@fliprobo (.com), github (.com), Hello (Data Science World), Data (Scientist)'\n"
   ]
  },
  {
   "cell_type": "code",
   "execution_count": 137,
   "id": "2458b0ee",
   "metadata": {},
   "outputs": [
    {
     "name": "stdout",
     "output_type": "stream",
     "text": [
      "example .com, hr@fliprobo .com, github .com, Hello Data Science World, Data Scientist\n"
     ]
    }
   ],
   "source": [
    "z=re.sub('[()]','',text)\n",
    "print(z)"
   ]
  },
  {
   "cell_type": "code",
   "execution_count": null,
   "id": "be178da7",
   "metadata": {},
   "outputs": [],
   "source": []
  },
  {
   "cell_type": "markdown",
   "id": "4dd493af",
   "metadata": {},
   "source": [
    "question-6 Write a python program to remove the parenthesis area from the text stored in the text file using Regular Expression."
   ]
  },
  {
   "cell_type": "code",
   "execution_count": 169,
   "id": "6740ec43",
   "metadata": {},
   "outputs": [
    {
     "name": "stdout",
     "output_type": "stream",
     "text": [
      "example , hr@fliprobo , github , Hello , Data \n"
     ]
    }
   ],
   "source": [
    "text='example (.com), hr@fliprobo (.com), github (.com), Hello (Data Science World), Data (Scientist)'\n",
    "x=re.sub(\"\\([^()]*\\)\",'',text)\n",
    "print(x)"
   ]
  },
  {
   "cell_type": "code",
   "execution_count": null,
   "id": "df434d62",
   "metadata": {},
   "outputs": [],
   "source": []
  },
  {
   "cell_type": "markdown",
   "id": "4cc55a63",
   "metadata": {},
   "source": [
    "Question 7- Write a regular expression in Python to split a string into uppercase letters."
   ]
  },
  {
   "cell_type": "code",
   "execution_count": 3,
   "id": "51c445fc",
   "metadata": {},
   "outputs": [],
   "source": [
    "import re\n",
    "text='ImportanceOfRegularExpressionsInPython'\n",
    "c=re.findall('[A-Z][^A-Z]*',text)"
   ]
  },
  {
   "cell_type": "code",
   "execution_count": 4,
   "id": "6c9ab54b",
   "metadata": {},
   "outputs": [
    {
     "data": {
      "text/plain": [
       "['Importance', 'Of', 'Regular', 'Expressions', 'In', 'Python']"
      ]
     },
     "execution_count": 4,
     "metadata": {},
     "output_type": "execute_result"
    }
   ],
   "source": [
    "c"
   ]
  },
  {
   "cell_type": "code",
   "execution_count": null,
   "id": "9cf7a04a",
   "metadata": {},
   "outputs": [],
   "source": []
  },
  {
   "cell_type": "markdown",
   "id": "3cdd6e87",
   "metadata": {},
   "source": [
    "Question 8- Create a function in python to insert spaces between words starting with numbers."
   ]
  },
  {
   "cell_type": "code",
   "execution_count": 104,
   "id": "269383ae",
   "metadata": {},
   "outputs": [],
   "source": [
    "def insert_spaces(text):\n",
    "    \n",
    "    result = re.sub(r'(\\d+)([A-Za-z]+)', r'\\1 \\2', text)\n",
    "    return result\n"
   ]
  },
  {
   "cell_type": "code",
   "execution_count": 105,
   "id": "3c8110ec",
   "metadata": {},
   "outputs": [
    {
     "data": {
      "text/plain": [
       "'RegularExpression1 IsAn2 ImportantTopic3 InPython'"
      ]
     },
     "execution_count": 105,
     "metadata": {},
     "output_type": "execute_result"
    }
   ],
   "source": [
    "text=\"RegularExpression1IsAn2ImportantTopic3InPython\"\n",
    "insert_spaces(text)"
   ]
  },
  {
   "cell_type": "code",
   "execution_count": null,
   "id": "24ed6136",
   "metadata": {},
   "outputs": [],
   "source": []
  },
  {
   "cell_type": "markdown",
   "id": "08089cdd",
   "metadata": {},
   "source": [
    "Question 9- Create a function in python to insert spaces between words starting with capital letters or with numbers."
   ]
  },
  {
   "cell_type": "code",
   "execution_count": 94,
   "id": "55a96ef9",
   "metadata": {},
   "outputs": [],
   "source": [
    "def insert_spaces(text):\n",
    "    words = re.sub('(\\d+(\\.\\d+)?)', r' \\1 ', text)\n",
    "    return words"
   ]
  },
  {
   "cell_type": "code",
   "execution_count": 95,
   "id": "7041b154",
   "metadata": {},
   "outputs": [
    {
     "data": {
      "text/plain": [
       "'RegularExpression 1 IsAn 2 ImportantTopic 3 InPython'"
      ]
     },
     "execution_count": 95,
     "metadata": {},
     "output_type": "execute_result"
    }
   ],
   "source": [
    "text=\"RegularExpression1IsAn2ImportantTopic3InPython\"\n",
    "insert_spaces(text)\n"
   ]
  },
  {
   "cell_type": "code",
   "execution_count": null,
   "id": "549d0300",
   "metadata": {},
   "outputs": [],
   "source": []
  },
  {
   "cell_type": "markdown",
   "id": "478d6c7b",
   "metadata": {},
   "source": [
    "Question 10- Write a python program to extract email address from the text stored in the text file using Regular Expression."
   ]
  },
  {
   "cell_type": "code",
   "execution_count": 64,
   "id": "882cec6c",
   "metadata": {},
   "outputs": [
    {
     "name": "stdout",
     "output_type": "stream",
     "text": [
      "['xyz@domain.com', 'xyz.abc@sdomain.domain.com', 'hr@fliprobo.com']\n"
     ]
    }
   ],
   "source": [
    "f = open('email.txt',\"r\")\n",
    "text = f.read()\n",
    "emails = re.findall(r\"[a-z0-9\\.\\-+_]+@[a-z0-9\\.\\-+_]+\\.[a-z]+\", text)\n",
    "print (emails)"
   ]
  },
  {
   "cell_type": "code",
   "execution_count": null,
   "id": "f51efe55",
   "metadata": {},
   "outputs": [],
   "source": []
  },
  {
   "cell_type": "markdown",
   "id": "2324caff",
   "metadata": {},
   "source": [
    "Question 11- Write a Python program to match a string that contains only upper and lowercase letters, numbers, and underscores."
   ]
  },
  {
   "cell_type": "code",
   "execution_count": 62,
   "id": "bf8471ca",
   "metadata": {},
   "outputs": [],
   "source": [
    "import re\n",
    "def match(text):\n",
    "        patterns = '^[a-zA-Z0-9_]*$'\n",
    "        if re.search(patterns,  text):\n",
    "                return ('Found a match!')\n",
    "        else:\n",
    "                return('Not matched!')\n",
    "\n"
   ]
  },
  {
   "cell_type": "code",
   "execution_count": 63,
   "id": "87f9ca11",
   "metadata": {},
   "outputs": [
    {
     "data": {
      "text/plain": [
       "'Found a match!'"
      ]
     },
     "execution_count": 63,
     "metadata": {},
     "output_type": "execute_result"
    }
   ],
   "source": [
    "match('_Language123')"
   ]
  },
  {
   "cell_type": "code",
   "execution_count": 64,
   "id": "2fe6b647",
   "metadata": {},
   "outputs": [
    {
     "data": {
      "text/plain": [
       "'Found a match!'"
      ]
     },
     "execution_count": 64,
     "metadata": {},
     "output_type": "execute_result"
    }
   ],
   "source": [
    "match('language123')"
   ]
  },
  {
   "cell_type": "code",
   "execution_count": 65,
   "id": "b34ce50d",
   "metadata": {},
   "outputs": [
    {
     "data": {
      "text/plain": [
       "'Found a match!'"
      ]
     },
     "execution_count": 65,
     "metadata": {},
     "output_type": "execute_result"
    }
   ],
   "source": [
    "match('Lang12_')"
   ]
  },
  {
   "cell_type": "code",
   "execution_count": 66,
   "id": "c401a69d",
   "metadata": {},
   "outputs": [
    {
     "data": {
      "text/plain": [
       "'Found a match!'"
      ]
     },
     "execution_count": 66,
     "metadata": {},
     "output_type": "execute_result"
    }
   ],
   "source": [
    "match('python')"
   ]
  },
  {
   "cell_type": "code",
   "execution_count": null,
   "id": "410bab69",
   "metadata": {},
   "outputs": [],
   "source": []
  },
  {
   "cell_type": "markdown",
   "id": "5e355513",
   "metadata": {},
   "source": [
    "Question 12- Write a Python program where a string will start with a specific number. "
   ]
  },
  {
   "cell_type": "code",
   "execution_count": 39,
   "id": "3d023e43",
   "metadata": {},
   "outputs": [],
   "source": [
    "def sw(text):\n",
    "    if re.match('\\d',text):\n",
    "    \n",
    "        return(text)\n",
    "    else:\n",
    "        return('Not starts with digit')"
   ]
  },
  {
   "cell_type": "code",
   "execution_count": 40,
   "id": "4f619b35",
   "metadata": {},
   "outputs": [
    {
     "data": {
      "text/plain": [
       "'Not starts with digit'"
      ]
     },
     "execution_count": 40,
     "metadata": {},
     "output_type": "execute_result"
    }
   ],
   "source": [
    "sw('aBCD')"
   ]
  },
  {
   "cell_type": "code",
   "execution_count": 41,
   "id": "e235e41a",
   "metadata": {},
   "outputs": [
    {
     "data": {
      "text/plain": [
       "'Not starts with digit'"
      ]
     },
     "execution_count": 41,
     "metadata": {},
     "output_type": "execute_result"
    }
   ],
   "source": [
    "sw('adbbj12')"
   ]
  },
  {
   "cell_type": "code",
   "execution_count": 42,
   "id": "72c4be07",
   "metadata": {},
   "outputs": [
    {
     "data": {
      "text/plain": [
       "'123'"
      ]
     },
     "execution_count": 42,
     "metadata": {},
     "output_type": "execute_result"
    }
   ],
   "source": [
    "sw('123')"
   ]
  },
  {
   "cell_type": "code",
   "execution_count": 43,
   "id": "7faa47ed",
   "metadata": {},
   "outputs": [
    {
     "data": {
      "text/plain": [
       "'123abcd'"
      ]
     },
     "execution_count": 43,
     "metadata": {},
     "output_type": "execute_result"
    }
   ],
   "source": [
    "sw('123abcd')"
   ]
  },
  {
   "cell_type": "code",
   "execution_count": null,
   "id": "a6cdc65d",
   "metadata": {},
   "outputs": [],
   "source": []
  },
  {
   "cell_type": "markdown",
   "id": "043f41e3",
   "metadata": {},
   "source": [
    "Question 13- Write a Python program to remove leading zeros from an IP address"
   ]
  },
  {
   "cell_type": "code",
   "execution_count": 68,
   "id": "ae244d7e",
   "metadata": {},
   "outputs": [
    {
     "name": "stdout",
     "output_type": "stream",
     "text": [
      "255.1.40.1\n"
     ]
    }
   ],
   "source": [
    "ip_address=\"255.001.040.001\"\n",
    "\n",
    "parts = ip_address.split(\".\")\n",
    "\n",
    "parts = [int(part) for part in parts]\n",
    "\n",
    "parts = [str(part) for part in parts]\n",
    "\n",
    "ip_address = \".\".join(parts)\n",
    "print(ip_address)\n"
   ]
  },
  {
   "cell_type": "code",
   "execution_count": null,
   "id": "8c38f95a",
   "metadata": {},
   "outputs": [],
   "source": []
  },
  {
   "cell_type": "markdown",
   "id": "7ce995f7",
   "metadata": {},
   "source": [
    "Question 14- Write a regular expression in python to match a date string in the form of Month name followed by day number and year stored in a text file."
   ]
  },
  {
   "cell_type": "code",
   "execution_count": 69,
   "id": "0da96d4f",
   "metadata": {},
   "outputs": [
    {
     "name": "stdout",
     "output_type": "stream",
     "text": [
      "['August']\n"
     ]
    }
   ],
   "source": [
    "text = \"On August 15th 1947 that India was declared independent from British colonialism, and the reins of control were handed over to the leaders of the Country.\"\n",
    "\n",
    "pattern = r\"\\b([A-Z][a-z]+) \\d{1,2}(?:st|nd|rd|th)? \\d{4}\\b\"\n",
    "\n",
    "matches = re.findall(pattern, text)\n",
    "print(matches)\n"
   ]
  },
  {
   "cell_type": "code",
   "execution_count": null,
   "id": "84c3e983",
   "metadata": {},
   "outputs": [],
   "source": []
  },
  {
   "cell_type": "markdown",
   "id": "1f4b0835",
   "metadata": {},
   "source": [
    "Question 15- Write a Python program to search some literals strings in a string. "
   ]
  },
  {
   "cell_type": "code",
   "execution_count": 5,
   "id": "2ac9b4d8",
   "metadata": {},
   "outputs": [
    {
     "name": "stdout",
     "output_type": "stream",
     "text": [
      "Match\n",
      "Match\n",
      "not match\n"
     ]
    }
   ],
   "source": [
    "import re\n",
    "text='The quick brown fox jumps over the lazy dog.'\n",
    "words=['fox', 'dog', 'horse']\n",
    "for i in words:\n",
    "    if re.search(i,text):\n",
    "        print('Match')\n",
    "    else:\n",
    "        print('not match')\n"
   ]
  },
  {
   "cell_type": "code",
   "execution_count": null,
   "id": "7b28d42c",
   "metadata": {},
   "outputs": [],
   "source": []
  },
  {
   "cell_type": "markdown",
   "id": "c65a19b3",
   "metadata": {},
   "source": [
    "Question 16- Write a Python program to search a literals string in a string and also find the location within the original string where the pattern occurs"
   ]
  },
  {
   "cell_type": "code",
   "execution_count": 23,
   "id": "5a7b6ee5",
   "metadata": {},
   "outputs": [
    {
     "name": "stdout",
     "output_type": "stream",
     "text": [
      "word fox is matched at location 3\n"
     ]
    }
   ],
   "source": [
    "text='The quick brown fox jumps over the lazy dog.'\n",
    "word='fox'\n",
    "x= re.search(word,text)\n",
    "y=text.split()\n",
    "z=y.index(word)\n",
    "print('word',word,'is matched at location',z)"
   ]
  },
  {
   "cell_type": "code",
   "execution_count": null,
   "id": "84e4e301",
   "metadata": {},
   "outputs": [],
   "source": []
  },
  {
   "cell_type": "markdown",
   "id": "d5fa76ce",
   "metadata": {},
   "source": [
    "Question 17- Write a Python program to find the substrings within a string."
   ]
  },
  {
   "cell_type": "code",
   "execution_count": 26,
   "id": "7593767d",
   "metadata": {},
   "outputs": [
    {
     "name": "stdout",
     "output_type": "stream",
     "text": [
      "Enter a stringthis is main string\n",
      "enter a sub stringnot\n",
      "not is not found in string\n"
     ]
    }
   ],
   "source": [
    "s=input('Enter a string')\n",
    "sub=input('enter a sub string')\n",
    "if sub in s:\n",
    "    print(sub,'is found in string')\n",
    "else:\n",
    "    print(sub,'is not found in string')"
   ]
  },
  {
   "cell_type": "code",
   "execution_count": null,
   "id": "aec9b52c",
   "metadata": {},
   "outputs": [],
   "source": []
  },
  {
   "cell_type": "markdown",
   "id": "fc0b1fbc",
   "metadata": {},
   "source": [
    "Question 18- Write a Python program to find the occurrence and position of the substrings within a string."
   ]
  },
  {
   "cell_type": "code",
   "execution_count": 27,
   "id": "5ea80263",
   "metadata": {},
   "outputs": [
    {
     "name": "stdout",
     "output_type": "stream",
     "text": [
      "substring found at position 10\n"
     ]
    }
   ],
   "source": [
    "str='This is a jupyter notebook.'\n",
    "sub='jupyter'\n",
    "i=0\n",
    "flag=False\n",
    "n=len(str)\n",
    "\n",
    "while i<n:\n",
    "    p=str.find(sub,i,n)\n",
    "    if p!=-1:\n",
    "        print('substring found at position',p)\n",
    "        i=p+1\n",
    "        flag=True\n",
    "    else:\n",
    "        i=i+1\n",
    "        if flag==False:\n",
    "            print('substring not found')\n",
    "    \n",
    "\n",
    "\n",
    "    "
   ]
  },
  {
   "cell_type": "code",
   "execution_count": null,
   "id": "f84ae734",
   "metadata": {},
   "outputs": [],
   "source": []
  },
  {
   "cell_type": "markdown",
   "id": "e41100ed",
   "metadata": {},
   "source": [
    "Question 19- Write a Python program to convert a date of yyyy-mm-dd format to dd-mm-yyyy format."
   ]
  },
  {
   "cell_type": "code",
   "execution_count": 33,
   "id": "bfc3b91d",
   "metadata": {},
   "outputs": [
    {
     "name": "stdout",
     "output_type": "stream",
     "text": [
      "2023-10-07\n"
     ]
    }
   ],
   "source": [
    "import datetime\n",
    "td=datetime.date.today()\n",
    "print(td)"
   ]
  },
  {
   "cell_type": "code",
   "execution_count": 36,
   "id": "ddc1d05e",
   "metadata": {},
   "outputs": [
    {
     "name": "stdout",
     "output_type": "stream",
     "text": [
      "07-10-2023\n"
     ]
    }
   ],
   "source": [
    "newtd=td.strftime('%d-%m-%Y')\n",
    "print(newtd)"
   ]
  },
  {
   "cell_type": "code",
   "execution_count": null,
   "id": "a66174de",
   "metadata": {},
   "outputs": [],
   "source": []
  },
  {
   "cell_type": "markdown",
   "id": "ee52a91e",
   "metadata": {},
   "source": [
    "Question 20- Create a function in python to find all decimal numbers with a precision of 1 or 2 in a string. The use of the re.compile() method is mandatory."
   ]
  },
  {
   "cell_type": "code",
   "execution_count": 41,
   "id": "d39fe4cf",
   "metadata": {},
   "outputs": [],
   "source": [
    "import re\n",
    "def dec_num(text):\n",
    "    a=re.compile('\\d+\\.\\d{1,2}')\n",
    "    b=a.findall(text)\n",
    "    return(b)"
   ]
  },
  {
   "cell_type": "code",
   "execution_count": 42,
   "id": "6b7deebb",
   "metadata": {},
   "outputs": [
    {
     "data": {
      "text/plain": [
       "['01.12', '0132.12', '2.31', '145.8', '3.01', '27.25', '0.25']"
      ]
     },
     "execution_count": 42,
     "metadata": {},
     "output_type": "execute_result"
    }
   ],
   "source": [
    "dec_num(\"01.12 0132.123 2.31875 145.8 3.01 27.25 0.25\")"
   ]
  },
  {
   "cell_type": "code",
   "execution_count": null,
   "id": "ae4cfd7f",
   "metadata": {},
   "outputs": [],
   "source": []
  },
  {
   "cell_type": "markdown",
   "id": "d4b90091",
   "metadata": {},
   "source": [
    "Question 21- Write a Python program to separate and print the numbers and their position of a given string."
   ]
  },
  {
   "cell_type": "code",
   "execution_count": 10,
   "id": "9e3bf48e",
   "metadata": {},
   "outputs": [
    {
     "name": "stdout",
     "output_type": "stream",
     "text": [
      "['1234', '5678', '8993']\n",
      "position of  1234 is 4\n",
      "position of  5678 is 12\n",
      "position of  8993 is 20\n"
     ]
    }
   ],
   "source": [
    "import re\n",
    "text='abcd1234ghij5678jikl8993'\n",
    "num=re.findall('[0-9]+',text)\n",
    "print(num)\n",
    "for i in num:\n",
    "    p=text.rfind(i)\n",
    "    print('position of ',i,'is',p)"
   ]
  },
  {
   "cell_type": "code",
   "execution_count": null,
   "id": "de29e302",
   "metadata": {},
   "outputs": [],
   "source": []
  },
  {
   "cell_type": "markdown",
   "id": "6c7bcd4f",
   "metadata": {},
   "source": [
    "Question 22- Write a regular expression in python program to extract maximum/largest numeric value from a string."
   ]
  },
  {
   "cell_type": "code",
   "execution_count": 14,
   "id": "f05afec4",
   "metadata": {},
   "outputs": [
    {
     "name": "stdout",
     "output_type": "stream",
     "text": [
      "['947', '896', '926', '524', '734', '950', '642']\n",
      "950\n"
     ]
    }
   ],
   "source": [
    "text='My marks in each semester are: 947, 896, 926, 524, 734, 950, 642'\n",
    "num=re.findall('\\d+',text)\n",
    "print(num)\n",
    "int=map(int,num)\n",
    "print(max(int))"
   ]
  },
  {
   "cell_type": "code",
   "execution_count": null,
   "id": "1512843d",
   "metadata": {},
   "outputs": [],
   "source": []
  },
  {
   "cell_type": "markdown",
   "id": "da116ad4",
   "metadata": {},
   "source": [
    "Question 23- Create a function in python to insert spaces between words starting with capital letters."
   ]
  },
  {
   "cell_type": "code",
   "execution_count": 25,
   "id": "bf12fa47",
   "metadata": {},
   "outputs": [
    {
     "name": "stdout",
     "output_type": "stream",
     "text": [
      "Regular Expression Is An Important Topic In Python "
     ]
    }
   ],
   "source": [
    "text='RegularExpressionIsAnImportantTopicInPython'\n",
    "l=re.findall('[A-Z][a-z]+',text)\n",
    "for i in l:\n",
    "    re.split(' ',i)\n",
    "    print(i,end=' ')"
   ]
  },
  {
   "cell_type": "code",
   "execution_count": null,
   "id": "f1a80d17",
   "metadata": {},
   "outputs": [],
   "source": []
  },
  {
   "cell_type": "markdown",
   "id": "fa43e6d9",
   "metadata": {},
   "source": [
    "Question 24- Python regex to find sequences of one upper case letter followed by lower case letters"
   ]
  },
  {
   "cell_type": "code",
   "execution_count": 66,
   "id": "8f7dd3d4",
   "metadata": {},
   "outputs": [],
   "source": [
    "def match(text):\n",
    "    \n",
    "     a=re.findall('[A-Z][a-z]+',text)\n",
    "     print(a)   "
   ]
  },
  {
   "cell_type": "code",
   "execution_count": 67,
   "id": "c36249a6",
   "metadata": {},
   "outputs": [
    {
     "name": "stdout",
     "output_type": "stream",
     "text": [
      "['This', 'Sample', 'Test']\n"
     ]
    }
   ],
   "source": [
    "match('This is a Sample Test')"
   ]
  },
  {
   "cell_type": "code",
   "execution_count": 68,
   "id": "27da51cc",
   "metadata": {},
   "outputs": [
    {
     "name": "stdout",
     "output_type": "stream",
     "text": [
      "[]\n"
     ]
    }
   ],
   "source": [
    "match('asdBB')"
   ]
  },
  {
   "cell_type": "code",
   "execution_count": 69,
   "id": "69ac886f",
   "metadata": {},
   "outputs": [
    {
     "name": "stdout",
     "output_type": "stream",
     "text": [
      "['Python']\n"
     ]
    }
   ],
   "source": [
    "match(\"Python\")"
   ]
  },
  {
   "cell_type": "markdown",
   "id": "622c95a3",
   "metadata": {},
   "source": [
    "Question 25- Write a Python program to remove continuous duplicate words from Sentence using Regular Expression."
   ]
  },
  {
   "cell_type": "code",
   "execution_count": null,
   "id": "2d2a9471",
   "metadata": {},
   "outputs": [],
   "source": []
  },
  {
   "cell_type": "code",
   "execution_count": null,
   "id": "9f9958fa",
   "metadata": {},
   "outputs": [],
   "source": []
  },
  {
   "cell_type": "code",
   "execution_count": null,
   "id": "a7cd11ce",
   "metadata": {},
   "outputs": [],
   "source": []
  },
  {
   "cell_type": "markdown",
   "id": "49941ccb",
   "metadata": {},
   "source": [
    "Question 26-  Write a python program using RegEx to accept string ending with alphanumeric character."
   ]
  },
  {
   "cell_type": "code",
   "execution_count": 75,
   "id": "7fae2df2",
   "metadata": {},
   "outputs": [],
   "source": [
    "def check(text):\n",
    "    if re.search(\"[A-Za-z0-9]$\",text):\n",
    "        print('Accept')\n",
    "    else:\n",
    "        print('Not accepted')"
   ]
  },
  {
   "cell_type": "code",
   "execution_count": 76,
   "id": "ed692ab4",
   "metadata": {},
   "outputs": [
    {
     "name": "stdout",
     "output_type": "stream",
     "text": [
      "Accept\n"
     ]
    }
   ],
   "source": [
    "check('adh90')"
   ]
  },
  {
   "cell_type": "code",
   "execution_count": 77,
   "id": "14422f4e",
   "metadata": {},
   "outputs": [
    {
     "name": "stdout",
     "output_type": "stream",
     "text": [
      "Not accepted\n"
     ]
    }
   ],
   "source": [
    "check('gdhj$')"
   ]
  },
  {
   "cell_type": "code",
   "execution_count": 78,
   "id": "8cd4b545",
   "metadata": {},
   "outputs": [
    {
     "name": "stdout",
     "output_type": "stream",
     "text": [
      "Accept\n"
     ]
    }
   ],
   "source": [
    "check('ajdf')"
   ]
  },
  {
   "cell_type": "code",
   "execution_count": null,
   "id": "76a8f3b7",
   "metadata": {},
   "outputs": [],
   "source": []
  },
  {
   "cell_type": "markdown",
   "id": "d30de518",
   "metadata": {},
   "source": [
    "Question 27-Write a python program using RegEx to extract the hashtags."
   ]
  },
  {
   "cell_type": "code",
   "execution_count": 79,
   "id": "e839ce3d",
   "metadata": {},
   "outputs": [],
   "source": [
    "def hash(text):\n",
    "   l=re.findall('#\\w+',text)\n",
    "   for hashtag in l:\n",
    "        print('Hashtags are :',hashtag)\n"
   ]
  },
  {
   "cell_type": "code",
   "execution_count": 80,
   "id": "6527bc95",
   "metadata": {},
   "outputs": [
    {
     "name": "stdout",
     "output_type": "stream",
     "text": [
      "Hashtags are : #Doltiwal\n",
      "Hashtags are : #xyzabc\n",
      "Hashtags are : #Demonetization\n"
     ]
    }
   ],
   "source": [
    "hash('\"\"\"RT @kapil_kausik: #Doltiwal I mean #xyzabc is \"hurt\" by #Demonetization as the same has rendered USELESS <ed><U+00A0><U+00BD><ed><U+00B1><U+0089> \"acquired funds\" No wo')"
   ]
  },
  {
   "cell_type": "code",
   "execution_count": null,
   "id": "84dc1822",
   "metadata": {},
   "outputs": [],
   "source": []
  },
  {
   "cell_type": "markdown",
   "id": "2865d1ba",
   "metadata": {},
   "source": [
    "Question 28- Write a python program using RegEx to remove <U+..> like symbols"
   ]
  },
  {
   "cell_type": "code",
   "execution_count": 29,
   "id": "3f9215a2",
   "metadata": {},
   "outputs": [],
   "source": [
    "import re\n",
    "\n",
    "def remove_symbol(text):\n",
    "    pattern =\"<U\\+\\w{4}>\"\n",
    "    cleaned_text = re.sub(pattern,\"\",text)\n",
    "    return cleaned_text"
   ]
  },
  {
   "cell_type": "code",
   "execution_count": 30,
   "id": "54d4d79f",
   "metadata": {},
   "outputs": [
    {
     "data": {
      "text/plain": [
       "'@Jags123456 Bharat band on 28??<ed><ed>Those who  are protesting #demonetization  are all different party leaders'"
      ]
     },
     "execution_count": 30,
     "metadata": {},
     "output_type": "execute_result"
    }
   ],
   "source": [
    "text=\"@Jags123456 Bharat band on 28??<ed><U+00A0><U+00BD><ed><U+00B8><U+0082>Those who  are protesting #demonetization  are all different party leaders\"\n",
    "remove_symbol(text)"
   ]
  },
  {
   "cell_type": "code",
   "execution_count": null,
   "id": "4d8a7c6c",
   "metadata": {},
   "outputs": [],
   "source": []
  },
  {
   "cell_type": "markdown",
   "id": "2291d79c",
   "metadata": {},
   "source": [
    "Question 29- Write a python program to extract dates from the text stored in the text file."
   ]
  },
  {
   "cell_type": "code",
   "execution_count": 34,
   "id": "450c69fd",
   "metadata": {},
   "outputs": [],
   "source": [
    "f=open('dates.txt','r')"
   ]
  },
  {
   "cell_type": "code",
   "execution_count": 35,
   "id": "18d39979",
   "metadata": {},
   "outputs": [
    {
     "data": {
      "text/plain": [
       "': Ron was born on 12-09-1992 and he was admitted to school 15-12-1999.'"
      ]
     },
     "execution_count": 35,
     "metadata": {},
     "output_type": "execute_result"
    }
   ],
   "source": [
    "text=f.read()\n",
    "text"
   ]
  },
  {
   "cell_type": "code",
   "execution_count": 52,
   "id": "2fa24a96",
   "metadata": {},
   "outputs": [
    {
     "data": {
      "text/plain": [
       "['12-09-1992', '15-12-1999']"
      ]
     },
     "execution_count": 52,
     "metadata": {},
     "output_type": "execute_result"
    }
   ],
   "source": [
    "search='(\\d{2}-\\d{2}-\\d{4})'\n",
    "dates=re.findall(search,text)\n",
    "dates\n"
   ]
  },
  {
   "cell_type": "code",
   "execution_count": null,
   "id": "7bfc4918",
   "metadata": {},
   "outputs": [],
   "source": []
  },
  {
   "cell_type": "markdown",
   "id": "baa3a3ad",
   "metadata": {},
   "source": [
    "Question 30- Create a function in python to remove all words from a string of length between 2 and 4.\n",
    "The use of the re.compile() method is mandatory.\n"
   ]
  },
  {
   "cell_type": "code",
   "execution_count": 59,
   "id": "ddc23b43",
   "metadata": {},
   "outputs": [],
   "source": [
    "def remove(text):\n",
    "    rem=re.compile(r'\\W*\\b\\w{1,3}\\b')\n",
    "    after=rem.sub('',text)\n",
    "    print(after)"
   ]
  },
  {
   "cell_type": "code",
   "execution_count": 60,
   "id": "6903529a",
   "metadata": {},
   "outputs": [
    {
     "name": "stdout",
     "output_type": "stream",
     "text": [
      " following example creates ArrayList with capacity elements elements then added ArrayList ArrayList trimmed accordingly.\n"
     ]
    }
   ],
   "source": [
    "text=\"The following example creates an ArrayList with a capacity of 50 elements. 4 elements are then added to the ArrayList and the ArrayList is trimmed accordingly.\"\n",
    "remove(text)"
   ]
  },
  {
   "cell_type": "code",
   "execution_count": null,
   "id": "3e389728",
   "metadata": {},
   "outputs": [],
   "source": []
  }
 ],
 "metadata": {
  "kernelspec": {
   "display_name": "Python 3 (ipykernel)",
   "language": "python",
   "name": "python3"
  },
  "language_info": {
   "codemirror_mode": {
    "name": "ipython",
    "version": 3
   },
   "file_extension": ".py",
   "mimetype": "text/x-python",
   "name": "python",
   "nbconvert_exporter": "python",
   "pygments_lexer": "ipython3",
   "version": "3.10.9"
  }
 },
 "nbformat": 4,
 "nbformat_minor": 5
}
