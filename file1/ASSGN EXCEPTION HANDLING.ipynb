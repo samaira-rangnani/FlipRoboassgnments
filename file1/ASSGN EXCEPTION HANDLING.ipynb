{
 "cells": [
  {
   "cell_type": "code",
   "execution_count": 1,
   "id": "1e3e38e5",
   "metadata": {},
   "outputs": [],
   "source": [
    "import pandas as pd\n",
    "import selenium\n",
    "import time\n",
    "from bs4 import BeautifulSoup as bs\n",
    "\n",
    "from  selenium import webdriver\n",
    "from selenium.webdriver.common.by import By\n",
    "from selenium.webdriver.support import expected_conditions as ec\n",
    "from selenium.webdriver.support.ui import WebDriverWait\n",
    "from selenium.common.exceptions import StaleElementReferenceException\n",
    "from selenium.common.exceptions import NoSuchElementException\n",
    "\n",
    "\n",
    "import requests\n",
    "\n",
    "import warnings\n",
    "warnings.filterwarnings('ignore')"
   ]
  },
  {
   "cell_type": "code",
   "execution_count": null,
   "id": "1b8ed516",
   "metadata": {},
   "outputs": [],
   "source": []
  },
  {
   "cell_type": "markdown",
   "id": "eeeebfff",
   "metadata": {},
   "source": [
    "# 1. Write a python program which searches all the product under a particular product from www.amazon.in. The \n",
    "product to be searched will be taken as input from user. For e.g. If user input is ‘guitar’. Then search for \n",
    "guitars. "
   ]
  },
  {
   "cell_type": "code",
   "execution_count": 2,
   "id": "93c8bf38",
   "metadata": {},
   "outputs": [],
   "source": [
    "#Getting driver\n",
    "driver=webdriver.Chrome()"
   ]
  },
  {
   "cell_type": "code",
   "execution_count": 3,
   "id": "ca87955c",
   "metadata": {},
   "outputs": [],
   "source": [
    "#fetching url\n",
    "driver.get('http://www.amazon.in/')"
   ]
  },
  {
   "cell_type": "code",
   "execution_count": 4,
   "id": "38c6e491",
   "metadata": {},
   "outputs": [
    {
     "name": "stdout",
     "output_type": "stream",
     "text": [
      "Enter the product to be serachedguitar\n"
     ]
    }
   ],
   "source": [
    "#searching for desired product\n",
    "user_ip=input('Enter the product to be serached')+'s'\n",
    "product=driver.find_element(By.XPATH,'/html/body/div[1]/header/div/div[1]/div[2]/div/form/div[2]/div[1]/input')\n",
    "product.send_keys(user_ip)"
   ]
  },
  {
   "cell_type": "code",
   "execution_count": 5,
   "id": "2cd673f5",
   "metadata": {},
   "outputs": [],
   "source": [
    "#clicking on serach\n",
    "search=driver.find_element(By.XPATH,'/html/body/div[1]/header/div/div[1]/div[2]/div/form/div[3]/div/span/input')\n",
    "search.click()"
   ]
  },
  {
   "cell_type": "code",
   "execution_count": 6,
   "id": "976254a1",
   "metadata": {},
   "outputs": [],
   "source": [
    "driver.maximize_window()"
   ]
  },
  {
   "cell_type": "code",
   "execution_count": null,
   "id": "0a12241e",
   "metadata": {},
   "outputs": [],
   "source": []
  },
  {
   "cell_type": "markdown",
   "id": "c4d96c03",
   "metadata": {},
   "source": [
    "# 2. In the above question, now scrape the following details of each product listed in first 3 pages of your search \n",
    "results and save it in a data frame and csv. In case if any product has less than 3 pages in search results then \n",
    "scrape all the products available under that product name. Details to be scraped are: \"Brand \n",
    "Name\", \"Name of the Product\", \"Price\", \"Return/Exchange\", \"Expected Delivery\", \"Availability\" and \n",
    "“Product URL”. In case, if any of the details are missing for any of the product then replace it by “-“. "
   ]
  },
  {
   "cell_type": "code",
   "execution_count": 7,
   "id": "ab0db156",
   "metadata": {},
   "outputs": [],
   "source": [
    "#getting the required data in the lists\n",
    "brand_name=[]\n",
    "name_of_the_product=[]\n",
    "price=[]\n",
    "return_exchange=[]\n",
    "expected_delivery=[]\n",
    "availability=[]\n",
    "url=[]"
   ]
  },
  {
   "cell_type": "code",
   "execution_count": 8,
   "id": "5697da09",
   "metadata": {},
   "outputs": [],
   "source": [
    "#fetching url from pages\n",
    "for pages in range(3):\n",
    "   \n",
    "    urltag=driver.find_elements(By.XPATH,'//a[@class=\"a-link-normal s-underline-text s-underline-link-text s-link-style a-text-normal\"]')\n",
    "    for i in urltag:\n",
    "            url.append(i.get_attribute('href'))\n",
    "            \n",
    "    ##finding nextpage\n",
    "    try:\n",
    "        np=driver.find_element(By.XPATH,'//a[@class=\"s-pagination-item s-pagination-next s-pagination-button s-pagination-separator\"]')\n",
    "        np.click()\n",
    "        time.sleep(2)\n",
    "    except StaleElementReferenceException:\n",
    "        break\n",
    "   "
   ]
  },
  {
   "cell_type": "code",
   "execution_count": 9,
   "id": "1e88d0f4",
   "metadata": {},
   "outputs": [
    {
     "name": "stdout",
     "output_type": "stream",
     "text": [
      "181 ['https://www.amazon.in/sspa/click?ie=UTF8&spc=MTo0MDg3ODk2NTE4ODIxNjgxOjE2OTk4NDk1NTU6c3BfYXRmOjMwMDA3MzAzMTY2NTUzMjo6MDo6&url=%2FMedellin-Acoustic-Guitar-learning-course%2Fdp%2FB0CGRX6ZMF%2Fref%3Dsr_1_1_sspa%3Fcrid%3D3FTRNF1QYTPLN%26keywords%3Dguitars%26qid%3D1699849555%26sprefix%3Dguitars%252Caps%252C376%26sr%3D8-1-spons%26sp_csd%3Dd2lkZ2V0TmFtZT1zcF9hdGY%26psc%3D1', 'https://www.amazon.in/sspa/click?ie=UTF8&spc=MTo0MDg3ODk2NTE4ODIxNjgxOjE2OTk4NDk1NTU6c3BfYXRmOjMwMDAyMjkzODAyNjEzMjo6MDo6&url=%2FKadence-Professional-Acoustic-Rosewood-Natural%2Fdp%2FB0CC927DLN%2Fref%3Dsr_1_2_sspa%3Fcrid%3D3FTRNF1QYTPLN%26keywords%3Dguitars%26qid%3D1699849555%26sprefix%3Dguitars%252Caps%252C376%26sr%3D8-2-spons%26sp_csd%3Dd2lkZ2V0TmFtZT1zcF9hdGY%26psc%3D1', 'https://www.amazon.in/sspa/click?ie=UTF8&spc=MTo0MDg3ODk2NTE4ODIxNjgxOjE2OTk4NDk1NTU6c3BfYXRmOjMwMDAzMTMyOTU5MDczMjo6MDo6&url=%2FKadence-A281BK-Professional-Acoustic-Rosewood%2Fdp%2FB0CD7D6C6R%2Fref%3Dsr_1_3_sspa%3Fcrid%3D3FTRNF1QYTPLN%26keywords%3Dguitars%26qid%3D1699849555%26sprefix%3Dguitars%252Caps%252C376%26sr%3D8-3-spons%26sp_csd%3Dd2lkZ2V0TmFtZT1zcF9hdGY%26psc%3D1', 'https://www.amazon.in/sspa/click?ie=UTF8&spc=MTo0MDg3ODk2NTE4ODIxNjgxOjE2OTk4NDk1NTU6c3BfYXRmOjMwMDAxNTUzNzk3OTIzMjo6MDo6&url=%2FKadence-Frontier-Acoustic-Guitar-Strings%2Fdp%2FB078GTJP5Y%2Fref%3Dsr_1_4_sspa%3Fcrid%3D3FTRNF1QYTPLN%26keywords%3Dguitars%26qid%3D1699849555%26sprefix%3Dguitars%252Caps%252C376%26sr%3D8-4-spons%26sp_csd%3Dd2lkZ2V0TmFtZT1zcF9hdGY%26psc%3D1', 'https://www.amazon.in/Juarez-Acoustic-Cutaway-038C-Strings/dp/B017NPCSLI/ref=sr_1_5?crid=3FTRNF1QYTPLN&keywords=guitars&qid=1699849555&sprefix=guitars%2Caps%2C376&sr=8-5', 'https://www.amazon.in/JUAREZ-JRZ38C-Acoustic-Sunburst-Strings/dp/B01FYYTDTU/ref=sr_1_6?crid=3FTRNF1QYTPLN&keywords=guitars&qid=1699849555&sprefix=guitars%2Caps%2C376&sr=8-6', 'https://www.amazon.in/Henrix-Cutaway-Acoustic-Die-cast-Dual-action/dp/B07VHSCGCG/ref=sr_1_7?crid=3FTRNF1QYTPLN&keywords=guitars&qid=1699849555&sprefix=guitars%2Caps%2C376&sr=8-7', 'https://aax-eu.amazon.in/x/c/RCRJBcWTwDHFDiKUfP9r_-8AAAGLxu3NZwMAAAH2AQBvbm9fdHhuX2JpZDEgICBvbm9fdHhuX2ltcDEgICBHgEfH/https://www.amazon.in/Kadence-Acoustica-Ash-Wood-Equlizer/dp/B0757H5P13/ref=sxin_17_sbv_search_btf?content-id=amzn1.sym.10447c6b-3f84-4df3-b999-01a8bbbf010e%3Aamzn1.sym.10447c6b-3f84-4df3-b999-01a8bbbf010e&crid=3FTRNF1QYTPLN&cv_ct_cx=guitars&keywords=guitars&pd_rd_i=B0757H5P13&pd_rd_r=e2f52c75-1437-4408-ba46-5c6df28d082d&pd_rd_w=kWKZ3&pd_rd_wg=67MeM&pf_rd_p=10447c6b-3f84-4df3-b999-01a8bbbf010e&pf_rd_r=49646VA3GEXVM8E8T0DK&qid=1699849555&sbo=RZvfv%2F%2FHxDF%2BO5021pAnSA%3D%3D&sprefix=guitars%2Caps%2C376&sr=1-1-b614a050-8d70-4320-9c19-cc457ab2a351', 'https://www.amazon.in/Kadence-Frontier-Acoustic-Guitar-Strings/dp/B078GTJP5Y/ref=sr_1_8?crid=3FTRNF1QYTPLN&keywords=guitars&qid=1699849555&sprefix=guitars%2Caps%2C376&sr=8-8', 'https://www.amazon.in/JRZ-ST01-6-String-Electric-Sunburst-Without/dp/B01FYZSOEE/ref=sr_1_9?crid=3FTRNF1QYTPLN&keywords=guitars&qid=1699849555&sprefix=guitars%2Caps%2C376&sr=8-9', 'https://www.amazon.in/JUAREZ-JRZ38C-Acoustic-Sunburst-Strings/dp/B01FYYTDS6/ref=sr_1_10?crid=3FTRNF1QYTPLN&keywords=guitars&qid=1699849555&sprefix=guitars%2Caps%2C376&sr=8-10', 'https://www.amazon.in/Intern-INT-38C-Acoustic-Guitar-Blue/dp/B073B5RZBV/ref=sr_1_11?crid=3FTRNF1QYTPLN&keywords=guitars&qid=1699849555&sprefix=guitars%2Caps%2C376&sr=8-11', 'https://www.amazon.in/Kadence-Frontier-Acoustic-Guitar-Strings/dp/B01GDZ46AA/ref=sr_1_12?crid=3FTRNF1QYTPLN&keywords=guitars&qid=1699849555&sprefix=guitars%2Caps%2C376&sr=8-12', 'https://www.amazon.in/Yamaha-F280-Acoustic-Guitar-Natural/dp/B08317Y4VP/ref=sr_1_13?crid=3FTRNF1QYTPLN&keywords=guitars&qid=1699849555&sprefix=guitars%2Caps%2C376&sr=8-13', 'https://www.amazon.in/JRZ38C-VTS-Strings-Acoustic-Cutaway/dp/B072MFLQC9/ref=sr_1_14?crid=3FTRNF1QYTPLN&keywords=guitars&qid=1699849555&sprefix=guitars%2Caps%2C376&sr=8-14', 'https://www.amazon.in/Intern-38-inch-Cutaway-Design-Acoustic/dp/B07X4PN85R/ref=sr_1_15?crid=3FTRNF1QYTPLN&keywords=guitars&qid=1699849555&sprefix=guitars%2Caps%2C376&sr=8-15', 'https://www.amazon.in/Kadence-Slowhand-Premium-Acoustic-Instrument/dp/B077SZ667X/ref=sr_1_16?crid=3FTRNF1QYTPLN&keywords=guitars&qid=1699849555&sprefix=guitars%2Caps%2C376&sr=8-16', 'https://www.amazon.in/Yamaha-Acoustic-Guitar-Tobacco-Sunburst/dp/B08VXR74Q2/ref=sr_1_17?crid=3FTRNF1QYTPLN&keywords=guitars&qid=1699849555&sprefix=guitars%2Caps%2C376&sr=8-17', 'https://www.amazon.in/JUAREZ-JRZ38C-TBLSNA/dp/B0BCQKQ6CS/ref=sr_1_18?crid=3FTRNF1QYTPLN&keywords=guitars&qid=1699849555&sprefix=guitars%2Caps%2C376&sr=8-18', 'https://www.amazon.in/Kadence-Acoustica-Acoustic-Guitar-Zebra/dp/B07KXNKLJ2/ref=sr_1_19?crid=3FTRNF1QYTPLN&keywords=guitars&qid=1699849555&sprefix=guitars%2Caps%2C376&sr=8-19', 'https://www.amazon.in/Lindenwood-Cutaway-Acoustic-Plectrums-sunburst/dp/B085HV4YW7/ref=sr_1_20?crid=3FTRNF1QYTPLN&keywords=guitars&qid=1699849555&sprefix=guitars%2Caps%2C376&sr=8-20', 'https://www.amazon.in/sspa/click?ie=UTF8&spc=MTo0MDg3ODk2NTE4ODIxNjgxOjE2OTk4NDk1NTU6c3BfbXRmOjIwMDg4NDY1OTQ5NDA0OjowOjo&url=%2FHenrix-Cutaway-Acoustic-Die-cast-Dual-action%2Fdp%2FB07VHSCGCG%2Fref%3Dsr_1_21_sspa%3Fcrid%3D3FTRNF1QYTPLN%26keywords%3Dguitars%26qid%3D1699849555%26sprefix%3Dguitars%252Caps%252C376%26sr%3D8-21-spons%26sp_csd%3Dd2lkZ2V0TmFtZT1zcF9tdGY%26psc%3D1', 'https://www.amazon.in/sspa/click?ie=UTF8&spc=MTo0MDg3ODk2NTE4ODIxNjgxOjE2OTk4NDk1NTU6c3BfbXRmOjIwMDU3MTkzMDU2MjA0OjowOjo&url=%2FKadence-Slowhand-Premium-Acoustic-Instrument%2Fdp%2FB077SZ667X%2Fref%3Dsr_1_22_sspa%3Fcrid%3D3FTRNF1QYTPLN%26keywords%3Dguitars%26qid%3D1699849555%26sprefix%3Dguitars%252Caps%252C376%26sr%3D8-22-spons%26sp_csd%3Dd2lkZ2V0TmFtZT1zcF9tdGY%26psc%3D1', 'https://www.amazon.in/sspa/click?ie=UTF8&spc=MTo0MDg3ODk2NTE4ODIxNjgxOjE2OTk4NDk1NTU6c3BfbXRmOjIwMDk2NjA4NzUwNDk4OjowOjo&url=%2FKadence-Frontier-Acoustic-Guitar-Strings%2Fdp%2FB01GDZ46AA%2Fref%3Dsr_1_23_sspa%3Fcrid%3D3FTRNF1QYTPLN%26keywords%3Dguitars%26qid%3D1699849555%26sprefix%3Dguitars%252Caps%252C376%26sr%3D8-23-spons%26sp_csd%3Dd2lkZ2V0TmFtZT1zcF9tdGY%26psc%3D1', 'https://www.amazon.in/sspa/click?ie=UTF8&spc=MTo0MDg3ODk2NTE4ODIxNjgxOjE2OTk4NDk1NTU6c3BfbXRmOjMwMDA3OTkxODM2NzczMjo6MDo6&url=%2FAcoustic-Beginner-Acustica-Guitarra-Packaging%2Fdp%2FB09JNTBFMC%2Fref%3Dsr_1_24_sspa%3Fcrid%3D3FTRNF1QYTPLN%26keywords%3Dguitars%26qid%3D1699849555%26sprefix%3Dguitars%252Caps%252C376%26sr%3D8-24-spons%26sp_csd%3Dd2lkZ2V0TmFtZT1zcF9tdGY%26psc%3D1', 'https://www.amazon.in/Rosewood-Fretboard-Acoustic-Strings-K-Retail/dp/B07KLG8C4P/ref=sr_1_25?crid=3FTRNF1QYTPLN&keywords=guitars&qid=1699849555&sprefix=guitars%2Caps%2C376&sr=8-25', 'https://www.amazon.in/Ju%C3%A2rez-JRZ38C-WH-Strings-Acoustic/dp/B072MFK4L6/ref=sr_1_26?crid=3FTRNF1QYTPLN&keywords=guitars&qid=1699849555&sprefix=guitars%2Caps%2C376&sr=8-26', 'https://www.amazon.in/JUAREZ-JRZ38C-Acoustic-Natural-Strings/dp/B01FYYTDWC/ref=sr_1_27?crid=3FTRNF1QYTPLN&keywords=guitars&qid=1699849555&sprefix=guitars%2Caps%2C376&sr=8-27', 'https://www.amazon.in/Yamaha-FS-100C-6-String-Acoustic-without/dp/B00PAS9CK6/ref=sr_1_28?crid=3FTRNF1QYTPLN&keywords=guitars&qid=1699849555&sprefix=guitars%2Caps%2C376&sr=8-28', 'https://www.amazon.in/Intern-Acoustic-Steel-string-plectrums-INT-38C-WH/dp/B09LR94Z2X/ref=sr_1_29?crid=3FTRNF1QYTPLN&keywords=guitars&qid=1699849555&sprefix=guitars%2Caps%2C376&sr=8-29', 'https://www.amazon.in/Intern-INT-38C-NT-G-Guitar-Kit-Natural/dp/B07K9MZZH9/ref=sr_1_30?crid=3FTRNF1QYTPLN&keywords=guitars&qid=1699849555&sprefix=guitars%2Caps%2C376&sr=8-30', 'https://www.amazon.in/Yamaha-Classical-Guitar-C40-02/dp/B003UGCUFE/ref=sr_1_31?crid=3FTRNF1QYTPLN&keywords=guitars&qid=1699849555&sprefix=guitars%2Caps%2C376&sr=8-31', 'https://www.amazon.in/Ultimate-Concert-Cutaway-Acoustic-Bajaao/dp/B08WHWKKV5/ref=sr_1_32?crid=3FTRNF1QYTPLN&keywords=guitars&qid=1699849555&sprefix=guitars%2Caps%2C376&sr=8-32', 'https://www.amazon.in/Juarez-Acoustic-Guitar-Cutaway-Strings/dp/B076QHZ4HZ/ref=sr_1_33?crid=3FTRNF1QYTPLN&keywords=guitars&qid=1699849555&sprefix=guitars%2Caps%2C376&sr=8-33', 'https://www.amazon.in/Intern-INT-38C-BK-G-Guitar-Kit-Black/dp/B07K9497RC/ref=sr_1_34?crid=3FTRNF1QYTPLN&keywords=guitars&qid=1699849555&sprefix=guitars%2Caps%2C376&sr=8-34', 'https://www.amazon.in/JUAREZ-JRZ38C-BKNA/dp/B0BCQNVPRB/ref=sr_1_35?crid=3FTRNF1QYTPLN&keywords=guitars&qid=1699849555&sprefix=guitars%2Caps%2C376&sr=8-35', 'https://www.amazon.in/JUAREZ-JRZ38C-3TSNA/dp/B0BCQQRDF3/ref=sr_1_36?crid=3FTRNF1QYTPLN&keywords=guitars&qid=1699849555&sprefix=guitars%2Caps%2C376&sr=8-36', 'https://www.amazon.in/Yamaha-F310-6-Strings-Acoustic-Natural/dp/B000RVYW7E/ref=sr_1_37?crid=3FTRNF1QYTPLN&keywords=guitars&qid=1699849555&sprefix=guitars%2Caps%2C376&sr=8-37', 'https://www.amazon.in/YAMAHA-FS80C-CONCERT-CUTAWAY-GUITAR/dp/B08WBBVMVJ/ref=sr_1_38?crid=3FTRNF1QYTPLN&keywords=guitars&qid=1699849555&sprefix=guitars%2Caps%2C376&sr=8-38', 'https://www.amazon.in/Dreadnought-Acoustic-Gig-Bag-Strings-Polishing/dp/B0BJJRJVHY/ref=sr_1_39?crid=3FTRNF1QYTPLN&keywords=guitars&qid=1699849555&sprefix=guitars%2Caps%2C376&sr=8-39', 'https://www.amazon.in/Blueberry-B-D38-Acoustic-Inbuilt-Strings/dp/B07PGV8VCB/ref=sr_1_40?crid=3FTRNF1QYTPLN&keywords=guitars&qid=1699849555&sprefix=guitars%2Caps%2C376&sr=8-40', 'https://www.amazon.in/Kadence-Dreadnought-Acoustic-Guitar-learning/dp/B0CH8G45XP/ref=sr_1_41?crid=3FTRNF1QYTPLN&keywords=guitars&qid=1699849555&sprefix=guitars%2Caps%2C376&sr=8-41', 'https://www.amazon.in/Kadence-Astro-Electric-Guitar-FRETS/dp/B09YHPH1MZ/ref=sr_1_42?crid=3FTRNF1QYTPLN&keywords=guitars&qid=1699849555&sprefix=guitars%2Caps%2C376&sr=8-42', 'https://www.amazon.in/JUAREZ-JRZ38C-Handed-Acoustic-Strings/dp/B01FYYTDW2/ref=sr_1_43?crid=3FTRNF1QYTPLN&keywords=guitars&qid=1699849555&sprefix=guitars%2Caps%2C376&sr=8-43', 'https://www.amazon.in/Juarez-Acoustic-Cutaway-BK-Strings/dp/B076T3RHMG/ref=sr_1_44?crid=3FTRNF1QYTPLN&keywords=guitars&qid=1699849555&sprefix=guitars%2Caps%2C376&sr=8-44', 'https://www.amazon.in/Yamaha-FSX80C-Acoustic-Cutaway-Natural/dp/B09HL3GFZF/ref=sr_1_45?crid=3FTRNF1QYTPLN&keywords=guitars&qid=1699849555&sprefix=guitars%2Caps%2C376&sr=8-45', 'https://www.amazon.in/Strings-Straps-String-winder-Polishing/dp/B07RV9FJ2Z/ref=sr_1_46?crid=3FTRNF1QYTPLN&keywords=guitars&qid=1699849555&sprefix=guitars%2Caps%2C376&sr=8-46', 'https://www.amazon.in/YAMAHA-NATURAL-CONCERT-CUTAWAY-GUITAR/dp/B08KW4DRKL/ref=sr_1_47?crid=3FTRNF1QYTPLN&keywords=guitars&qid=1699849555&sprefix=guitars%2Caps%2C376&sr=8-47', 'https://www.amazon.in/Intern-INT-38C-Brown-Acoustic-Guitar/dp/B07X2HV158/ref=sr_1_48?crid=3FTRNF1QYTPLN&keywords=guitars&qid=1699849555&sprefix=guitars%2Caps%2C376&sr=8-48', 'https://www.amazon.in/WOODEN-Guitar-Beginner-Adults-Starter/dp/B0C816MJ4Y/ref=sr_1_49?crid=3FTRNF1QYTPLN&keywords=guitars&qid=1699849555&sprefix=guitars%2Caps%2C376&sr=8-49', 'https://www.amazon.in/Fender-0930307021-SA-105CE-Dreadnought-Electric/dp/B009X3PLRC/ref=sr_1_50?crid=3FTRNF1QYTPLN&keywords=guitars&qid=1699849555&sprefix=guitars%2Caps%2C376&sr=8-50', 'https://www.amazon.in/Tagima-Junior-Inch-Acoustic-Guitar/dp/B0BTBWJTGH/ref=sr_1_51?crid=3FTRNF1QYTPLN&keywords=guitars&qid=1699849555&sprefix=guitars%2Caps%2C376&sr=8-51', 'https://www.amazon.in/Intern-INT-38C-Acoustic-Guitar-Kit/dp/B073B6TF31/ref=sr_1_52?crid=3FTRNF1QYTPLN&keywords=guitars&qid=1699849555&sprefix=guitars%2Caps%2C376&sr=8-52', 'https://www.amazon.in/Fender-FA-125CE-Dreadnought-Fingerboard-Natural/dp/B07R16NMKH/ref=sr_1_53?crid=3FTRNF1QYTPLN&keywords=guitars&qid=1699849555&sprefix=guitars%2Caps%2C376&sr=8-53', 'https://www.amazon.in/Kadence-Acoustica-Ash-Wood-Equlizer/dp/B0757H5P13/ref=sr_1_54?crid=3FTRNF1QYTPLN&keywords=guitars&qid=1699849555&sprefix=guitars%2Caps%2C376&sr=8-54', 'https://www.amazon.in/Kadence-Professional-Acoustic-Rosewood-Natural/dp/B0CC927DLN/ref=sr_1_55?crid=3FTRNF1QYTPLN&keywords=guitars&qid=1699849555&sprefix=guitars%2Caps%2C376&sr=8-55', 'https://www.amazon.in/Kadence-Frontier-Acoustic-Equalizer-Strings/dp/B01HRIHH9E/ref=sr_1_56?crid=3FTRNF1QYTPLN&keywords=guitars&qid=1699849555&sprefix=guitars%2Caps%2C376&sr=8-56', 'https://www.amazon.in/sspa/click?ie=UTF8&spc=MTo0MDg3ODk2NTE4ODIxNjgxOjE2OTk4NDk1NTU6c3BfYnRmOjIwMDkyNjI0MDIxNTk4OjowOjo&url=%2FDreadnought-Acoustic-Gig-Bag-Strings-Polishing%2Fdp%2FB0BJJRJVHY%2Fref%3Dsr_1_57_sspa%3Fcrid%3D3FTRNF1QYTPLN%26keywords%3Dguitars%26qid%3D1699849555%26sprefix%3Dguitars%252Caps%252C376%26sr%3D8-57-spons%26sp_csd%3Dd2lkZ2V0TmFtZT1zcF9idGY%26psc%3D1', 'https://www.amazon.in/sspa/click?ie=UTF8&spc=MTo0MDg3ODk2NTE4ODIxNjgxOjE2OTk4NDk1NTU6c3BfYnRmOjMwMDAwNzUxNTg2ODgzMjo6MDo6&url=%2FVault-Compressor-Guitar-Effect-Pedal%2Fdp%2FB0C9WRYJK8%2Fref%3Dsr_1_58_sspa%3Fcrid%3D3FTRNF1QYTPLN%26keywords%3Dguitars%26qid%3D1699849555%26sprefix%3Dguitars%252Caps%252C376%26sr%3D8-58-spons%26sp_csd%3Dd2lkZ2V0TmFtZT1zcF9idGY%26psc%3D1', 'https://www.amazon.in/sspa/click?ie=UTF8&spc=MTo0MDg3ODk2NTE4ODIxNjgxOjE2OTk4NDk1NTU6c3BfYnRmOjMwMDA5MDQ5NTQyMTkzMjo6MDo6&url=%2FImaginea-Beginners-instrument-Accessories-Bohemian-Belt%2Fdp%2FB0CMXD4S8M%2Fref%3Dsr_1_59_sspa%3Fcrid%3D3FTRNF1QYTPLN%26keywords%3Dguitars%26qid%3D1699849555%26sprefix%3Dguitars%252Caps%252C376%26sr%3D8-59-spons%26sp_csd%3Dd2lkZ2V0TmFtZT1zcF9idGY%26psc%3D1', 'https://www.amazon.in/sspa/click?ie=UTF8&spc=MTo0MDg3ODk2NTE4ODIxNjgxOjE2OTk4NDk1NTU6c3BfYnRmOjIwMDc4MzM2ODg1Nzk4OjowOjo&url=%2FFestra-Trussrod-Acoustic-Strings-Classic%2Fdp%2FB09VLF711S%2Fref%3Dsr_1_60_sspa%3Fcrid%3D3FTRNF1QYTPLN%26keywords%3Dguitars%26qid%3D1699849555%26sprefix%3Dguitars%252Caps%252C376%26sr%3D8-60-spons%26sp_csd%3Dd2lkZ2V0TmFtZT1zcF9idGY%26psc%3D1', 'https://www.amazon.in/sspa/click?ie=UTF8&spc=MTo2ODM1Nzc0Mzc1MDY2ODE6MTY5OTg0OTYxMDpzcF9hdGZfbmV4dDozMDAwMzEzMjk1OTA3MzI6OjA6Og&url=%2FKadence-A281BK-Professional-Acoustic-Rosewood%2Fdp%2FB0CD7D6C6R%2Fref%3Dsr_1_49_sspa%3Fcrid%3D3FTRNF1QYTPLN%26keywords%3Dguitars%26qid%3D1699849610%26sprefix%3Dguitars%252Caps%252C376%26sr%3D8-49-spons%26sp_csd%3Dd2lkZ2V0TmFtZT1zcF9hdGZfbmV4dA%26psc%3D1', 'https://www.amazon.in/sspa/click?ie=UTF8&spc=MTo2ODM1Nzc0Mzc1MDY2ODE6MTY5OTg0OTYxMDpzcF9hdGZfbmV4dDozMDAwMjI5MzgwMjYxMzI6OjA6Og&url=%2FKadence-Professional-Acoustic-Rosewood-Natural%2Fdp%2FB0CC927DLN%2Fref%3Dsr_1_50_sspa%3Fcrid%3D3FTRNF1QYTPLN%26keywords%3Dguitars%26qid%3D1699849610%26sprefix%3Dguitars%252Caps%252C376%26sr%3D8-50-spons%26sp_csd%3Dd2lkZ2V0TmFtZT1zcF9hdGZfbmV4dA%26psc%3D1', 'https://www.amazon.in/sspa/click?ie=UTF8&spc=MTo2ODM1Nzc0Mzc1MDY2ODE6MTY5OTg0OTYxMDpzcF9hdGZfbmV4dDoyMDA1NzE5MzA1NjIwNDo6MDo6&url=%2FKadence-Slowhand-Premium-Acoustic-Instrument%2Fdp%2FB077SZ667X%2Fref%3Dsr_1_51_sspa%3Fcrid%3D3FTRNF1QYTPLN%26keywords%3Dguitars%26qid%3D1699849610%26sprefix%3Dguitars%252Caps%252C376%26sr%3D8-51-spons%26sp_csd%3Dd2lkZ2V0TmFtZT1zcF9hdGZfbmV4dA%26psc%3D1', 'https://www.amazon.in/sspa/click?ie=UTF8&spc=MTo2ODM1Nzc0Mzc1MDY2ODE6MTY5OTg0OTYxMDpzcF9hdGZfbmV4dDoyMDA4ODQ2NTk0OTQwNDo6MDo6&url=%2FHenrix-Cutaway-Acoustic-Die-cast-Dual-action%2Fdp%2FB07VHSCGCG%2Fref%3Dsr_1_52_sspa%3Fcrid%3D3FTRNF1QYTPLN%26keywords%3Dguitars%26qid%3D1699849610%26sprefix%3Dguitars%252Caps%252C376%26sr%3D8-52-spons%26sp_csd%3Dd2lkZ2V0TmFtZT1zcF9hdGZfbmV4dA%26psc%3D1', 'https://www.amazon.in/PS-Signature-Acoustic-Natural-Strings/dp/B0CFYS6Q7Q/ref=sr_1_53?crid=3FTRNF1QYTPLN&keywords=guitars&qid=1699849610&sprefix=guitars%2Caps%2C376&sr=8-53', 'https://www.amazon.in/Intern-INT-38C-Acoustic-Guitar-Purple/dp/B073B4CT2F/ref=sr_1_54?crid=3FTRNF1QYTPLN&keywords=guitars&qid=1699849610&sprefix=guitars%2Caps%2C376&sr=8-54', 'https://www.amazon.in/JUAREZ-Electric-Guitar-Handed-Sunburst/dp/B0758HTV7R/ref=sr_1_55?crid=3FTRNF1QYTPLN&keywords=guitars&qid=1699849610&sprefix=guitars%2Caps%2C376&sr=8-55', 'https://www.amazon.in/Cort-AD810-Dreadnought-Acoustic-Guitar/dp/B07G4CB8FQ/ref=sr_1_56?crid=3FTRNF1QYTPLN&keywords=guitars&qid=1699849610&sprefix=guitars%2Caps%2C376&sr=8-56', 'https://www.amazon.in/Ibanez-MD39C-NT-Cutaway-Acoustic-Polishing/dp/B084BQJCP8/ref=sr_1_57?crid=3FTRNF1QYTPLN&keywords=guitars&qid=1699849610&sprefix=guitars%2Caps%2C376&sr=8-57', 'https://www.amazon.in/Fender-String-Cutaway-Acoustic-Guitar/dp/B07YX5W8MV/ref=sr_1_58?crid=3FTRNF1QYTPLN&keywords=guitars&qid=1699849610&sprefix=guitars%2Caps%2C376&sr=8-58', 'https://www.amazon.in/Yamaha-FSX80C-Acoustic-Cutaway-Guitar/dp/B09HL5WFDX/ref=sr_1_49?crid=3FTRNF1QYTPLN&keywords=guitars&qid=1699849610&sprefix=guitars%2Caps%2C376&sr=8-49', 'https://www.amazon.in/AAR-Store-Classical-Instrument-inch_Multicolor/dp/B0CF1MTX6L/ref=sr_1_50?crid=3FTRNF1QYTPLN&keywords=guitars&qid=1699849610&sprefix=guitars%2Caps%2C376&sr=8-50', 'https://www.amazon.in/Traveller-Acoustic-Guitar-Strings-Polishing/dp/B07RK9962M/ref=sr_1_51?crid=3FTRNF1QYTPLN&keywords=guitars&qid=1699849610&sprefix=guitars%2Caps%2C376&sr=8-51', 'https://www.amazon.in/Intern-INT-38C-BLS-G-Guitar-Kit-Blue/dp/B07K8YXTNW/ref=sr_1_52?crid=3FTRNF1QYTPLN&keywords=guitars&qid=1699849610&sprefix=guitars%2Caps%2C376&sr=8-52', 'https://www.amazon.in/Yamaha-F280-Acoustic-Dreadnought-Plectrum/dp/B08VN2V5V3/ref=sr_1_53?crid=3FTRNF1QYTPLN&keywords=guitars&qid=1699849610&sprefix=guitars%2Caps%2C376&sr=8-53', 'https://www.amazon.in/Ibanez-IBA-MD39CNT-Acoustic-Guitar-MD39C-NT/dp/B07G4CCMYL/ref=sr_1_54?crid=3FTRNF1QYTPLN&keywords=guitars&qid=1699849610&sprefix=guitars%2Caps%2C376&sr=8-54', 'https://www.amazon.in/Yamaha-Acoustic-Guitar-Natural-Bajaao/dp/B08RMP2F6Z/ref=sr_1_55?crid=3FTRNF1QYTPLN&keywords=guitars&qid=1699849610&sprefix=guitars%2Caps%2C376&sr=8-55', 'https://www.amazon.in/Kadence-Frontier-Acoustic-Sunburst-Strings/dp/B07T5DMPZ3/ref=sr_1_56?crid=3FTRNF1QYTPLN&keywords=guitars&qid=1699849610&sprefix=guitars%2Caps%2C376&sr=8-56', 'https://www.amazon.in/Fender-Dread-String-Acoustic-Guitar/dp/B07RL6VG3H/ref=sr_1_57?crid=3FTRNF1QYTPLN&keywords=guitars&qid=1699849610&sprefix=guitars%2Caps%2C376&sr=8-57', 'https://www.amazon.in/DAddario-EJ26-Acoustic-Custom-Strings/dp/B0002H0A3S/ref=sr_1_58?crid=3FTRNF1QYTPLN&keywords=guitars&qid=1699849610&sprefix=guitars%2Caps%2C376&sr=8-58', 'https://www.amazon.in/sspa/click?ie=UTF8&spc=MTo2ODM1Nzc0Mzc1MDY2ODE6MTY5OTg0OTYxMDpzcF9tdGY6MjAwOTY2MDg3NTA0OTg6OjA6Og&url=%2FKadence-Frontier-Acoustic-Guitar-Strings%2Fdp%2FB01GDZ46AA%2Fref%3Dsr_1_59_sspa%3Fcrid%3D3FTRNF1QYTPLN%26keywords%3Dguitars%26qid%3D1699849610%26sprefix%3Dguitars%252Caps%252C376%26sr%3D8-59-spons%26sp_csd%3Dd2lkZ2V0TmFtZT1zcF9tdGY%26psc%3D1', 'https://www.amazon.in/sspa/click?ie=UTF8&spc=MTo2ODM1Nzc0Mzc1MDY2ODE6MTY5OTg0OTYxMDpzcF9tdGY6MjAwOTI2MjQwMjE1OTg6OjA6Og&url=%2FDreadnought-Acoustic-Gig-Bag-Strings-Polishing%2Fdp%2FB0BJJRJVHY%2Fref%3Dsr_1_60_sspa%3Fcrid%3D3FTRNF1QYTPLN%26keywords%3Dguitars%26qid%3D1699849610%26sprefix%3Dguitars%252Caps%252C376%26sr%3D8-60-spons%26sp_csd%3Dd2lkZ2V0TmFtZT1zcF9tdGY%26psc%3D1', 'https://www.amazon.in/sspa/click?ie=UTF8&spc=MTo2ODM1Nzc0Mzc1MDY2ODE6MTY5OTg0OTYxMDpzcF9tdGY6MzAwMDE1NTM3OTc5MjMyOjowOjo&url=%2FKadence-Frontier-Acoustic-Guitar-Strings%2Fdp%2FB078GTJP5Y%2Fref%3Dsr_1_61_sspa%3Fcrid%3D3FTRNF1QYTPLN%26keywords%3Dguitars%26qid%3D1699849610%26sprefix%3Dguitars%252Caps%252C376%26sr%3D8-61-spons%26sp_csd%3Dd2lkZ2V0TmFtZT1zcF9tdGY%26psc%3D1', 'https://www.amazon.in/sspa/click?ie=UTF8&spc=MTo2ODM1Nzc0Mzc1MDY2ODE6MTY5OTg0OTYxMDpzcF9tdGY6MzAwMDA3NTE1ODY4ODMyOjowOjo&url=%2FVault-Compressor-Guitar-Effect-Pedal%2Fdp%2FB0C9WRYJK8%2Fref%3Dsr_1_62_sspa%3Fcrid%3D3FTRNF1QYTPLN%26keywords%3Dguitars%26qid%3D1699849610%26sprefix%3Dguitars%252Caps%252C376%26sr%3D8-62-spons%26sp_csd%3Dd2lkZ2V0TmFtZT1zcF9tdGY%26psc%3D1', 'https://www.amazon.in/Medellin-MED-BLU-C-Linden-Acoustic-Guitar/dp/B07NBMWHJW/ref=sr_1_63?crid=3FTRNF1QYTPLN&keywords=guitars&qid=1699849610&sprefix=guitars%2Caps%2C376&sr=8-63', 'https://www.amazon.in/Blueberry-Acoustic-Guitar-Strings-Redburst/dp/B09N9R525J/ref=sr_1_64?crid=3FTRNF1QYTPLN&keywords=guitars&qid=1699849610&sprefix=guitars%2Caps%2C376&sr=8-64', 'https://www.amazon.in/Tanglewood-Crossroads-TWCR-DCE-Dreadnought/dp/B0746PZSJB/ref=sr_1_65?crid=3FTRNF1QYTPLN&keywords=guitars&qid=1699849610&sprefix=guitars%2Caps%2C376&sr=8-65', 'https://www.amazon.in/Intern-INT-38C-VT-G-Guitar-Kit-Violet/dp/B07K8YJXKL/ref=sr_1_66?crid=3FTRNF1QYTPLN&keywords=guitars&qid=1699849610&sprefix=guitars%2Caps%2C376&sr=8-66', 'https://www.amazon.in/Yamaha-FX280-acoustic-Dreadnought-Natural/dp/B09HR6BNFQ/ref=sr_1_67?crid=3FTRNF1QYTPLN&keywords=guitars&qid=1699849610&sprefix=guitars%2Caps%2C376&sr=8-67', 'https://www.amazon.in/Epiphone-DR-100-Acoustic-Guitar-Natural/dp/B0002D02IU/ref=sr_1_68?crid=3FTRNF1QYTPLN&keywords=guitars&qid=1699849610&sprefix=guitars%2Caps%2C376&sr=8-68', 'https://www.amazon.in/Acoustic-Beginner-Acustica-Guitarra-Packaging/dp/B09JNTBFMC/ref=sr_1_69?crid=3FTRNF1QYTPLN&keywords=guitars&qid=1699849610&sprefix=guitars%2Caps%2C376&sr=8-69', 'https://www.amazon.in/JRZ38C-Strings-Acoustic-Cutaway-Mahogany/dp/B071JM8C6T/ref=sr_1_70?crid=3FTRNF1QYTPLN&keywords=guitars&qid=1699849610&sprefix=guitars%2Caps%2C376&sr=8-70', 'https://www.amazon.in/Cutaway-Acoustic-plectrums-stability-resistance/dp/B09YH8LP53/ref=sr_1_71?crid=3FTRNF1QYTPLN&keywords=guitars&qid=1699849610&sprefix=guitars%2Caps%2C376&sr=8-71', 'https://www.amazon.in/Juarez-Acoustic-Guitar-Cutaway-JRZ38CT/dp/B01N3TTYJQ/ref=sr_1_72?crid=3FTRNF1QYTPLN&keywords=guitars&qid=1699849610&sprefix=guitars%2Caps%2C376&sr=8-72', 'https://www.amazon.in/Kadence-Frontier-Acoustic-Guitar-Equalizer/dp/B01HRIHJWY/ref=sr_1_73?crid=3FTRNF1QYTPLN&keywords=guitars&qid=1699849610&sprefix=guitars%2Caps%2C376&sr=8-73', 'https://www.amazon.in/JUAREZ-JRZ38CTR-BK-Acoustic-Guitar/dp/B08FTZK7H8/ref=sr_1_74?crid=3FTRNF1QYTPLN&keywords=guitars&qid=1699849610&sprefix=guitars%2Caps%2C376&sr=8-74', 'https://www.amazon.in/FX280-acoustic-Dreadnought-Tobacco-Sunburst/dp/B09HR7BXGW/ref=sr_1_75?crid=3FTRNF1QYTPLN&keywords=guitars&qid=1699849610&sprefix=guitars%2Caps%2C376&sr=8-75', 'https://www.amazon.in/Kadence-A281BK-Professional-Acoustic-Rosewood/dp/B0CD7D6C6R/ref=sr_1_76?crid=3FTRNF1QYTPLN&keywords=guitars&qid=1699849610&sprefix=guitars%2Caps%2C376&sr=8-76', 'https://www.amazon.in/Acoustic-Cutaway-TBLS-Strings-Sunburst/dp/B098BCCY75/ref=sr_1_77?crid=3FTRNF1QYTPLN&keywords=guitars&qid=1699849610&sprefix=guitars%2Caps%2C376&sr=8-77', 'https://www.amazon.in/Kadence-Guitar-learning-Acoustic-Lavender/dp/B0CD4CNSPJ/ref=sr_1_78?crid=3FTRNF1QYTPLN&keywords=guitars&qid=1699849610&sprefix=guitars%2Caps%2C376&sr=8-78', 'https://www.amazon.in/NOVA-SP1-Acoustic-AcousticPlus-Instrument/dp/B0BHZ9NL7J/ref=sr_1_79?crid=3FTRNF1QYTPLN&keywords=guitars&qid=1699849610&sprefix=guitars%2Caps%2C376&sr=8-79', 'https://www.amazon.in/Alice-A206-Phosphor-Bronze-Strings/dp/B00QAFCNK4/ref=sr_1_80?crid=3FTRNF1QYTPLN&keywords=guitars&qid=1699849610&sprefix=guitars%2Caps%2C376&sr=8-80', 'https://www.amazon.in/Medellin-Acoustic-adjustable-Truss-rod-learning/dp/B0BMKX4HNP/ref=sr_1_81?crid=3FTRNF1QYTPLN&keywords=guitars&qid=1699849610&sprefix=guitars%2Caps%2C376&sr=8-81', 'https://www.amazon.in/Intern-INT-38C-Acoustic-Guitar-Natural/dp/B073B4D22T/ref=sr_1_82?crid=3FTRNF1QYTPLN&keywords=guitars&qid=1699849610&sprefix=guitars%2Caps%2C376&sr=8-82', 'https://www.amazon.in/Yamaha-6-String-Acoustic-Right-Handed-Sunburst/dp/B000WITGQO/ref=sr_1_83?crid=3FTRNF1QYTPLN&keywords=guitars&qid=1699849610&sprefix=guitars%2Caps%2C376&sr=8-83', 'https://www.amazon.in/Juarez-Acoustic-Guitar-Cutaway-Hippie/dp/B0CG8Y6TVV/ref=sr_1_84?crid=3FTRNF1QYTPLN&keywords=guitars&qid=1699849610&sprefix=guitars%2Caps%2C376&sr=8-84', 'https://www.amazon.in/Yamaha-PAC012-Electric-Guitar-Metallic/dp/B000MLY7XS/ref=sr_1_85?crid=3FTRNF1QYTPLN&keywords=guitars&qid=1699849610&sprefix=guitars%2Caps%2C376&sr=8-85', 'https://www.amazon.in/Kadence-Dreadnought-Acoustic-Guitar-learning/dp/B0CH8L5NF3/ref=sr_1_86?crid=3FTRNF1QYTPLN&keywords=guitars&qid=1699849610&sprefix=guitars%2Caps%2C376&sr=8-86', 'https://www.amazon.in/Fender-Dread-String-Acoustic-Guitar/dp/B07RM4B5LJ/ref=sr_1_87?crid=3FTRNF1QYTPLN&keywords=guitars&qid=1699849610&sprefix=guitars%2Caps%2C376&sr=8-87', 'https://www.amazon.in/Fender-SA105CEBK-Acoustic-Guitar/dp/B01N6KME9M/ref=sr_1_88?crid=3FTRNF1QYTPLN&keywords=guitars&qid=1699849610&sprefix=guitars%2Caps%2C376&sr=8-88', 'https://www.amazon.in/angxi-Acoustic-Guitar-Lovers-Beginners/dp/B093KKRTHZ/ref=sr_1_89?crid=3FTRNF1QYTPLN&keywords=guitars&qid=1699849610&sprefix=guitars%2Caps%2C376&sr=8-89', 'https://www.amazon.in/Kadence-Acoustica-Acoustic-Guitar-A03/dp/B08WCTFVT9/ref=sr_1_90?crid=3FTRNF1QYTPLN&keywords=guitars&qid=1699849610&sprefix=guitars%2Caps%2C376&sr=8-90', 'https://www.amazon.in/Premium-Spruce-Top-Cutaway-Acoustic-Guitar/dp/B08FFZY6BJ/ref=sr_1_91?crid=3FTRNF1QYTPLN&keywords=guitars&qid=1699849610&sprefix=guitars%2Caps%2C376&sr=8-91', 'https://www.amazon.in/Acoustic-F280-Dreadnought-Plectrums-Natural/dp/B092TPXZRN/ref=sr_1_92?crid=3FTRNF1QYTPLN&keywords=guitars&qid=1699849610&sprefix=guitars%2Caps%2C376&sr=8-92', 'https://www.amazon.in/Acoustic-Cutaway-RDS-Strings-Sunburst/dp/B076QGY91P/ref=sr_1_93?crid=3FTRNF1QYTPLN&keywords=guitars&qid=1699849610&sprefix=guitars%2Caps%2C376&sr=8-93', 'https://www.amazon.in/Yamaha-Electric-Acoustic-FX280-Dreadnought-Plectrums/dp/B09HSHNR6R/ref=sr_1_94?crid=3FTRNF1QYTPLN&keywords=guitars&qid=1699849610&sprefix=guitars%2Caps%2C376&sr=8-94', 'https://www.amazon.in/sspa/click?ie=UTF8&spc=MTo2ODM1Nzc0Mzc1MDY2ODE6MTY5OTg0OTYxMDpzcF9idGY6MzAwMDc2Mjc2MzE1NjMyOjowOjo&url=%2FPS-Signature-41inch-Acoustic-Strings%2Fdp%2FB0CK95TQ75%2Fref%3Dsr_1_95_sspa%3Fcrid%3D3FTRNF1QYTPLN%26keywords%3Dguitars%26qid%3D1699849610%26sprefix%3Dguitars%252Caps%252C376%26sr%3D8-95-spons%26sp_csd%3Dd2lkZ2V0TmFtZT1zcF9idGY%26psc%3D1', 'https://www.amazon.in/sspa/click?ie=UTF8&spc=MTo2ODM1Nzc0Mzc1MDY2ODE6MTY5OTg0OTYxMDpzcF9idGY6MzAwMDkwNDk1NDIxOTMyOjowOjo&url=%2FImaginea-Beginners-instrument-Accessories-Bohemian-Belt%2Fdp%2FB0CMXD4S8M%2Fref%3Dsr_1_96_sspa%3Fcrid%3D3FTRNF1QYTPLN%26keywords%3Dguitars%26qid%3D1699849610%26sprefix%3Dguitars%252Caps%252C376%26sr%3D8-96-spons%26sp_csd%3Dd2lkZ2V0TmFtZT1zcF9idGY%26psc%3D1', 'https://www.amazon.in/sspa/click?ie=UTF8&spc=MTo2ODM1Nzc0Mzc1MDY2ODE6MTY5OTg0OTYxMDpzcF9idGY6MjAwMzQ5MjEwMTI1OTg6OjA6Og&url=%2FIbanez-MD39C-NT-Cutaway-Acoustic-Polishing%2Fdp%2FB084BQJCP8%2Fref%3Dsr_1_97_sspa%3Fcrid%3D3FTRNF1QYTPLN%26keywords%3Dguitars%26qid%3D1699849610%26sprefix%3Dguitars%252Caps%252C376%26sr%3D8-97-spons%26sp_csd%3Dd2lkZ2V0TmFtZT1zcF9idGY%26psc%3D1', 'https://www.amazon.in/sspa/click?ie=UTF8&spc=MTo2ODM1Nzc0Mzc1MDY2ODE6MTY5OTg0OTYxMDpzcF9idGY6MzAwMDc5OTE4MzY3NzMyOjowOjo&url=%2FAcoustic-Beginner-Acustica-Guitarra-Packaging%2Fdp%2FB09JNTBFMC%2Fref%3Dsr_1_98_sspa%3Fcrid%3D3FTRNF1QYTPLN%26keywords%3Dguitars%26qid%3D1699849610%26sprefix%3Dguitars%252Caps%252C376%26sr%3D8-98-spons%26sp_csd%3Dd2lkZ2V0TmFtZT1zcF9idGY%26psc%3D1', 'https://www.amazon.in/sspa/click?ie=UTF8&spc=MToyMTU0ODM2NTYxODU3NjgxOjE2OTk4NDk2MTc6c3BfYXRmX25leHQ6MjAwODg0NjU4MTk0MDQ6OjA6Og&url=%2FHenrix-Acoustic-Guitar-Die-cast-Dual-action%2Fdp%2FB07VNDW6QF%2Fref%3Dsr_1_97_sspa%3Fcrid%3D3FTRNF1QYTPLN%26keywords%3Dguitars%26qid%3D1699849617%26sprefix%3Dguitars%252Caps%252C376%26sr%3D8-97-spons%26sp_csd%3Dd2lkZ2V0TmFtZT1zcF9hdGZfbmV4dA%26psc%3D1', 'https://www.amazon.in/sspa/click?ie=UTF8&spc=MToyMTU0ODM2NTYxODU3NjgxOjE2OTk4NDk2MTc6c3BfYXRmX25leHQ6MzAwMDc2Mjc2MzE1NjMyOjowOjo&url=%2FPS-Signature-41inch-Acoustic-Strings%2Fdp%2FB0CK95TQ75%2Fref%3Dsr_1_98_sspa%3Fcrid%3D3FTRNF1QYTPLN%26keywords%3Dguitars%26qid%3D1699849617%26sprefix%3Dguitars%252Caps%252C376%26sr%3D8-98-spons%26sp_csd%3Dd2lkZ2V0TmFtZT1zcF9hdGZfbmV4dA%26psc%3D1', 'https://www.amazon.in/sspa/click?ie=UTF8&spc=MToyMTU0ODM2NTYxODU3NjgxOjE2OTk4NDk2MTc6c3BfYXRmX25leHQ6MjAwOTI2MjQwMjE0OTg6OjA6Og&url=%2FPremium-Spruce-Top-Dreadnought-Acoustic-Guitar%2Fdp%2FB0BJK1CWSN%2Fref%3Dsr_1_99_sspa%3Fcrid%3D3FTRNF1QYTPLN%26keywords%3Dguitars%26qid%3D1699849617%26sprefix%3Dguitars%252Caps%252C376%26sr%3D8-99-spons%26sp_csd%3Dd2lkZ2V0TmFtZT1zcF9hdGZfbmV4dA%26psc%3D1', 'https://www.amazon.in/sspa/click?ie=UTF8&spc=MToyMTU0ODM2NTYxODU3NjgxOjE2OTk4NDk2MTc6c3BfYXRmX25leHQ6MjAwMzQ5MjEwMTI1OTg6OjA6Og&url=%2FIbanez-MD39C-NT-Cutaway-Acoustic-Polishing%2Fdp%2FB084BQJCP8%2Fref%3Dsr_1_100_sspa%3Fcrid%3D3FTRNF1QYTPLN%26keywords%3Dguitars%26qid%3D1699849617%26sprefix%3Dguitars%252Caps%252C376%26sr%3D8-100-spons%26sp_csd%3Dd2lkZ2V0TmFtZT1zcF9hdGZfbmV4dA%26psc%3D1', 'https://www.amazon.in/Epiphone-Express-Travel-Size-Electric-Guitar/dp/B00I056PII/ref=sr_1_101?crid=3FTRNF1QYTPLN&keywords=guitars&qid=1699849617&sprefix=guitars%2Caps%2C376&sr=8-101', 'https://www.amazon.in/FS80C-Acoustic-Cutaway-Concert-Plectrums/dp/B09HSHGD3B/ref=sr_1_102?crid=3FTRNF1QYTPLN&keywords=guitars&qid=1699849617&sprefix=guitars%2Caps%2C376&sr=8-102', 'https://www.amazon.in/Orangewood-Auditorium-Acoustic-Mahogany-Earthwood/dp/B07BN7JMX3/ref=sr_1_103?crid=3FTRNF1QYTPLN&keywords=guitars&qid=1699849617&sprefix=guitars%2Caps%2C376&sr=8-103', 'https://www.amazon.in/Juarez-JRZ38C-ASH-Strings-Acoustic/dp/B072JTPNZC/ref=sr_1_104?crid=3FTRNF1QYTPLN&keywords=guitars&qid=1699849617&sprefix=guitars%2Caps%2C376&sr=8-104', 'https://www.amazon.in/CALIST-Musical-Instruments-Learning-Beginners/dp/B0BDF79K6D/ref=sr_1_105?crid=3FTRNF1QYTPLN&keywords=guitars&qid=1699849617&sprefix=guitars%2Caps%2C376&sr=8-105', 'https://www.amazon.in/PS-Signature-41inch-Acoustic-Strings/dp/B0CK95TQ75/ref=sr_1_106?crid=3FTRNF1QYTPLN&keywords=guitars&qid=1699849617&sprefix=guitars%2Caps%2C376&sr=8-106', 'https://www.amazon.in/Givson-Ketostics-Guitar-Acoustic-Plectrums/dp/B08KS5MRSC/ref=sr_1_97?crid=3FTRNF1QYTPLN&keywords=guitars&qid=1699849617&sprefix=guitars%2Caps%2C376&sr=8-97', 'https://www.amazon.in/Vault-Telecaster-Style-Electric-Guitar/dp/B079RBZWFL/ref=sr_1_98?crid=3FTRNF1QYTPLN&keywords=guitars&qid=1699849617&sprefix=guitars%2Caps%2C376&sr=8-98', 'https://www.amazon.in/Yamaha-Acoustic-Guitar-Dreadnought-Plectrums/dp/B094H8NGBM/ref=sr_1_99?crid=3FTRNF1QYTPLN&keywords=guitars&qid=1699849617&sprefix=guitars%2Caps%2C376&sr=8-99', 'https://www.amazon.in/Yamaha-Folk-Acoustic-Guitar-Natural/dp/B01C92QHLC/ref=sr_1_100?crid=3FTRNF1QYTPLN&keywords=guitars&qid=1699849617&sprefix=guitars%2Caps%2C376&sr=8-100', 'https://www.amazon.in/Blueberry-VIP-380-38Inch-Acoustic-Guitar/dp/B0BVR96DWH/ref=sr_1_101?crid=3FTRNF1QYTPLN&keywords=guitars&qid=1699849617&sprefix=guitars%2Caps%2C376&sr=8-101', 'https://www.amazon.in/Acoustic-plectrums-stability-age-groups-Sparkling/dp/B09YH8C4D5/ref=sr_1_102?crid=3FTRNF1QYTPLN&keywords=guitars&qid=1699849617&sprefix=guitars%2Caps%2C376&sr=8-102', 'https://www.amazon.in/Henrix-Handed-Cutway-Acoustic-Polishing/dp/B08R3DKYGM/ref=sr_1_103?crid=3FTRNF1QYTPLN&keywords=guitars&qid=1699849617&sprefix=guitars%2Caps%2C376&sr=8-103', 'https://www.amazon.in/JUAREZ-Acoustic-Guitar-String-JRGSE32/dp/B08MW1WPW5/ref=sr_1_104?crid=3FTRNF1QYTPLN&keywords=guitars&qid=1699849617&sprefix=guitars%2Caps%2C376&sr=8-104', 'https://www.amazon.in/Pluse-Classical-Portable-Excellent-Instrument/dp/B0C8B1XZ94/ref=sr_1_105?crid=3FTRNF1QYTPLN&keywords=guitars&qid=1699849617&sprefix=guitars%2Caps%2C376&sr=8-105', 'https://www.amazon.in/Tanglewood-Crossroads-Acoustic-Strings-Orchestra/dp/B016KJHSV8/ref=sr_1_106?crid=3FTRNF1QYTPLN&keywords=guitars&qid=1699849617&sprefix=guitars%2Caps%2C376&sr=8-106', 'https://www.amazon.in/sspa/click?ie=UTF8&spc=MToyMTU0ODM2NTYxODU3NjgxOjE2OTk4NDk2MTc6c3BfbXRmOjMwMDA5MDQ5NTQyMTczMjo6MDo6&url=%2FImaginea-Beginners-instrument-Accessories-Bohemian-Belt%2Fdp%2FB0CMXDB2PR%2Fref%3Dsr_1_107_sspa%3Fcrid%3D3FTRNF1QYTPLN%26keywords%3Dguitars%26qid%3D1699849617%26sprefix%3Dguitars%252Caps%252C376%26sr%3D8-107-spons%26sp_csd%3Dd2lkZ2V0TmFtZT1zcF9tdGY%26psc%3D1', 'https://www.amazon.in/sspa/click?ie=UTF8&spc=MToyMTU0ODM2NTYxODU3NjgxOjE2OTk4NDk2MTc6c3BfbXRmOjIwMDc4MzM2ODg1OTk4OjowOjo&url=%2FFestra-R-40-Natural-Acoustic-Guitar-Strings%2Fdp%2FB09VL5DX17%2Fref%3Dsr_1_108_sspa%3Fcrid%3D3FTRNF1QYTPLN%26keywords%3Dguitars%26qid%3D1699849617%26sprefix%3Dguitars%252Caps%252C376%26sr%3D8-108-spons%26sp_csd%3Dd2lkZ2V0TmFtZT1zcF9tdGY%26psc%3D1', 'https://www.amazon.in/sspa/click?ie=UTF8&spc=MToyMTU0ODM2NTYxODU3NjgxOjE2OTk4NDk2MTc6c3BfbXRmOjIwMTI3OTkwMDI4Mzk4OjowOjo&url=%2FBlueberry-VIP-400-40Inch-TrussRod-Acoustic%2Fdp%2FB0BVYY6ND2%2Fref%3Dsr_1_109_sspa%3Fcrid%3D3FTRNF1QYTPLN%26keywords%3Dguitars%26qid%3D1699849617%26sprefix%3Dguitars%252Caps%252C376%26sr%3D8-109-spons%26sp_csd%3Dd2lkZ2V0TmFtZT1zcF9tdGY%26psc%3D1', 'https://www.amazon.in/sspa/click?ie=UTF8&spc=MToyMTU0ODM2NTYxODU3NjgxOjE2OTk4NDk2MTc6c3BfbXRmOjIwMDc4MzM2ODg3NDk4OjowOjo&url=%2FBlueberry-B-D38-Acoustic-Inbuilt-Strings%2Fdp%2FB07PHYZZP1%2Fref%3Dsr_1_110_sspa%3Fcrid%3D3FTRNF1QYTPLN%26keywords%3Dguitars%26qid%3D1699849617%26sprefix%3Dguitars%252Caps%252C376%26sr%3D8-110-spons%26sp_csd%3Dd2lkZ2V0TmFtZT1zcF9tdGY%26psc%3D1', 'https://www.amazon.in/Yamaha-Acoustic-Guitar-Tobacco-Sunburst/dp/B08Z35ZR9Y/ref=sr_1_111?crid=3FTRNF1QYTPLN&keywords=guitars&qid=1699849617&sprefix=guitars%2Caps%2C376&sr=8-111', 'https://www.amazon.in/Yamaha-F310-Acoustic-Guitar-Natural/dp/B08Z3C1GRM/ref=sr_1_112?crid=3FTRNF1QYTPLN&keywords=guitars&qid=1699849617&sprefix=guitars%2Caps%2C376&sr=8-112', 'https://www.amazon.in/Kadence-Frontier-Acoustic-Foldable-Strings/dp/B01CJJGEVS/ref=sr_1_113?crid=3FTRNF1QYTPLN&keywords=guitars&qid=1699849617&sprefix=guitars%2Caps%2C376&sr=8-113', 'https://www.amazon.in/Epiphone-String-Handed-Electric-Metallic/dp/B0881Y6619/ref=sr_1_114?crid=3FTRNF1QYTPLN&keywords=guitars&qid=1699849617&sprefix=guitars%2Caps%2C376&sr=8-114', 'https://www.amazon.in/PS-Signature-41inch-Acoustic-Strings/dp/B0CGXL3VKG/ref=sr_1_115?crid=3FTRNF1QYTPLN&keywords=guitars&qid=1699849617&sprefix=guitars%2Caps%2C376&sr=8-115', 'https://www.amazon.in/Kadence-Acoustica-Acoustic-Fishman-Hardcase/dp/B08WC9XJVG/ref=sr_1_116?crid=3FTRNF1QYTPLN&keywords=guitars&qid=1699849617&sprefix=guitars%2Caps%2C376&sr=8-116', 'https://www.amazon.in/Parlor-Compact-Acoustic-Guitar-Standard/dp/B0BJK1332J/ref=sr_1_117?crid=3FTRNF1QYTPLN&keywords=guitars&qid=1699849617&sprefix=guitars%2Caps%2C376&sr=8-117', 'https://www.amazon.in/Fender-FA-125CE-Dreadnought-Electro-Acoustic/dp/B07983SFF4/ref=sr_1_118?crid=3FTRNF1QYTPLN&keywords=guitars&qid=1699849617&sprefix=guitars%2Caps%2C376&sr=8-118', 'https://www.amazon.in/Intern-INT-38C-RD-G-Guitar-Kit-Red/dp/B07K959RKX/ref=sr_1_119?crid=3FTRNF1QYTPLN&keywords=guitars&qid=1699849617&sprefix=guitars%2Caps%2C376&sr=8-119', 'https://www.amazon.in/Squier-Fender-Affinity-Stratocaster-fingerboard/dp/B091BKCTK6/ref=sr_1_120?crid=3FTRNF1QYTPLN&keywords=guitars&qid=1699849617&sprefix=guitars%2Caps%2C376&sr=8-120', 'https://www.amazon.in/Yamaha-FS100C-Acoustic-Guitar-Natural/dp/B08Z3DVN8N/ref=sr_1_121?crid=3FTRNF1QYTPLN&keywords=guitars&qid=1699849617&sprefix=guitars%2Caps%2C376&sr=8-121', 'https://www.amazon.in/JUAREZ-Arpeggio-Acoustic-Rosewood-Fretboard/dp/B08LBGLRFC/ref=sr_1_122?crid=3FTRNF1QYTPLN&keywords=guitars&qid=1699849617&sprefix=guitars%2Caps%2C376&sr=8-122', 'https://www.amazon.in/Fender-FA-345CE-Auditorium-Bodied-Acoustic/dp/B07BCN55VP/ref=sr_1_123?crid=3FTRNF1QYTPLN&keywords=guitars&qid=1699849617&sprefix=guitars%2Caps%2C376&sr=8-123', 'https://www.amazon.in/Fender-Acoustic-Dreadnought-Electronics-972713506/dp/B07G5RMNS4/ref=sr_1_124?crid=3FTRNF1QYTPLN&keywords=guitars&qid=1699849617&sprefix=guitars%2Caps%2C376&sr=8-124', 'https://www.amazon.in/Fender-Acoustic-Electronics-970113006-Right-Hand/dp/B07F39CHRZ/ref=sr_1_125?crid=3FTRNF1QYTPLN&keywords=guitars&qid=1699849617&sprefix=guitars%2Caps%2C376&sr=8-125', 'https://www.amazon.in/Yamaha-Fullsized-Classic-Guitar-Finish/dp/B005B6EZ36/ref=sr_1_126?crid=3FTRNF1QYTPLN&keywords=guitars&qid=1699849617&sprefix=guitars%2Caps%2C376&sr=8-126', 'https://www.amazon.in/Fender-CD-60S-Dreadnought-Acoustic-Guitar/dp/B07FYBLG93/ref=sr_1_127?crid=3FTRNF1QYTPLN&keywords=guitars&qid=1699849617&sprefix=guitars%2Caps%2C376&sr=8-127', 'https://www.amazon.in/Cort-AF515CE-6-String-Electro-Acoustic/dp/B07P6XSHQC/ref=sr_1_128?crid=3FTRNF1QYTPLN&keywords=guitars&qid=1699849617&sprefix=guitars%2Caps%2C376&sr=8-128', 'https://www.amazon.in/Fender-Dread-String-Acoustic-Guitar/dp/B07RM21D8X/ref=sr_1_129?crid=3FTRNF1QYTPLN&keywords=guitars&qid=1699849617&sprefix=guitars%2Caps%2C376&sr=8-129', 'https://www.amazon.in/DEVICE-URBAN-INFOTECH-Acoustic-Beginners/dp/B0CDS4YVKQ/ref=sr_1_130?crid=3FTRNF1QYTPLN&keywords=guitars&qid=1699849617&sprefix=guitars%2Caps%2C376&sr=8-130', 'https://www.amazon.in/Ibanez-GRX-Strings-Electric-Right-Handed/dp/B000XXO7B2/ref=sr_1_131?crid=3FTRNF1QYTPLN&keywords=guitars&qid=1699849617&sprefix=guitars%2Caps%2C376&sr=8-131', 'https://www.amazon.in/Tanglewood-Crossroads-Acoustic-Strings-Orchestra/dp/B01IA2I0BK/ref=sr_1_132?crid=3FTRNF1QYTPLN&keywords=guitars&qid=1699849617&sprefix=guitars%2Caps%2C376&sr=8-132', 'https://www.amazon.in/Cort-AF500C-Gig-Bag-Polishing-Cloth/dp/B0C494C1FV/ref=sr_1_133?crid=3FTRNF1QYTPLN&keywords=guitars&qid=1699849617&sprefix=guitars%2Caps%2C376&sr=8-133', 'https://www.amazon.in/Cutaway-Acoustic-Humidity-resistance-resonance/dp/B09RRH7R5F/ref=sr_1_134?crid=3FTRNF1QYTPLN&keywords=guitars&qid=1699849617&sprefix=guitars%2Caps%2C376&sr=8-134', 'https://www.amazon.in/Cort-String-Acoustic-Electric-AF510E-OP/dp/B07BBG8L4G/ref=sr_1_135?crid=3FTRNF1QYTPLN&keywords=guitars&qid=1699849617&sprefix=guitars%2Caps%2C376&sr=8-135', 'https://www.amazon.in/Tanglewood-Blackbird-TWBB-OE-Smokestack/dp/B085CMTV7G/ref=sr_1_136?crid=3FTRNF1QYTPLN&keywords=guitars&qid=1699849617&sprefix=guitars%2Caps%2C376&sr=8-136', 'https://www.amazon.in/Medellin-Acoustic-LEARNING-beginners-handrest/dp/B09MSKKHJC/ref=sr_1_137?crid=3FTRNF1QYTPLN&keywords=guitars&qid=1699849617&sprefix=guitars%2Caps%2C376&sr=8-137', 'https://www.amazon.in/Yamaha-F310-Gig-Maker-Package/dp/B0002H0KGK/ref=sr_1_138?crid=3FTRNF1QYTPLN&keywords=guitars&qid=1699849617&sprefix=guitars%2Caps%2C376&sr=8-138', 'https://www.amazon.in/Kadence-Guitar-Stand-Long-KAD-LNG-GSTD/dp/B08F7SR2ZV/ref=sr_1_139?crid=3FTRNF1QYTPLN&keywords=guitars&qid=1699849617&sprefix=guitars%2Caps%2C376&sr=8-139', 'https://www.amazon.in/Epiphone-String-Handed-Electric-Metallic/dp/B0881X3Z4C/ref=sr_1_140?crid=3FTRNF1QYTPLN&keywords=guitars&qid=1699849617&sprefix=guitars%2Caps%2C376&sr=8-140', 'https://www.amazon.in/Medellin-Acoustic-Guitar-learning-Strings/dp/B0CCNSN9BV/ref=sr_1_141?crid=3FTRNF1QYTPLN&keywords=guitars&qid=1699849617&sprefix=guitars%2Caps%2C376&sr=8-141', 'https://www.amazon.in/Epiphone-EEDVVBNH1-Acoustic-Electric-Guitar/dp/B00ADVITGS/ref=sr_1_142?crid=3FTRNF1QYTPLN&keywords=guitars&qid=1699849617&sprefix=guitars%2Caps%2C376&sr=8-142', 'https://www.amazon.in/sspa/click?ie=UTF8&spc=MToyMTU0ODM2NTYxODU3NjgxOjE2OTk4NDk2MTc6c3BfYnRmOjIwMTU4MzIyODEwODk4OjowOjo&url=%2FSG-Musical-Clutch-Guitar-Spring%2Fdp%2FB0BGZHSYHN%2Fref%3Dsr_1_143_sspa%3Fcrid%3D3FTRNF1QYTPLN%26keywords%3Dguitars%26qid%3D1699849617%26sprefix%3Dguitars%252Caps%252C376%26sr%3D8-143-spons%26sp_csd%3Dd2lkZ2V0TmFtZT1zcF9idGY%26psc%3D1', 'https://www.amazon.in/sspa/click?ie=UTF8&spc=MToyMTU0ODM2NTYxODU3NjgxOjE2OTk4NDk2MTc6c3BfYnRmOjMwMDA2ODAyMjkxNzMzMjo6MDo6&url=%2FMinicreature-Miniature-Electrical-Guitar-Decor%2Fdp%2FB0BYN6CV49%2Fref%3Dsr_1_144_sspa%3Fcrid%3D3FTRNF1QYTPLN%26keywords%3Dguitars%26qid%3D1699849617%26sprefix%3Dguitars%252Caps%252C376%26sr%3D8-144-spons%26sp_csd%3Dd2lkZ2V0TmFtZT1zcF9idGY%26psc%3D1', 'https://www.amazon.in/sspa/click?ie=UTF8&spc=MToyMTU0ODM2NTYxODU3NjgxOjE2OTk4NDk2MTc6c3BfYnRmOjIwMDc4MzM2ODg1MTk4OjowOjo&url=%2FBlueberry-Acoustic-Inbuilt-Strings-Classic%2Fdp%2FB09VLF8B8G%2Fref%3Dsr_1_145_sspa%3Fcrid%3D3FTRNF1QYTPLN%26keywords%3Dguitars%26qid%3D1699849617%26sprefix%3Dguitars%252Caps%252C376%26sr%3D8-145-spons%26sp_csd%3Dd2lkZ2V0TmFtZT1zcF9idGY%26psc%3D1', 'https://www.amazon.in/sspa/click?ie=UTF8&spc=MToyMTU0ODM2NTYxODU3NjgxOjE2OTk4NDk2MTc6c3BfYnRmOjMwMDA3NjI3NjMxNjMzMjo6MDo6&url=%2FPS-Signature-Acoustic-Natural-Strings%2Fdp%2FB0CFYS6Q7Q%2Fref%3Dsr_1_146_sspa%3Fcrid%3D3FTRNF1QYTPLN%26keywords%3Dguitars%26qid%3D1699849617%26sprefix%3Dguitars%252Caps%252C376%26sr%3D8-146-spons%26sp_csd%3Dd2lkZ2V0TmFtZT1zcF9idGY%26psc%3D1']\n"
     ]
    }
   ],
   "source": [
    "print(len(url),url)"
   ]
  },
  {
   "cell_type": "code",
   "execution_count": 10,
   "id": "7c0c01ab",
   "metadata": {},
   "outputs": [],
   "source": [
    "for u in url:\n",
    "    driver.get(u)                                                        # Loading the webpage by url\n",
    "   \n",
    "    time.sleep(2)\n",
    "    \n",
    "    try:\n",
    "        brand = driver.find_element(By.XPATH,'//a[@id=\"bylineInfo\"]')      # Extracting Brand from xpath\n",
    "        brand_name.append(brand.text)\n",
    "    except NoSuchElementException:\n",
    "        brand_name.append('-')\n",
    "    \n",
    "    try:\n",
    "        name = driver.find_element(By.XPATH,'//h1[@id=\"title\"]/span')      # Extracting Name from xpath\n",
    "        name_of_the_product.append(name.text)\n",
    "    except NoSuchElementException:\n",
    "        name_of_the_product.append('-')\n",
    "    \n",
    "\n",
    "    \n",
    "    try:\n",
    "        price1 = driver.find_element(By.XPATH,'/html/body/div[2]/div/div[5]/div[3]/div[4]/div[13]/div/div/div[4]/div[1]/span[2]/span[2]/span[2]')            # Extracting Price from xpath\n",
    "        price.append(price1.text)\n",
    "    except NoSuchElementException:\n",
    "        price.append('-')\n",
    "    try:                                                                                     # Extracting Return/Exchange policy from xpath\n",
    "        ret = driver.find_element(By.XPATH,'/html/body/div[2]/div/div[5]/div[3]/div[4]/div[24]/div[2]/div/div/div/div[2]/div/ol/li[3]/div/span/div[2]/span')\n",
    "        return_exchange.append(ret.text)\n",
    "    except NoSuchElementException:\n",
    "        return_exchange.append('-')\n",
    "    try:\n",
    "        delivry = driver.find_element(By.XPATH,'/html/body/div[2]/div/div[5]/div[3]/div[1]/div[3]/div/div[1]/div/div/div/form/div/div/div/div/div[4]/div/div[3]/div[9]/div[1]/div/div/div/span/span[1]')         # Extracting Expected Delivery from xpath\n",
    "        expected_delivery.append(delivry.text)\n",
    "    except NoSuchElementException:\n",
    "        expected_delivery.append('-')\n",
    "    \n",
    "    try:\n",
    "        avl = driver.find_element(By.XPATH,'//div[@id=\"availability\"]/span')                # Extracting Availability from xpath\n",
    "        availability.append(avl.text)\n",
    "    except NoSuchElementException:\n",
    "        availability.append('-')\n",
    "    \n",
    "   \n",
    "                                                                  # Saving url\n",
    "    time.sleep(2)"
   ]
  },
  {
   "cell_type": "code",
   "execution_count": 11,
   "id": "0dcbe21b",
   "metadata": {},
   "outputs": [
    {
     "name": "stdout",
     "output_type": "stream",
     "text": [
      "181 181 181 181 181 181 181\n"
     ]
    }
   ],
   "source": [
    "print(len(brand_name),\n",
    "len(name_of_the_product),\n",
    "len(price),\n",
    "len(return_exchange),\n",
    "len(expected_delivery),\n",
    "len(availability),\n",
    "len(url))"
   ]
  },
  {
   "cell_type": "code",
   "execution_count": 14,
   "id": "56813030",
   "metadata": {},
   "outputs": [],
   "source": [
    "##Making dataframe"
   ]
  },
  {
   "cell_type": "code",
   "execution_count": 12,
   "id": "d269f209",
   "metadata": {},
   "outputs": [],
   "source": [
    "amazondf=pd.DataFrame({'BrandName':brand_name,'NameOfProduct':name_of_the_product,'Price':price,'ReturnExchange':return_exchange,\n",
    "                       'expectedDelivery':expected_delivery,'Availability':availability,'Url':url})"
   ]
  },
  {
   "cell_type": "code",
   "execution_count": 13,
   "id": "cce9f7af",
   "metadata": {},
   "outputs": [
    {
     "data": {
      "text/html": [
       "<div>\n",
       "<style scoped>\n",
       "    .dataframe tbody tr th:only-of-type {\n",
       "        vertical-align: middle;\n",
       "    }\n",
       "\n",
       "    .dataframe tbody tr th {\n",
       "        vertical-align: top;\n",
       "    }\n",
       "\n",
       "    .dataframe thead th {\n",
       "        text-align: right;\n",
       "    }\n",
       "</style>\n",
       "<table border=\"1\" class=\"dataframe\">\n",
       "  <thead>\n",
       "    <tr style=\"text-align: right;\">\n",
       "      <th></th>\n",
       "      <th>BrandName</th>\n",
       "      <th>NameOfProduct</th>\n",
       "      <th>Price</th>\n",
       "      <th>ReturnExchange</th>\n",
       "      <th>expectedDelivery</th>\n",
       "      <th>Availability</th>\n",
       "      <th>Url</th>\n",
       "    </tr>\n",
       "  </thead>\n",
       "  <tbody>\n",
       "    <tr>\n",
       "      <th>0</th>\n",
       "      <td>Brand: Medellin</td>\n",
       "      <td>Medellin 38” Acoustic Guitar with (free learni...</td>\n",
       "      <td>1,899</td>\n",
       "      <td>7 days Replacement</td>\n",
       "      <td>Saturday, 18 November</td>\n",
       "      <td>In stock</td>\n",
       "      <td>https://www.amazon.in/sspa/click?ie=UTF8&amp;spc=M...</td>\n",
       "    </tr>\n",
       "    <tr>\n",
       "      <th>1</th>\n",
       "      <td>Visit the Kadence Store</td>\n",
       "      <td>Kadence A281 Professional Acoustic Rosewood gu...</td>\n",
       "      <td>6,499</td>\n",
       "      <td>7 days Replacement</td>\n",
       "      <td>Saturday, 18 November</td>\n",
       "      <td>In stock</td>\n",
       "      <td>https://www.amazon.in/sspa/click?ie=UTF8&amp;spc=M...</td>\n",
       "    </tr>\n",
       "    <tr>\n",
       "      <th>2</th>\n",
       "      <td>Visit the Kadence Store</td>\n",
       "      <td>Kadence A281BK Professional Acoustic Rosewood ...</td>\n",
       "      <td>6,499</td>\n",
       "      <td>7 days Replacement</td>\n",
       "      <td>Thursday, 16 November</td>\n",
       "      <td>In stock</td>\n",
       "      <td>https://www.amazon.in/sspa/click?ie=UTF8&amp;spc=M...</td>\n",
       "    </tr>\n",
       "    <tr>\n",
       "      <th>3</th>\n",
       "      <td>Visit the Kadence Store</td>\n",
       "      <td>Kadence rosewood Guitar Frontier Series, Elect...</td>\n",
       "      <td>5,499</td>\n",
       "      <td>7 days Replacement</td>\n",
       "      <td>Friday, 17 November</td>\n",
       "      <td>In stock</td>\n",
       "      <td>https://www.amazon.in/sspa/click?ie=UTF8&amp;spc=M...</td>\n",
       "    </tr>\n",
       "    <tr>\n",
       "      <th>4</th>\n",
       "      <td>Visit the JUAREZ Store</td>\n",
       "      <td>Juârez Acoustic Guitar, 38 Inch Cutaway, 038C ...</td>\n",
       "      <td>1,999</td>\n",
       "      <td>7 days Replacement</td>\n",
       "      <td>Thursday, 16 November</td>\n",
       "      <td>In stock</td>\n",
       "      <td>https://www.amazon.in/Juarez-Acoustic-Cutaway-...</td>\n",
       "    </tr>\n",
       "    <tr>\n",
       "      <th>...</th>\n",
       "      <td>...</td>\n",
       "      <td>...</td>\n",
       "      <td>...</td>\n",
       "      <td>...</td>\n",
       "      <td>...</td>\n",
       "      <td>...</td>\n",
       "      <td>...</td>\n",
       "    </tr>\n",
       "    <tr>\n",
       "      <th>176</th>\n",
       "      <td>Brand: Epiphone</td>\n",
       "      <td>Epiphone Dove Pro Acoustic Electric Guitar</td>\n",
       "      <td>-</td>\n",
       "      <td>-</td>\n",
       "      <td>-</td>\n",
       "      <td>Only 1 left in stock.</td>\n",
       "      <td>https://www.amazon.in/Epiphone-EEDVVBNH1-Acous...</td>\n",
       "    </tr>\n",
       "    <tr>\n",
       "      <th>177</th>\n",
       "      <td>Visit the SG Musical Store</td>\n",
       "      <td>SG Musical - Red - - Clutch Guitar Capo (Red) ...</td>\n",
       "      <td>-</td>\n",
       "      <td>-</td>\n",
       "      <td>-</td>\n",
       "      <td>In stock</td>\n",
       "      <td>https://www.amazon.in/sspa/click?ie=UTF8&amp;spc=M...</td>\n",
       "    </tr>\n",
       "    <tr>\n",
       "      <th>178</th>\n",
       "      <td>Brand: Minicreature</td>\n",
       "      <td>Minicreature- Miniature Electrical Guitar/Home...</td>\n",
       "      <td>-</td>\n",
       "      <td>-</td>\n",
       "      <td>Friday, 24 November</td>\n",
       "      <td>Only 1 left in stock.</td>\n",
       "      <td>https://www.amazon.in/sspa/click?ie=UTF8&amp;spc=M...</td>\n",
       "    </tr>\n",
       "    <tr>\n",
       "      <th>179</th>\n",
       "      <td>Visit the blueberry Store</td>\n",
       "      <td>BLUEBERRY B40L, Acoustic Guitar Kit Inbuilt Tr...</td>\n",
       "      <td>4,279</td>\n",
       "      <td>7 days Replacement</td>\n",
       "      <td>Friday, 17 November</td>\n",
       "      <td>In stock</td>\n",
       "      <td>https://www.amazon.in/sspa/click?ie=UTF8&amp;spc=M...</td>\n",
       "    </tr>\n",
       "    <tr>\n",
       "      <th>180</th>\n",
       "      <td>Brand: PS Signature</td>\n",
       "      <td>PS Signature 41inch Acoustic Guitar (Natural C...</td>\n",
       "      <td>3,599</td>\n",
       "      <td>-</td>\n",
       "      <td>Tuesday, 21 November</td>\n",
       "      <td>In stock</td>\n",
       "      <td>https://www.amazon.in/sspa/click?ie=UTF8&amp;spc=M...</td>\n",
       "    </tr>\n",
       "  </tbody>\n",
       "</table>\n",
       "<p>181 rows × 7 columns</p>\n",
       "</div>"
      ],
      "text/plain": [
       "                      BrandName  \\\n",
       "0               Brand: Medellin   \n",
       "1       Visit the Kadence Store   \n",
       "2       Visit the Kadence Store   \n",
       "3       Visit the Kadence Store   \n",
       "4        Visit the JUAREZ Store   \n",
       "..                          ...   \n",
       "176             Brand: Epiphone   \n",
       "177  Visit the SG Musical Store   \n",
       "178         Brand: Minicreature   \n",
       "179   Visit the blueberry Store   \n",
       "180         Brand: PS Signature   \n",
       "\n",
       "                                         NameOfProduct  Price  \\\n",
       "0    Medellin 38” Acoustic Guitar with (free learni...  1,899   \n",
       "1    Kadence A281 Professional Acoustic Rosewood gu...  6,499   \n",
       "2    Kadence A281BK Professional Acoustic Rosewood ...  6,499   \n",
       "3    Kadence rosewood Guitar Frontier Series, Elect...  5,499   \n",
       "4    Juârez Acoustic Guitar, 38 Inch Cutaway, 038C ...  1,999   \n",
       "..                                                 ...    ...   \n",
       "176         Epiphone Dove Pro Acoustic Electric Guitar      -   \n",
       "177  SG Musical - Red - - Clutch Guitar Capo (Red) ...      -   \n",
       "178  Minicreature- Miniature Electrical Guitar/Home...      -   \n",
       "179  BLUEBERRY B40L, Acoustic Guitar Kit Inbuilt Tr...  4,279   \n",
       "180  PS Signature 41inch Acoustic Guitar (Natural C...  3,599   \n",
       "\n",
       "         ReturnExchange       expectedDelivery           Availability  \\\n",
       "0    7 days Replacement  Saturday, 18 November               In stock   \n",
       "1    7 days Replacement  Saturday, 18 November               In stock   \n",
       "2    7 days Replacement  Thursday, 16 November               In stock   \n",
       "3    7 days Replacement    Friday, 17 November               In stock   \n",
       "4    7 days Replacement  Thursday, 16 November               In stock   \n",
       "..                  ...                    ...                    ...   \n",
       "176                   -                      -  Only 1 left in stock.   \n",
       "177                   -                      -               In stock   \n",
       "178                   -    Friday, 24 November  Only 1 left in stock.   \n",
       "179  7 days Replacement    Friday, 17 November               In stock   \n",
       "180                   -   Tuesday, 21 November               In stock   \n",
       "\n",
       "                                                   Url  \n",
       "0    https://www.amazon.in/sspa/click?ie=UTF8&spc=M...  \n",
       "1    https://www.amazon.in/sspa/click?ie=UTF8&spc=M...  \n",
       "2    https://www.amazon.in/sspa/click?ie=UTF8&spc=M...  \n",
       "3    https://www.amazon.in/sspa/click?ie=UTF8&spc=M...  \n",
       "4    https://www.amazon.in/Juarez-Acoustic-Cutaway-...  \n",
       "..                                                 ...  \n",
       "176  https://www.amazon.in/Epiphone-EEDVVBNH1-Acous...  \n",
       "177  https://www.amazon.in/sspa/click?ie=UTF8&spc=M...  \n",
       "178  https://www.amazon.in/sspa/click?ie=UTF8&spc=M...  \n",
       "179  https://www.amazon.in/sspa/click?ie=UTF8&spc=M...  \n",
       "180  https://www.amazon.in/sspa/click?ie=UTF8&spc=M...  \n",
       "\n",
       "[181 rows x 7 columns]"
      ]
     },
     "execution_count": 13,
     "metadata": {},
     "output_type": "execute_result"
    }
   ],
   "source": [
    "amazondf"
   ]
  },
  {
   "cell_type": "code",
   "execution_count": null,
   "id": "41903185",
   "metadata": {},
   "outputs": [],
   "source": []
  },
  {
   "cell_type": "markdown",
   "id": "439c2f59",
   "metadata": {},
   "source": [
    "# 3. Write a python program to access the search bar and search button on images.google.com and scrape 10 \n",
    "images each for keywords ‘fruits’, ‘cars’ and ‘Machine Learning’, ‘Guitar’, ‘Cakes’."
   ]
  },
  {
   "cell_type": "code",
   "execution_count": 69,
   "id": "8a15b4f9",
   "metadata": {},
   "outputs": [],
   "source": [
    "#getting url\n",
    "url='https://www.google.com/search?q={s}&sca_esv=580462557&tbm=isch&source=hp&biw=1034&bih=570&ei=l5hLZdOCBpWG5OUPjNiTyAI&iflsig=AO6bgOgAAAAAZUumpyKCrDOXkVJ9SequxrVYFCTYyw98&ved=0ahUKEwiTqt6IzLSCAxUVA7kGHQzsBCkQ4dUDCAc&oq=fruits&gs_lp=EgNpbWciBmZydWl0czIIEAAYgAQYsQMyCBAAGIAEGLEDMggQABiABBixAzIIEAAYgAQYsQMyCBAAGIAEGLEDMggQABiABBixAzIIEAAYgAQYsQMyCBAAGIAEGLEDMggQABiABBixAzIIEAAYgAQYsQNI0XBQAFhAcAB4AJABAJgB9AGgAbYGqgEFMC4xLjO4AQzIAQD4AQGKAgtnd3Mtd2l6LWltZw&sclient=img'"
   ]
  },
  {
   "cell_type": "code",
   "execution_count": 52,
   "id": "956d3e08",
   "metadata": {},
   "outputs": [],
   "source": [
    "#opening browser and getting url\n",
    "driver=webdriver.Chrome()\n",
    "driver.get(url.format(s='fruits'))"
   ]
  },
  {
   "cell_type": "code",
   "execution_count": 55,
   "id": "8a1c9ef5",
   "metadata": {},
   "outputs": [],
   "source": [
    "#finding and extracting images\n",
    "fruit=[]\n",
    "fruittag=driver.find_elements(By.XPATH,\"//img[contains(@class,'rg_i Q4LuWd')]\")\n",
    "for i in fruittag:\n",
    "    fruit.append(i.get_attribute('src'))"
   ]
  },
  {
   "cell_type": "code",
   "execution_count": 56,
   "id": "41203550",
   "metadata": {},
   "outputs": [
    {
     "data": {
      "text/plain": [
       "['data:image/jpeg;base64,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',\n",
       " 'data:image/jpeg;base64,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',\n",
       " 'data:image/jpeg;base64,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',\n",
       " 'data:image/jpeg;base64,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',\n",
       " 'data:image/jpeg;base64,/9j/4AAQSkZJRgABAQAAAQABAAD/2wCEAAkGBxITEhUTEhMWFRUXFx0aGBgYGB8eHhseGh4XGx0dIBsdHiggGB0lHx0fIjEmJSorLi4uGh82ODMsNygtLisBCgoKDg0OGxAQGy8lICYtLS0tLS0vLS0tLS8vLS0tLS0tLS0tLS0tLS0tLS0tLS0tLS0tLS0tLS0tLS0tLS0tLf/AABEIANUA7QMBIgACEQEDEQH/xAAcAAABBQEBAQAAAAAAAAAAAAAGAAMEBQcCCAH/xABAEAACAQIEBAQEBAUDAwQCAwABAhEAAwQSITEFBkFREyJhcTKBkaEHQrHBFFJi0fAjcoIz4fFDorLCFpIVF1P/xAAbAQACAwEBAQAAAAAAAAAAAAAEBQACAwEGB//EADcRAAEDAgQDBwMDBAEFAAAAAAEAAhEDIQQSMUEFUWETInGBkaHwscHRFCPhFTJC8QYWM1Jy0v/aAAwDAQACEQMRAD8A3GlSpq5eVfiYD3IFRRK9eVQWZgoG5JgfU1zh8QjjMjK47qQR9RWJc78dbFYy4pabVpitsA6eXQt2JJnXtFfOW+KNhHN62wygqty2zxnDSNF/Nl3mNPYmqdoE6HBnGh2hd3iJiPQTOvl7SRutKqDgPNVjFeUSlyPgbr/tOzfr6Vf11rg4SElBlKlSqs4vw63dXzsbbdLitlZfn19jpXTOyi+YLGt4r2LsZ1GZCPzoTAPowOh+vWrM1m13jF2xiLS328ZrLeW4sEvbcQRvqZAidZB30NPvilvsL3ELmS1vbwyksSOjMqySPUjXpA3wFYX+evwrEVfn5Oi0FWB1BkV1VLwjjuFukW7LAEDRMuXQdunyFTeKeN4TeAENyNA5IH1AMfStw4ESLrVpDtCptKsTwfMOPGItJdvhHQnD3GYAlMzDM2pyyIHmM6KN9SdotDQazpv39aqx+ZF4nCOw8ZiL6QnKVKhbnrj9zBYfxlQMpJQmdUZlbI0HRhmgEevWrEwJQ7GF7g0alFNKgvknnF8czf6DBFVBnUeXPBLyxIHaAJMGTvoaVxrg4SFapSdTdldqlSpUG89c6rgbam0Ld6413IVz/BALMWCyewj+ofOwErNFmKvhEZzsoJ+lQ+M4/wAKybgjMYCepO39/lWTYf8AFHEXGuLiLI8G58AtjzIAwI8zMA/lmdtew0opscaTFsjhg1m3ACqdZgfEDsx7HahsTUdSBkaix2md/AQqOJ2Wg19qHh8UzRNp1B6nL+kz9qmVu1wcJCulTV28qiWYKO5MD6mqXmzmO3gbJuP5nY5baDdm/ZR1P7kCsI41xzEYy54l52Y9B0Gp0VdgOnfuTWVWuKdtSmeA4XUxcunK3nz8NPO8ea9HLikK5g6le4Ij2mYmuMBjrd5A9pwykA6dJAMEbqYOx1rzhg7161Jtsy5gVaD8QIghhsw9DRbypzNdspktBAWY5ydfMYAMEiANdJ1J1MDXIYsTcQpxHhj8I3tAczNCdweovbrP2W20qh8OxLXEDsmSdhmDGPUr5Z9AT71MowGUsQtzzxxsNaVbZi5cJAP8qiJI9dQPn6VinFeJO9wqGJP5mJlif9x10+tal+KaebDn0cfdKyXinD28Qvb1nU9wTv70ES01iH7acvl0dgOx7X93ynSeu2nOy4uYVgCwMgb96+YNQdWIjtVpwrgWMuWWuZXXDzlZzGsdhuR0nYd6hXOAXgSFOYdDmj6it3PY0xK9J/UaQOQ1B866Kw4Vigjr4b92ET5GU6QfXfStz5Z4p/EYdLh+L4XH9Q3+u/zrEeF8JNoFmIzemwHp3rTfwxueS+vZlP1BH/1rGnUBrGNCvNcQq06lcup6c+Z5/brEoxxLNlbIAXg5QTAJ6Segms847w+yGZbtx7+JgFrjaIk6wFB2jptWk1nPMdl2xF1jbg7aaZlGxnrpWPFK3ZUgRuY8LFTAYanWq/uCQBMdZG26peGcFN4Zk8uY+Ud+n339I69JeEsrZYfCzNsSoOu+xkT761JdvDtqymJMCDGoAPeToaZsJm1LIBMazuSB+9IqmJrEwLHUQdtr6+MlMcLwyhT77gDtpvvDdPCAtC4Wha1ba6ii5EmAND3HbShfnPmS4t5cFhXCXWUveukT4NsayBtmIBOuwjuCCfg2DazaW2zZiJ19zsPQVjXFcQTi+KuzBXzZBImRnChfTyqNe1emzOFJs2MCeenog8HQZUru0IEkWsbwLchMx0Ul72FuXhat2Hvu5Ae9dZg7MWgsMp0Ea6jQT0EGfxfGYTB3DZtW2LLBYljpIkQVaR2jSCdjVByljktYpLlwyskA7alWUE9AdVneKq+JYw3br3MqqXMlVBABJBMA9SfNBJGrelDkL0QontMsuyAczcyQLTsBsPRGmO45iXw7NgcVdUoAz27kMwUyNHdSxGh6nbfSKzjifHMXiQFxF644UyFZjAPeNpop5TBGKRPiDAo2oiGXXYSf00G+9B2OgXHA1E10OdETK7Sw1JlQggbGYE3nUxzBvrBEoz5D54fB5bLhWw5aWgeYZolgRvHY/Kt0s3AwDKQQRII2IOxry3ZsuRop/wA/8Vuf4b8ct3MLZw5Ym7btnMIOihiFE98saf2Nb0XnRyW8awTABWpC/wDl+fyiviWMSzauXrhhLaM7GJhVBJ066CvL1m02dnUgwWMtoSCSQTE+Y7kSdZ1NehfxHS+3DsQuGQu7KFKhcxKMyi5C9TkLba9tYrzlhnB01g6z6dKPorzTle8Mw3i5bbME2g6dTG50A99q7tW8RhnL2HZHQMAyvAbKTB00ZfQ5gde9RsHZYAtPlOgJOv0qdxbiM2lsZQRM5lBLEkQFn5kwBrPXSNguFeiMNdDorAyGUEHaZEzHSnHYASTAG5qv5euXWwthr6BLptIXUCMrFRIy/ljt0qJzstw4HEC0Czm2QAN4MBojUnLNBEwJWrG5nBsxJhYpzzzAcbimcE+EnltjX4QfijuTr9B0qDg8P3+dV9qQQcp/z/zU+3eeICke5pSTJkr6Cyl2bBTYLCyvMBgluOlsuqSYzMYVfX/PSp+FwTvjbiYJ/F8FBkZgsOECKREZWWTAncdZ1qj4dwzEYlslpXYk65BoPc7L7mtd5G5UGCtkuQ114zEbKN8oJ311J66dq2pM7Q9OaUcVqU6dFzXOlzhAbbe+Y7iIHTl0IOHJdW2BeNsvrPhqVWOgALE7etTKVKmIXk0JfiHw25es2zaQu63NlGsMCD8py1S8B/DomHxj+vhIf/k/7L9a0elWJotc7MVEzaw6KgtqoCAQFA0jtHahviXJVhyWtE2ieg1X6bj5GKvOMYlrVi7cUAsltmAO0qpIn00qv5X5jt4y3I8txQPEt9VPcd1PQ/vVnNY7uuXJEwhLF8l4pfhCXB/S0H6NFWnIXDr9m7eFy2yAqupGhILbHY7najelVG4drXZgupUGc3yl5WEee2Qdex3g6dh9aM6quL8DtYgqXLBl2KmPke4rPG0DXoljdbdEVg6rKVUOfpf56oGwmGRjquX1PXpNTOAYIfxQVVV1DEtPYbNHeYp/FctYkD8lwZgMoMadzm036Cr/AIPwJbJDkk3MsHXygneNP1pFhuHVjVaXtgAgmbW+mqb4jG0xTdD5kEACdfYjVXlY9zrw9cNxJrl0H+GxagFgPgfy6iQRmDKH+Z9a2GoHF+GWcTaazeQOjbg/qCNVI7jWvS1G5hCT4XEdhUzbaH+OoNwsEx/D2tMUy+ViWR9gVUkBhGhBneD07mucHw+66tctpcZFIkoGMGRsQfi26bjtrWjHkHE2ZGDxuW2f/TurMA7iRoR/xp23yTjmdWvcQIj+RSN94hlA+lCmk/kvRDilEtu4eYdy3AEePeIQJgLJsr/FXf8ATVFbwthndgVBUZZKgEsSOwGtDVjB5WNx8wYsGXSANSIOYDqCJB0yn1ja+Nci2Xw7KgN2/oVu3mLMCCPkBE6AR6GgxOQb4bLvttZbU7H4oXTcHNBPbeoabhqrUOIUKhLnO9Z5dJ5nX0CFQhLKUGpMk7ncTp67xvB6zWpfhxwF7WZ7kaaabFoAI6DyCRoBq7AyVJp7gHJC2jmgp5iQzEeLBEZZTyW9JGYZm1MFdIM0RLSAABEUaAbACtKbMvecl3EeJNqt7KlopFYD+IvIRwdxsRZCjCu6qqguWtFgZBBkZMwMGfzARWr8sc2Li71+yLTW2snqZ0JIE/ykxMajfWieiadQEZm6JK9haYcvMVmxiDcNk2bpuhQxtqjFshUMGygSJX09N60PkPkW6zWsVeZrKLczrYa2Q5yEFSSSCozCYKzA9a1LGYhbaF22H37D5mhjE8VxDAsH8MflAXQmRpmIOoGtZ4jGinY69I08yFmYCI+I41LNtrtwwqjXQk66AADVmJIAA1JIArrA32e2rtba2WElGILL2BykiY3gmgnE8YvsbfiKri24uAbSQGAmN4JzDTdVNTsLzwMwF2yVHcNMfIgfrQzcfQOpjxBHvp7qZ2ogxHBMK7ZrmGsu3drak/Uim34Vg7Slv4eyqqJJFpdPos1Y2bqsoZSCpEgjqDX240AkAmBsNz6CdKMgG60zuiJQjx/nHD2MG2Iwr2rotvbzIpHwvcRG00K6HQ7TG9UXMnPgF+2+GuZkGHZh2Z7sFAw7rlE9RmaqDnTh1t7zXLa20YsQ6hCup189piYJ/nSQd9zQvcsm2jwMraADsW0meoiY9xXHSllTEunKPnzxW3cH5st4q+bdgA27dsPeuk6KWGiL3O8nYZSNehElzMAyMCCJBBkEHYgjcV555OxhuOth7dy5hg5Y2bY1vvACi4Z8yCJy6jQ6GZrfeFXrjpN2yLJ6JnDED1gAD2E11pJ1RdGpnF9VFxnHrdq94V0FRAIfcazoQNR96pubOfsPg1UJF+64lURhAG0s2uUTpsSY9zTX4jYi1ZVLrHzt5An8wGs+gE6n1HpWU8Wwdy438ToA0ALMkBQPt1+dE4XDvqOlw7vyyyq4jIS1F+K/ES9iMNetvhggYBc6MSACRMgidRIn7VScs8WFjGW7oY5QYeNZUjUeuv3AqoU3GtwqtBie0fvUnhuHEiehmK0rYWmXA6eCzBcbkrS8RzjdcjwQoBMKAMxM6R7+kUa4XPkXxIz5RmjaY1j0msI4pirlpw+HuG2ZJ8mkT2o5/DPnO9iXbDYkhripnS5ABYAgEMBpmEggiJE6aSRv0r2AuJkfREU6l4KKMXzLYtXbtq5mVrVsXDIEOD/JrLGYHTU+9CA5wvXnMubNvWFtgFvSWb7kRVT+I/GxexXgoqgWSVLx5i35hPRQdI7yaqeHrG1IsbjXNOVp0+ey9VhOHU2URUqDvEDW8fa+ultOaN+HcVxEj/Xb/nqPnoaKrHEWXS8uXs6iVP0mP82oG4bpVsnEnT4WI9AdPpSihxZ1J/eJ+vsfsWnyQmLoNJ7oH0RrZvKwlSGHcGa7bYxQRY44zXrAj/ULhWYaZkJAggbxqaOa9Pg8U3ENzN2/3/vXoSEocIsqHhfFnKjxYLdcoiPYEkkferm1eVhKkGhji2Fa1cLAeRjoexPSm7WL6z/nvvXnW8YxOEqGliRmg66HxHT15WiEwdhWVBnp2lGFKh23xVx1n6Ur3GX6fYUwH/IcHEmfCP5WH6OpKvrjhRJMCh/jfFSy+HbG5AJPvUHEY4ncya+cJtNdvLHwrBY9o6e5pbW4vVxrxQoNyh1jzI38BEz0RVPCtpfuPvF+nRE3D8AllYUan4m6k1NpUw5k+gr1Qa2k0NYIGgCWFxcZOqpua1drai2C0NJjXYGP1qj4vxG34qWkMqLflI20y5vnLCfajMx2oU4ny3cuYvxEyrbCHUndnInQdsoP/Kl2KpVCS5t5j2B+5uqFqomxK96rMU0mavOMcu3rQLyHUamNx8u1Dt5qVVA5ph4god0ixWh/h/fLYUg7JcZR7Qrfqxonqi5OwRtYRAd285/5bf8Atir2vSYYEUmg8giG/wBoWWfiXw5rWS4b7XJJUB01AOsC6qgMBvlfXcg7yD45pt5TMlZ/sP8APSiznzjL4i+1hXdbSGAqxkcqdSTG87AyNAd6q7PDRcUxBygAiIkgxoY0PrWbq7M0IevgaxdnaLePzb1U/wDDcBLqDOykx/p2klniPiaIRNp1Ex6abJWe8p4M4bEr4YzW7oIeYleqkHcidCPn000KtaTw9sha0qT6QLX6/N9/zZZZ+MeEcPYvwTbCsjHorEgie2b/AOtB2DuPdQsqM1tIzuB5VkgAE7TJGm/yr0C6giCAQdwaZvYS21trTICjAqVjQg7iKZU8YWUwyPNZPwoc8ulYthseuQrEVbctcrW8a151u3baoUAOVdWIJcEa7aRrsdas8X+GBznwcTltk7PbzMvzDDN8wPnRry/wi3hbK2bcwNSx3Zjux9T9hA6VWpWGXulWZTM95ZFf4DibF1rd2xdfU5XS2zK46EFQYntuKMeQOVblm62Kup4UoVS311yyx/l20Hqdq0ClVHYhzm5YVm0QHTKxDnrhD2ca7EeS4xuI3Q5tWHuGJEdoPWpXB+E3LiK4Ag7HN202rWOI8OtX0Nu6gdT0PQ9wdwfUVTYXlVbIIs3Gy7hH1g+jDUD3mvM8RwFd0uoQeh94lPW8SLqYY6xAAnwt9FQYfhdwDcU63Dbh2y/Mn+1XTYC8N0n2g/8Aevq4S6drbfYfqRXnjhsRMdi6f/U/iPdZuLXXze6rOB8O8K94t4hio8gXudJMxsP1oqweNFzNlUgLpJiCeoHeOvv7xCscJYmXaB2U6n3bp8vrVtathQFUAAaADYV6bhVDFU2/uw1uzbZvEn7eqDq9n/jc+yVy2GBDAEHcGqTG8uzrabL/AEtqPruPvRBSphiMJRxAiq0H6jwOqpTqvpnulBj8HxQ/Jm9mH7kVyvCMUf8A0492H96LsTirdsTcdUHdmA/Wo1vjWGYwMRaJ7C4v96V/9P4SZl3qP/lEfr6gsY+eap8Nyyx/6rgDsv8Ac7feiDDYZbahUED/ADfuafmdq+0yw2BoYb/tNg89T6/AsKtZ9T+4pVGA0Puak1FFwByp66r6+3tW9SLT4eqyUfHeIUi0yo0jzMuYDUTpI6TX3AM5DeIoXzELBmVk5T6GIn1qUVr586yyHNJXZtC5vgFTNZly9wY4jEFYPhI3nPSAdF9z+kmj/H4qYtWz520X07sf6Rv9qssPYVFCooVR0Aih3UW4ioCdG2PXePoqObMSnaoudOJCxhLjdXHhr0gvImekCT8qn4riSo+Qgk5QdPUsP2qg51y4nBuiAtcBVkXaSCPlsTWtXG0QXU84DhsTG3VEU6ZLgSLLMsCw2DAsNswnTXSB9KIuH22BjST9frOkUNWcLct+e7YuIdPya/XYgRV5w3EgGdBM6RM99elLNdL+EeenLZM/P6+X8ooLwAwIBUyI9Dpp+aKNcNczIrfzAH6is6fFgJ/Yfp9Na0PDNnRGiJUGO0gGjcAbuHh9/sg8W3Tz+yfpVDxHELSSHuW1IEwzgfWdqyPmDmriV0MVYWEmJRwB8iss095+QoyrXbT1XMJgamJJy2HM/bmtopVg3BON4sZicTeaI18RzG/Rt/mDV/w/n3GMy2rZXEXSYCi1qddZKsAo7kjSqNxTTsfnui6vB6rNHA+38LWqVfBX2iUoSrhnA3IFM4zEZFLe33qlxmLlg8+hH1/vQuIxQpW1PLp82VXOAVmOJLLCPhkb7x6V8Xia5ZYESYAGv9qp7QGclvKDrqYr5bIyQJZpGUfrp7UrGNxAm43i3pbXwVc6JrdwMJFIXASQCCRofTrr20oft3SPOwYawI713y5hXN7FYlwFN51VUBmEtLlUt0zNJOmwyjpTPDYntRcQVZrgZV+zACToBWecZ51e8WTBkJaWQb5/NG+Senr16RoTJ/FfjPhWFsBsvjTnP9CxK+7Egewas1w4zorXXFqyNFXqf+9UxWILO60xzOvkBufos6jtlY3sdYzSxe+53Zif1Jk/en7XEMOdHtlR0IM1Xji+Ftf9O2WP83/c61Jt8zWmHmtGOuoP2oAh5v2bz1LoPoEM59Ibj0V3wDH3Ul8I1yF+O2ykpr3I0We+9aRwXiq4i3nAKsNGQ7qf3HY9azPl/i9q3dFyw+QnRrZMBx2IP2I2+oN5y5xC6uNMoFtXWIAUyFmSB0O/ppPat6GKDXBknwdZw8D/AJeGu8ralA006aLQqFl5vwN269h3ylWKy4hSymDDdNepielFE15ws3szHN+cz7E9frvR2IqFgFtVpVeWxC3x8A41tXiB2YZh9QQf1po4HENo11FHdVJPyzGB96ybg3PF3h4/1JuWQY8InUH+gn4T6bb7b1X4/wDG3iDNNmzh7SdFYM5+bZlB+QFVpYZlYSAR5mPrHor03ZxIW64Hh9u1OUEsfiZjLH3J/TaptZTyB+LYxV1cPjLaWrjnKlxCcjMdlIMlCempBOmmk6tRQp5BlAhWVJx/DEhbiicshgN8p1n1yn7Fvaqu3cB2ovqtv8JtsZEqTvEQfkQR9IpDxPhDq7+2okB24Oh69DFtNI5XJpVw0ZXKoVqpuYsbZsoSyIXbRRAknuesCih+FKol7hCjsAP1n7VXLyTg387G7dLHNma4du2kCPlNL6HBsQX/ALrgIvAN/wCB/re23bsF7oO5Wwt7F3FEApbZfEMQsTqI3kgHQd+grXKiYHBW7KBLSBFHQD7nufU61Lr09CiKQPM6oatWNQ9BogTmblG+91r2FuiXgul0mJAiUIBI0G336UOvyZxFxDJbAGpAcS0awN4J9YFa7SqOw7CSeaLpcUxFNoaIMaSL/bTZYNas4a28FXS6phlaQV9IJrtsRduXcuD8QtGothgfcldY9SY0rbMVgbVz/qW0f/coP6iu8LhktjLbRUHZQAPoKG/QXu78/VFnjUi7JPUyPSJ+aoK5XbiyFFvW5SQGNy4pIHU/EWmP/FGmLxGQT3MVIqux+KiQI0jf61pULcPSPePSb3SnE1+2dmyhvgP5ULEF2nL13nT9aj5Blyx5p+n+fvSuZ2gyBmOg96bQlLkDUHv+tJHuvm9/Hp/KCmLJ02WJl9Mo0jt+9fShIzoACo67+9cuGDZnkydqeuswIUnQicoH2Jq4aHEm/wB+l/8Aa6msrkBmObsNP2q8wQGQGInf32qrwtgs8jadvT9qc5lw2bDtC5snmyjcqJDqB1JtlgPUij8Ax8uftoOvWdVdgAElAH4zYVvFw90LmGRl1MIpBBlvfNoOuU1nuHNrMTe8S8eyDQek6ae0VbcRZsPedbjShgo6jRlPwmZlswM6CN6l2MWZipUJeSdPD86+MQnw/wCP06lxVkHTu89D/dodlAs8WCf9PBH3O/6H9akrxt20bCSPYn9VrrHcQhCylem7RoTG/T0qDfxbMdJUAsOxJH5lOxUisDQpa5fOXT9Vsz/jlOcpqu20Dd/KPdS3vYYo1xsLdVQQGZToC0wPi6wenSp/K2KVsXhxZ/ilXxE+ISkSJB7CKZv33s4K2uYK9y74kmBCIpQHXuzOBv8ABV9+GXCHvXhi7jO1u1Phk6KzkFTlB3CgnWAJI7GNWUCXNgnY3JO/Ue8+S85isLTo4l1Nlw0xNpm06QLGy1mvO/4i4VeH4prchg8vbUESFYmAw/LBkDvHvHoivKHN9y5c4jizenP/ABDgz0CsVQewUKB6RTbsW1SA7Zce0O1UPHcQe+ArACDm6k7EfvXNq1bC+bb7mp+AwqLqRv13qucBnaNixA9p0+cUZTptY3K0Qo05bBfSUOlsMpnRuoPfedK9V8D43h8Xb8TDXBcWYMaFTvDKdVPoR1rzDhOGyRJ06VpP4X4dsLj0ti4jricMWZUbNlKnMofTR1GYRrGau1mS2eStmJW0U1duhVLNoAJNO1VceBNvIupJGg9NfppS3E1TSpOeBJAMDmdh5rSm3M4NVNisa90y2g6L2/uafwmNa3sdO1RVwz/ymuM1fN6tfECt2riQ873B8unTROCxhGURHz5KLsPfDiRT1UHBL3mAnef71f17zhWLdisMHu1Fj4j+CEprU+zfCVKlSpkskqpOYuZcPgkzXm8xnKi6s0dh0HqYFQOduZbmAFi8bQfDF8mIcE5rYaAjADcTM/8AEdaxfmHi74m/cvuZLk5R/KgJyqPQD7yetZVamUW1WdZ5YBG63zlrjAxeGTEKhQPmhSQT5WZdx3iasHw6MZKgn1FCn4VKw4ZZzAjzXCs/ym45Hy/ajGrABzRmVm3AKr7vDgzAljA1yj+/auzw9JJGhPzqbSrP9NSv3RddgKE+DQL8JaJIjQz6GRVZwHH2MTnZVe3cQxcs3BDIekjsehBg0QUIcbxtm3jbF1G865rd8Ab2yrFZ6FluBSB0DNVarKNMAuAA6+ysACi4V9qPhsQlxQ6HMp6/5sakUQCCJC4gLmvlknzJba5akkC3Hi2STJyA6XbROuTca5egGeHlvzTYZLmUsYVocM2+a05Dq3SINegKr+IcGw1//r2LVz1dAx+pEisamHa8yjsLxGvhhlbBbydcDex1F78pWF4XljECQcMYAyLIMZBqAxbTeaveXeVs7GSbxzT4aOGCnTRrolLS+gLNEwK0S5y1w2wrXWwthVQFizWwYA1nUH7VdYG4rW1KoUUjRSuUj0K9KzGFbPeMompxvEOblYGt6jXymw9LIQ//AK7sXbwv4u414gAC0oCWlAiFCiWyiIjNr1mjO1aVVCqAqgQABAAGwAGwp2lRQAGiTgAJUE88fh3h+IN4wY2MQBHiKJDAbB10zR0IIPrGlG1KrDVdXl/EcvX7d25Z8VCttyhdc0EgkGAY6g9elTf/AMExRsHFYZGu2wcrINX0AJdV/OJ0gazsD0M+FcqYrEXWV0a0mdi7uI1JJMA/Ge0aevfVeH4RLNtbVsQqCAP39STqfehsPXxD35nf2ibRE/dUAJXl+1jgpyEHONMsENPbLEzWs/hRyxfS42NxKNbJTJZRhDQxBZyu67AAHX4tNRWn5BMwJ713R7q5IgBdDUxiGIUkaH++lVOJJll6D1En1J3Jq3xFrOjLtIoe/ixOW6uVxpMTt3HX3rzXGXEZWkwDvtvINjqIN4Bi5ACNwzZBIE/NVJ8OAD66AHUbb9qj4q1nVifiUSD3HWe9IXk3z/8AtNS7FnxJAlV6nqfT+kdYpLTpiu7s2Rcf25gZOXWRYQdzEAQ2Zyne7O876Eb9dfmiY5fsktm6KPuf+1EVM4ewqDKogU9XquHYT9LQFMmTqfE/gQPJBV6vaPLk1duBQWYwAJJPQDegTH8y3rrnw2Nu2NAB8R9SensKvud8QUwxA/MwX5ak/pHzoFwh0FA8VxT2OFNhi0mPnRN+F4RjqZrOE3gTtz+fBY4/GXL9m5YvsXt3FysCBPuDEyDrVVhuA4e0fLbBnq/mP30HyqfXW6+xpQcRVc3KXGPEo/8AT0Q4PyifAK64Rxd7OVW1tiBH8o2Eeg7UZq0iRsazuxqKN+CPNi2f6Y+mn7U64VXe4mm4yIkTrySjiNBrYe0ReCp9Kmbt5V+Ix+/sOtQf4wsdyo7f3PemdXEMp2OvJLWtJ0UjimOWzae435RoO52A+ZrL0YsxZjJYkk9ydf1o943w84i2F8QiDIBiCYjXr/5oKvYQoxVgQRoRSTiVZz3Ntbbx+QuxAV3y1xMWXyuYR+vRW6H0BGh+VHNZ1w6wjMAxIB0nseh9qI+W8SwZrDHMFkqfQGCPbaKI4fiC0Cm7Q6HlvH49Fw3RFUbGYxLS57hyrMFjsJ6k9B6mpNCPNvFrv8PcS3YuAPNs3WIUAGVLCGzA9iQB19C2e4NElVFyBMLnmnmHD/6dovmGdHuZRmGRZuRI0JJVRHrVhwrmqxiHVLYfMwmGAWI33bzH/bP2NZObUwGiR6zPv0p1Ts6lhEQyzpMxqDp1oRmJJfpHqVtSbTfULHSI/wAoc6TYCG5Zg3NwtzpUM8jcWOIwwzNmdDkYkyTABDHqCQeu8UTUaDIlUqMLHFp2+bpu7cCgsxAAEknpVN/+R2yYRWYfzbfQb1D5yxZ8lkHfzN7DYfWT8hVbhSNqSY7iNSnU7OntqdetlkTeEYYfHI6lpiBJnSBUEccDHyJI7kxPyqtv25RhEHuD9vrUXC3Yjt/4qN4hVcALA7kfyukorwuKD6RB/WpVUOHM7EyBI9xrV1ZuZlDDqJpnh6peO9r8+i6nKqeNXMMoDYi4lvszMFPsJ39qD+d+fGtXGw2EjOuly6dcp/lUbFh1J0G0TtnT3Gdi7szud2Ykk/M61liq9Mg0y0OG4OiIpUnTmmPqtgwvEOHM0LiFJ7FoB+ZAmie0oAAWI6V5/VRFEnJ/NL4a4LbtmsEwQT8E/mHYDqPfrQ2FfQpO7tMNncD6/wC1pVpvcJzE+K2ClSpU3QaH+dMKbmFeN0If5Df7En5VnuFu6RWvsoIg6g1mXMvL74Zy6AtaJkH+X+lvTsf3pLxXDOd+63lB/P5+Q/4NiW5TQcYMyOvMeOkc7qN4g707ZueRj6iqtb4NdeIaRAJ2aJ0VtbvRWh8JtFbNtTvlE+51NA/LfCWuuCR5AZY+35R3J61otPOD0CA6qdDYff8AC87xaq2RTbqLn7flVOabjk7gwPQD/J+dV3MJueS3bs3W8WVa5aKg2thmOYx1n5HcwDzxPGHDYhjcB8K7qrRopgBlP0zfM1Mw/F7LbOp9mFQva2o5j9ZP1sfRAAGAQuMIHtqqOxYqoBY/mgQT896Y4vw0XhnT4wI9x29DVm11WEbio94BAWzQBrrWb2ggg3C6ROqEVfLIIgjQg0Scp2Sc10iBGVfXWW/YfWh9eL8Pu3blzE4lLMEDw2YKzQBrB82voPnV/wAFxl7EXw9pWs4K2hVAy5TeYxDBSMyooGm05vprgcMQ4VDpt169Fi5sK34pxW1h1DXWidgBJMegoE4tzbeu23teGgDgidZE7GZjT2+lLn/Et4zkExbUDKx0k6kqPUEfShrht9rmkeY7f2ps5xmAvQ8OwFEUxUeJJvfbfp4yot24QDPt6e9Q0vOR5T5ffepuOtO2wkRr89qruG2CJEmSdfSsgAJO5TFtAMc4g3cZO/QDpA0H3uiPljjV/DZvDyFWIYgrJMCILCCBWk8E5ks4ljbUMrhcxDRrtMEHWJHasV4/jLlpUtAgDVwykT5wuk9PhBjoSaIPw9v32xVhgwQNIM/mUqSR1gmBG23yOjSdAgMfhKD2ufo4Amefj85Iv5uMYnXbw1j6n/vUXCt5vQf+KJOZeCm+A9sgXF2nZh29D2oVs2rquyNbbMIkATEzG3Q615viOHqNrufBgmQV5SIKIGvAWnO7MQAOumtUVm8Iq/4Hwu5nFy4MqrqAdye8dAK6x/K4Zi1p8k7qRI+XYemtEswtZ9MPyxtG8azfqTY/dWMlRLONK6jt9jNEPCCfAQntPykkfaqPgnCAzXBcLHw3yxBAbbUMdxuIHaioUxwdGozvP8h88F0SvNa4oXGa4DOdi098xJn71LwllnYKm/2Aol5v5BfDE3sKGuWWJLIBLW5JOgG6AadxGvcVnI95TdYaE6EfKf8AtQGKDqUn5qjjUhhc1TbvC7VlVN59T3MAfsK+4dMBcbILi5ttG69tDBPpVXzZcC4y2+KtG5hQfhUxJIMgHcbAxOsVF5rx/DLqW/4Cw9u9nHTcbRGYiZihmYZzwHFxv6D3EdeSDD3m+Za/wDjUZLNwyICo/tAAb1PfuaKayrAybNvOwLZRmHXbXZQK07DzkTP8WUT7wJ+9MeG4t9TMx98sQeYM6+mu463PAZT9fDX2lTZRVd3gOFYy1i3PcKB+lK1y/hl2sr9z+pqVxDFC1bZzrA0HcnQD61A4Vx23dsm43lKaOOx6R3npWDm0c2UgTroFf9TUHdzn1KtbaACAAANgNqcqn4TxkX3dQuUKAQSdTM79quK1Y4OEhZgg6JnE2EuKVdQyncESKHeI8vYC2MzoyjuDcIHqYnKPeKIcViFtoztOVRJgEmPZQSflQXxfnZkb/RfDupOi5bhaO5PlUe360PiRRiaoHmAf5WtMPcYbPkrnC8tYQqGtZoI0Zbh/vFMtybbJ1vXSvYkfrH7UK4bmu6pZEZbKO5eQhuZJCyqgCN5MEDfcUT8K5vt3GRMl4gkJ4rIIzGAC2XRJP6jahabMHVtkb6fbX1AV3tqs1lEWGwaW1VEUALt/nf1qTSpUzAAEBYIM584I90C8uoRYZANTr8WnadfQUH2+HG0FKI4LarAaWkRp1Oh6d62OlVSyTKaYbij6NMUy2QJ6W5eqAuWeVLudL1/yBSGCbknpP8sdt/amOauTLviviMNDByC1oaGTOZgSYMnWNNz7VolKu5Qsv6lX7btZE6RtHKPhWMpwLEvqcK75WhgyGNOm4LD1X60Y8lcpGx/qX1TPoUAJJSQZnZc2saTEaGjWlUDQFfFcUq1wWwADYxP3SqFhsAiXLl1c2a7GaWJHlkCAdt+lTaBOYObXLNasQAGINwGSY/l7e/071liK7KDc7/LmhMPh6ld2VnnyCOpr7WQJcLklyWP9Rn9atuG8QvWtbbEAflOqn5dPcRS9nFgT3mW6GT6QPqUwfwktFn38I9/4Wk0qr+EcRW/bzjQ7Mv8AKe1WFNWPD2hzdClTmlpLTqEqC+eeW3up4+FUDEWznEAAuPzKT17ieojSaNKVR7A9padCuNMGViOD5qVwUv2TI3iDtpqrRBmpdrjGDtgeHZykSTCKsz7f5oKJ+ZsLwm7cL3DF3q1mZP8AugFGPvrVZguB8I1dsRcIUElLjBdBr0QFvZTNJHYFuaGuHr+ZWo7E7HyXfKdtsXiM+TJZtnM39R3VJ99SOw9a0yqjly4jWFNuybCa5UIAkdG0PXfX77m3pphKDKNOG73J5qj4DoAiNk1duBQWYgACSSYAA3JPQUEY38U8Cj5VW7cA3dVAX5ZmBP0q7574fdv4G/asznKggDdsrKxX/kAR86wRPCUS+vp1PpHpXa1VzCAEz4bgqVdpc8mxiAtL5v8AxKw3gqmHDXXaGIIyhIOzE6z6CffahThHOi5j4yeGp3KyRPSQdfpO9CTqpuM4BCk7HcbTNO4p1Zcir1mdtvSg6jg8y5H/ANEoOEFhJ5zcfb2Wn8pc/YG27i4zoXgBihy6TuRJEz26Vp9i+rqGRgysAQwMgg7EEbivMNjAq2gMGD7fetq/B/xf4CHnKLrC2T/LpMemfN96JwzxGQIHH8Mp4WnmYSIMEHr/AKX38QeZmsxYstluMJcjdVOwB6Me/Qe4IALCa66nr61J51Y//wAhfzb5h9IGX/2xUO1dg0lxtVz6pnQEhO8Dh20cO3JqQCTzm/tp8KsbNsGrjg/FrmHYMpJSfOk6EdSOx9aobd4dDUhL3l1ND58neaYI3+fRdq0w8ZXCRyWxWLyuqupkMAQe4OorP+PfiPkum3hrauoJBuOTBI0OVREj1nXtGpKOTiWwdvN/UB7ZmArI+M4D+DxLWAyuRG3ZvhDDoY39x3p9Xr1Oxa9m4k9JCS8NwlB9d9OrctMAc4JB+1uU8loOC/ESwEP8SrW7mkKqk5geo/l9ie29U/HOeb118uEJtoI82UF2/UKOmmum/Sgy7h8ry5DZvNp+np2rvFEOVCCAF1jrHfXppQbsXVc3LP5TinwvCsfnyzNx/wCI8tTe151utH5U5juyVxTgr4ZcXCAIyasCRAIiTPoe9AHF/wAbMS19hgrVvwZAXxUZmbeWOV1CA6aGYjfpQtzNL2zaN34GnLm39I+8elDVzAFUZs6gaSCYLdIHfeSO00ywRLqUuMnqkXFaLaeIhoABA008h8Er0Bwf8WMI2Ce/iitu9bYo9i2wdmIiCgmSpnc6AggnSTF4R+NWBvXlt3LdywjGPEuFcoJjLOUmAdZOw0nTUYTbwduAWu5AdCYzaew1+lSuDYL+IKWrdvxLznIiwZJ/YAak7AAk7GiTZLcq9Pc48Q8HCOymGaEUjpm3I/4yay3DNAij/mXhDpwy3aDF2w6W5Y7sLahGY/KW+VZ3ZfpSDiubtROkW+69JwZrf05jWb+ghWCHXSiLB8KvEAkBQds7ATPYHU1R8vR/EW83w5hM7b0TcTfNeuMSVIYrrqABoNtVGk7HWgKeVrM7ucRYdTc9Nt1viHODg0cpm53jQe6e4DNi6SWVkZYbI2YyNiFGp6jQdaLbF9XGZGDD0/zQ0HW8OxXxPDDKD5iIIJHt0PXtrtUjB4lw2bN5yYB6Mf5XOxB6HUqfTSmOExZowxwsZj+JjU6C97TKU4qgKpLgb6en8fLowoK5/wCNFAMOhgsua4R/LMBfmQZ9B60V4fFK9sXNhEmekbg+37VmvEbF7E4m5eW1cKs3k8h2UBQdtNp+dM8TU/b7u/0Sd8ix1VRbsTq30/vRdydwYMy3HUZdSoI3ywJ+pEf7TXPCeVHd/wDW8gABIEEmZ07Db7ijO1aVHVVEDw4UDoFIn/5CsMNhyDmcFQNUylSpUxWiVYR+LHDynEMxthbdwKVYLAYgeaSNC0jXrGWt3qLj8FavIbd62txDurgEfQ1nVp52wisHif09XPE6hedbeUWyioGLwBAJaTtHqTpXV3hjWLjWr6ZXXcN9iO6noRW78N5WwVh/EtYdFcbNqSPYsTl+VTcfwyzeAF61buRtnUNHtI0ob9IY1Tf+uNa6zDG97z89VknKPA0x98B1Pg2bcMVASTOillAJJliTvA32rYcLhktotu2oVFACqBAAHQVzhMJbtKEtIttRsqKAPoNKlURSpCmI3SrG4w4l86NGg5cz4krK/wAVeFlbyYgDyuoVj2dZifddv9poMt3K33HYK3eQ27qB1bdSP8g+tAnGvw2WC2FcgjZLhkH0Dbj5z70uxeCc9xey/RNeH8UptpilVsRYHaOvL5dAaNNT8DZa46WkEsxCgep/bqfSrjgXI2Jurmuf6K/1iW//AF009yKO+A8r2MN5llrkRnbeOwGy/r60HR4dUqEZhDfdFYvidKlIaZPTTzOitcDhVtW0trsihR8hvWS888Fvrjrl0W3dLhDKyqzDZRBgGCCNu0VslKnlWi2o3LovP4PGOw1QvAmQQZ63WEvw+6pDXrToH+HOpWY0Oh1+vemeMKLWGuugY3AhYFTOUAEElYOgJGuwitwxuBtXVy3UV13hh17jsfUUxgeC4eyCLVpVzCG6lh2JaSR6UF/Tv3Jm3v8AhOTx+aMFpDtLHu/WfEb+a8ncOwoYh7pLDUkTqZ/q1PrTF3S6oJJA2naPSvSOI/CjhbXC/guoJkolxlT5AGVHopAr7zP+GOAxjWmYPZNpBbXwSFBRZyqQVI0nQgA/ampNl51pA0XnrGg3SGyDJaQKzIkBQWIUuVESSYzNqdBJirTljhhfFYcYYv8AxBvWzbykQoDS7ERMBROkaAzNei+X+U8Hg7LWLFkZH/6mfzG5085b4h6bCTpUrhfL+EwxZsPhrNlm0JtoqkjtIG3pUBULpVk6AiCJB3FZnzRyc9pjcwyl7Z1yDVk9AN2XtGv61p9Kh69BlZsO8lvhcXUwzszPMHQ/NisMw14q0Hyt2Pf2ozw/EFvqDAW+NGn/ANQDQQToG/X7Uc4jDI4IdQwIgyOhoI4pylctybXnWZA/MP7+419KSV8BVoAlneB1EX6Hn5jTwJBdM4hQxXdqdxw0MyL6jQW6HyMhL+IdWNtmYAnzidfvvGnvr0NfXtliEAlpEZe3QxtEa9KjYN8YDkAcgdHt5o9AGFE/DsDfcA4hoX//ADUAT/uy9PSh6NE13ZRmN9xYDlmJ9wJ1gG65XLaHeJHkbnyj7+am8OYLbd/yZ3YH+mSZ9tzWFcU54xuIvm4l+5bTMcltGKhV6AgfGY3mdZ6aV6BeyCpQjykRHoRFeY+L8LuYTEPYvSrIdCdnX8rDuCP3G9ejgsaAheGdnUqPLgJ2m/j9pWsco844hsoxCC4rXUtvcUZSrOAqGJIeSpmAsaHWYETmH8SS1zw8IuUIxXxm1ncHKm0dQW7DSqz8MOX71+8uJuqVsWyHWRAuOPhIHVV3zd9B1gf535fu4LE3AVPgu5a1cjywxJyk9GXaPSetdl0LZlDCnElsDTTafzvFh5rRuV+ZLhuWQ9/xRdY22R1UOj5SwdcvxWzBXXYx89CrCvwv4Xcv4u1dCnwrBLO/TNlIVQepkz6Ae07rVmGQl/EKbGVcreV/G/LolSpUqugUqVKlUUSpUqVRRKlSpVFEqVKlUUSpUqVRRKlSpVFEqVKlUUSpUqVRRKlSpVFEqVKlUUSpUqVSVEqauWFb4lDR3E/rSpVFE7Td1QRBEg9KVKoovqWwBAAA7ARXdKlUUX//2Q==',\n",
       " 'data:image/jpeg;base64,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',\n",
       " 'data:image/jpeg;base64,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',\n",
       " 'data:image/jpeg;base64,/9j/4AAQSkZJRgABAQAAAQABAAD/2wCEAAkGBxMTEhUTExMVFhUXGBsbFxgYGR0aGxgbGB4bGBgXIBoYHiggGB8lGx0dIjEhJSkrLi4uHR8zODMtNygtLisBCgoKDg0OGxAQGy8mICUyLS0vLi8tLS0tLTItLS0tLy0tLS8tLS0tLS0tLS0tLS0tLS0tLS0tLS0tLS0tLS0tLf/AABEIALYBFQMBIgACEQEDEQH/xAAcAAACAwEBAQEAAAAAAAAAAAAFBgMEBwACAQj/xABBEAABAgQEBAMFBwIEBQUAAAABAhEAAyExBAUSQQYiUWETcYEykaGx8AcUI0JSwdFi4TOCkvEWY3KishUkQ1PS/8QAGwEAAgMBAQEAAAAAAAAAAAAABAUCAwYBAAf/xAA3EQABAgQDBQgCAgEDBQAAAAABAgMABBEhEjFBBVFhcfATIoGRobHB0RThMvEjFTNCJENTssL/2gAMAwEAAhEDEQA/AG7PpInylSypQ1bpLERkmPxIkzVyConQSyjQVrp7HmaNFl5s6yhSSks6SSOajnehH10CJneKw6pumY1zpmJHOku9QH1JfsSPhGW2Y24HC27UJNxqK25+PqIdqdVLq7Rm6hYjWm6nXA3pEOFm/mJeLeGzJS1aJcszFdBZ++wiTLOE/vExPhlkJAK1oUTLmOHGlJ9k9RYfCNByXhmXJ9lLeUc2hMsS6yj+St27n9CGjW1luN4iKc/gZjxgBlXB86ZLCZ84JQTqUiWmr39pVAH6Jgz/AMC4VmPiH/OR8mEM8tDRYRLBhCubnH11xUOgFvb5vCfuJ/iLQjzeCZaKy5k1NBykhSSwYbA2o79IT8YlSV6VOGLPWjdPhYCNlXLMA804elTTqKa/Pz6wTKbVdl1EPVIO/OGcjP8AZDCq49oy7F44Il19A7n0D/zcxDwXjylaj+p/LsIb824HQoUA/eEbFZJOwS9ZBVLdyRdPWHrM81MpICu9pFj06tbgUR3L5Xz1PD2jWcHMIl6tRsH6RBNz9MqWskBQA5gGKq9E7lhQdoVMs4hTMlkaQsHYjULPY3LbPHtWATo50S5epTHSoB31FzoTswoCT2D0JlUukFShSIOSq3QcJAByN/YbtTB/JOIETZU6VNShKQCuXNSFBK0BVXCnIUNw/wCzp+fcTTFa5SVrlBLswqsHllgqoEJJcsb7kNFzH4EDBkyQoBQWnQVKqoUINaU6N+8Z7KIK9LBOzOXZn0gkHUHqNXRt6t5amSozTyl4VMkmqVEKrvB8ai0XULEpQIo9QXFQzFJFSC79Xe94ZsHiTMoAfc5qSfypuxNunlCjh8GucnTLFXFWLaTzM4sQzNW5rSDeFy7EYchakhSRelYCnVNYqAgHdGh2K+tpspWDhzB0ENRlqCWO/TSKmjUZnazAgP1irIxoRiEjqC/o1/O/rAbE8QukgalGqQC4dQFhqFDSAWDTMnqnHVpJbQS49kgq0jc6tPS8VMyq3bG0e23Os/jllJCiaZXAvmePDTWNLzrLJk8BUpTEOe/v2t3j2iRisQES57hL0LlwAbFiX2rT9oAZXxMuSlKZpC6H8QcuptwDRVaO436GDB49w2k/iORcMXGzMReLqPMDCpPLWMYAvIDrnDKJcuRLZNABUwhZvJXi5oVLUBoJYGx9fT5xTzXipeJUEJ5UPuamDWSIpSFc26413sjGg2Vs5taVdoa1tY5a/uJZuXTAgAoIIF+U/KkTZKmbKCisukOwck+Vmg0hQKWdz0MDJiJqVjSElIrVTdQ1nvAYnVuVScI55U1vvi7/AEeVavRRuNcjXPIW388ouZgjUklBAURyqvXY9xCR/wCsoKVqKiqaFBJ1ABQodQIAADECsOUhWlIQaKchI6jt5CnpCnmGRpmz5gBZ1JUWah0123cH0ET2fhl1KS7/ABpY776Hd484tmv8iUrRmDQjUW1HtwgDis4mMfxFN+lLfNmiXLsIqZLXiJiNaUsQgkDXzBNVM4Dn3AwWPBq3JDLZm1gs9enSBuZycXLlzJM5AKFtpIAASQoEMQBSjMYeMzzS6AKHKE7rJFr8T+opY7M5k9eo+GnQxZFUIAs5NG20i8GcxxImYWXzK1qVyFxXYqIFADWzUgBLwRmIQgAAdzRSnHOerB/R4cMBwusBOqciYoDkDOlnFaXFbwS45RBWRaF7jBW4ltvOuW8a3+SbR6zPOUGTJShIKJGhiCCptDEEXfU9n2dohxGZnEoT4fKpCnQkFPNvUMA7mtGI9RBeRJRLJROwssg11IAVfcXHygZnOXolkKl6dASsEdUl2DKqDR2NoqCm1KASQa8deIzHVaQwlmn0NqDiCMN7i1OCsjTrWhPhXFSjNmGZLT4oW4WoABA/QagXqG69opHEqm4oiWOZNHSEhZd6AkOTT2X3oLwMwXDMw4eXPlLUdRDoB5nOxDqYsRWxBDtYHMD4OH0krmS1KUpKisgy9QYeyxKQW9oO36WixeFJGPKOgqoSkXixjeE56lOVKmUBdS5iSH20i3uEdFnEZzi5aUJRImYgMT4iXmJLlwErlg6gB+qsdHLHICJJUAACYo47GIUSZdFAaqKBdgHLBRGxNnD9oHLyc4mfIAUUeJWalJLFFS77OzevkIVpGZKoCSA4/jvsTQQ88CYSYcQuZMSU6UBIBuNbKqNqNTvCufWWWlugU48ch43jST7TCwgpNxvzI+vappnD/IwyUAJQAEpDAAMB2HaLMtN+14hlmLMlTH5xhkqSpzvWHt+t/CFa60iWWgAgm2xi4hiNojloABG20ekgAxpZZjsQLC+nWY3cDTdAijWPkxG4inMi8sxUxChAW1W0hNQfD55xNvOKsxEUsZhEqDEAgxfMQT6eUIkkg2gtBIMZtOyqVJmzUS0gJHMXLAFTB2cHcVBDMekVJk7UXUTVtRLlw++okkWqDEmZYslczVQhaib0LgPS1Gr2gNicxSlTvu/T3dHpY9Y+iMLIaSkmpoKnfaNS2lLSBXl1zgnjsSoAoQvSkgAhwz8pKhtqqxb9NekUchyWVjZ8xZSUhJbRsD+Zje9awMn5oNBKXVsWD1Ls5/I5eoNfOG77PsOEEN+h1HqpfMfdb0iqddW3LrUDQ2p5/UJJ1DJfQW0gm+I8KGlfG94a8q4alywyExaxmUJUCi7i/nF9OKo318Y8zptL3jOreZoFCpVYn6ijtXSaHKM8zrg1CnZZLdWBfqGA6dPWEqfKVIUUhRISWmdj+VVDQsaHq8bFiQ5LBzvXrCJxXk0soVOB0qYv0UBd/SkO9kTz2MdrUhVaHiPjQxROS7S2TgoCmlfEZczmN8JyswTahLEDSWrUayCKODa7lzvDTw1kUlSPEmywpSib1dqkDpcUMKc3AlMwFlKGkMzFnACT5bDyhtwGM5dIJDbP0NrjcDyANmh3NOlQB0juwGGnApVsWmWWtBnwglP4Zw76kICS1GobKrp3/L5DrE+EeUdCtqP1aI5ObFq13Nut9x6t0JPNEwxqVhlj+3q57UHxhTMtB1MaEMFFThHh+ouTcxRLTqUoAD6tFGfxfJS9FHrszOd/I3axF4UuJStMzSa0ACgWZ+Z60YpLV3EUBiiXJUogqo5qo0KVFJFmcFQYl4tkdjSy0BbhJO4GgHz6xndobRebdKG0gAam9YZsbxIVT0lB0aQ/PylKrEGvQtSJcBjnmLnswPMW3AFB3LCFOYBqQCliprmoSonz5GAPrSH2RIleGCCSss3QEKYpqGYJ3d+oi6Y2e0kBpvQemdIns9pyYK3nFUBIFAmoqBnnYQc4Uzn72pWlGlCUgHVcrewPlenSPnHGEUmQdKXKlBDdlO7UIcs1esL2WZsuQoKSdW5S4Y1JUbU6OKfKNFxuGRjcKQCdMxLgihBuCHsQQD5iEi5FLUwHEp7oINBeoGYNczSp4xKdk3JYYVqrWt8v6jBZBDqOtYLlkrOg89lj8rFLJKTdzSkGslziZKJl69QUNDsEhJSapZROkVD2DHzeXNOCJ8vUyddaWeh1bildxWpu8Ls5MyRMGoFJTYECgq1rCpp3jTfnS800QlVfG9fe0KJVDjEyhRyqK13axpmBxrhyHelQa6QwFj1BJ6Ma2gHxLMKpStJUGDgi9DdqXB6btvALC51MAJSQEuQXq+kEsQAXFg5DUIghgM3CpSlLKQoXYlmIu5Fd4BXKuspS5TI+N40aZ2UmFrZQcweWV4g4fx2KRJKZUqYtCgApQSSCz6aWBD+XWCC8MJk7wVzRplaQo6mBWfacUargKLijdwz5fmSZcqWlGkJJSOgYkC/lFXKeG8NMnTFr0zFTFk6QXS17AsXFaxNEyhxQwnf4H9CsZftClBJGukK2MwiZS1JkKXp1FynUX6PQWjo0PG8IpJHhpSkdioP09lQjokVrrdPp+oh243H0+4ybCSF4SfJn1UJcxCmBHMAXIB7pG/WNa4dmoWvETUK1S5qwpCuo0JA9QGfu8ZOnELW+okaQH5NKdHsqLk/q2BazXh8+zzEjwPDBB0qUPeSR8PlAe32nEymE3FR8w3beYmHMbaSk0IoYekmJUqiohcTBcYIiLlJgjJxDCJFqBFPSB6FRIhcHt7QXg7NdxTrrhAymr1ETmf74iWpzHxSnj5Abz6nLE1jqUxxMeTH2KeY4UzEsFKT3SWiLIBWKqpxoT7RI1AtCjxtLlawkywZivZ21V/VajbnpCzl/CSHWtYEwBmAPKCSQEu1VODToL1ENWZZAvSSudOmKIKQHFH3Y/wAiA0hapKV4RS6oOouTXUkV82pGxknEJlsTRJoaE3pUncdMsvGKUNuzM0lh00SRWlb0HLLq8djMqUcOUeFJSCXCvDBCABcB3BZ+Zza0WuHFCWnS4Kt9jcixqLQPlYxwxf41NyTRyGI6XpEStQSFgkN5u7qHehL2L07vBEy0ZhvCTlGoY2Y1LgpSKV50PmTD3KxEdOxAAJJhfyzMgtI67iPWYZoqWg6Qgv8AqDt5VjPNyiS7hWaeFfkQK6wpIJSKndWnrQwKzfFeIsFKzp1aSB1dw/UU9GreJMRL0aFFpiVJSWUk6TQFmUmoCS7tTSekL+Hmi+6iSrepatPO1rd4tJW+4q/QDdmJ2o7EDeNjLNIbbApwi+W2Y2U4ngFE3NQDyA5DXmIB5qspXpKZQcHQAhIDGqk6dLPuFGxAMRYecFKB59DgBDkrSEudJcORQ1qbhqiLnFckpQFXKVUNdy3o727CBMpJXQJJU7ggF9TMUl2LPTytaGTb/cvyjMT+zgzN4GRX/kkCv96H7ghLxoT+egso0KuhG48vSCeAE1ZBCVBPW3wakU8gyVap8vx0jSkcouOp+v5jW8vwKGFAKfX12jOT0yEudm0Kk+Q5RoGpp9todtYi3E893RhYkcMyZwJWhWo3Oo+VrCBOP4AUAoyZpLj2V9qp5hWh6gxp33ZKaWP7RSmQpXMzUqQoK8Mx6wI4W3yaptGLSsvmycQEYgaKfht7KrAsRegHeD4IPQF2FnFWHcl70qKw8Zxl0uejQsONtiDsQdjGZ5kpeGmGUtz+kiygaavPZoZy86Zs1196ajXw+MmWz3mpVrAo0FbHn1b+6n5M1JPPSoqbg2LEnqGtSlmhw4JzTw1CQo8kw8h2CgKp7BTE+YNS8ZIrNSzsW+b08zvvDXwZiFTJwmKBZKgQO4sfSCX3OyRjXpEZp+VfbUgK5D2pp1xMbFi8KFVjKvtOyQJUiaA2p0k7PcOdt41nDzNSAYXeOcIJmDngh2Tq/wBHN+0I+0TLzaJhORN+R+s/CM1cpKDGHTVApbUUkBwVm5qEkFIDKvUncO27NwtkScRIm6khKZlgeYgC5en5nL9heBGByWWuYBqWgXYFwe3M7U6Q94NSJSNKGASAyRsI0s1PtupwGu86ZXFDzv4QAtBbNUi/3wixwj9nEiSgGf8AjLBcOpQQli6dKQbjqav0gpmRRhJ8rSDpmugJYnSQHcNYMN4vZdnMtSXCh6kD5wsZtmC8VNPhJOmU2ku3iav8Sh2SyWJ/qgFcwh5sEHvV8vP2F/eIgKxXyhul4+ntP6x0JCMOtRU5sWpHQKdpuo7tYkGAYQJuFny0EGTMlIAUAwYrCiaKYEFiXBIGzNsR4DzdZxJ1BICwxZITzDmBYDzHZ2jRsXjMOtk0OpwN6ht/WFOfk6DNROw4CmqFAsHBsQx1Cu0NJiZVMNKadTSosb04W50yjsmVdqMCSeV/cxoEubv7xEyJoIvC9IzPRL1TRpWkOQmtLgB9z0LQnYziCdOmEo8ZIBCpgQpNEEUKQGZizqJur0jNSWw35pSgO6E6n2HvDqZfSwBjBqdI1VEyJguM6yDieaib4OIdRUVCpBWjSSGIAsQHoSxe1g9SJ4IBBcGANobNdk3ezc8CMj8+ccaWl5OJMXdUfXiJK49aoWkR0pj3qj4TFediEpqVADuWiOVjkKDpUlQ6gg/KJ9maVpHcMCeJp0uUhUwrUhWkgELUmrUoC194ynMgoLMxBOs+3qLksANTn5w+cVq1LlFVUa2WDbSpKkE+j3BpCVisrCZi0peZLvL0KHK40qqU6SWAAIYszxudhpQJejiia6aDSnyeELpkOCZHZJOIDQG/lu4xTk5ipNS4D0Nw5AIPehgnhsZrOmWSpRDMmprQ1Ap+9IrLwKVpAliYuaSAQQEjTzWSBez7Eh6b6dw7kEqQhKUIALVO5O5J3MWbQmGmQOyqSajd+/vzo6kNrPqSQ5S2dc/L5hcyfhvE6tSihCdhVSvVmHxgpjeHZiw3iD/Sf/1DnKkUiGcBCJ8zA/ykgHl9x381ZUePCMmzDh+dIAKk6kjdDqp3BqPjA2TikjdPneNgmpEJPGPCyJiTMlpSJgqeUELb8pcb9YKktq4l4XrcR9fUHI2g623RCQSMtOrQs4/FjErRLYFRWNRBeyqB2t7IHYbwwYrDIQyJYLBIcsXqkFQIcsNRN9Pozws5dJQjmcJHtAVBYM5sQWNKwwy8alKC7kqeyQxrcWCTpLMxrWHjpIsoZ5GLJOZbmO+2RipdIrbdWuYHlUx2CmvPQHdnahBa4d6E94ecJPZunzEZpl04nEgO7CtXv5w9yJthGe2gSl0KT1eJTiUrJA0t9+tYMzZwNvWIFzXMVTMaPcpXWFy1qcNDrC8NYRWPa0/KE3jjCpUhEwkDQsVLWNKkghn03ENuMxAAZ739ITuNMSPuy2NXS3+tJg6RTgmGyneK+dPYx1xBUwuu4/cLAxKSQSA1K+zoGkBQCapIUTqNXZ9zB7g3GaMShB9kqCVJBBZwyT35q6h+WAWRcPY7EscPh5hT+oMgNsy1MFfGHrhDgPFSZgmTpRBSOXmBawNAW2jV7Rmmlyy0UxEgigvfwyob+EZtllQcBBpzNI07DJATSKGeAGTNG2hf/iYtyyUgBQIPcQG4rn6cLPIv4SwPMpIHxIjDzKsQQ3ShtaCgKEmMRw8xYQmYJrg2AIuEg6eYu76rdNxSGXhnO0TVpkTm5zpCm0K1UDKQbVPyveEzD4WeosBUhiCWdIsC3m4UP4Z44W4ZWJiJs2YSUnUEiqXDlyVOXcvRvdGy2o5IpYUF0Cr0pnXTLjnW0BMpdKwU5cco9ZnPmYeb4MuWqaT7IDO3d7DvE+XT5shvGQEqqSx1AJLso703PaDOCmoM5ay2p29AKCCOZ4tPhEgAmFcvgWyC4q6b/MVvLCHSEphWGMxMxazKk6k0uDvvTqI6G7hcyRhpWhgkpB6uT7R98dEvx2NReIF5QsIT52LlS8JoTK1YnmqQ3hkDUV2ALEOPKLWUZgZUsCYQXuQ1T0ry/magLBqUibiXDonS/FlAKX0AfUOjDfv/AGhKGbAEh7UYmzO4cCg8qvWDSCpIUmHWwFMLU4h3+Vs939wyZ8sTJauhc79QAWADsxFIS0pA5VI0KU+hQRzOioSpKVc2oGuoGgo7PBJObyy7sXu7dLvVu8AgAJmiWVKKiAhjpb9B6gg/V4YSKsGIK5/cX7eZCktrbNaVH1DDkeXrxc9JlApCGKlkJdDnXodJ5i59lgwG1BGpYDJihLCYo+cRcK5SnDSEp6ByTuTcl7xFisbMXPEmUeZVS1gOtQw6ep6PAb7SJpzEsVGld0ZcTTie62SBwgsvBrAop/T+IoYrGKR7Qb5R4xgxeHQAqocDVcgUpY6qet4seKjEIYfz5wDN7GZw1SmnKL29oPtnvGo3H7zjOuMs2JmpSSAyXBIcJKtQ1CoBNBykF223E5bm06UpK0qSXPNzMjmJLFJbmYG/QMagRa4uwvh4gBWojTQpFQHOqtQoJ/SRZRrAaa7AuAXchF6yyKGqlJIFQ3lcw6kWWxJJaWARS433Pr0Im66Vul1GuRhlyzM1TU65h1FQdIpy9WYBzt6RexrJA632Lb2dgWCqvsoUpCrwwpQSUAFw1B0YElhdjX184OZhjdYFC6QwAL9Xqa7nv3MCp7NnEhNBG42UgKYbUjI/y58eHxFHGlwFCi0MQexYGvQiNDyHGq8MBbAtRi9PUCMrxE0zVGUgsVe1QqZO7hIJt9CHjhnHpWnSSxZgDQlqUG4gKaY7VOe+EO3ZtLM3jbFbAKG++/Qw7fe3ArERmuYoIUU+3R7Vqe149iZGfnUPtkJdiyVW1MIxtZRZXAbiPEaJZVuAWHWCgmDcwvcYOqQrQxapezCpimWaSp5AVkSKwUKpBIzAPtGcTJhckFSXJfw0jUdQGlYuZiSEu2xa1YsYKXiFkIlo8VSg6Ag+1qDkt+XzLekVsJhpsydLkpQRMKgALF2JBfzrq33vGs5BgBgJfhILzT/izdyf0joB13rG52jOstM0zrSgz6y4c4QyDcwHsSCQRXrqvKAmQ/ZviUpEzFTpcgl3FVqNSoWYUBa5tDfJ4dRQJxKFK2cEP8Y861KoouwoSX+Jjyp9TiMpMTyHFVUi3Oh45W94cMpdQMPacdD71Me8VkM5AcALH9Bf4QGmTmeC8nELQo6CQe1o9Z7lKsXh1TJYCcSkOwoJovbY94g2w2//ALdQc6Z+RoOdwOBi9MwWz/moQdRbzG7iPKEXNs2agP8AeDmW5DIkJROzF1rPPLw4GphspYtTvR+pgH9m2V/esYqbNH4eH5lav1h9IL9GJPRhHrO8xnz8SqYwq4qLN7IBF2Hv6w5l5dLRqdPfP09ctIsUr8pZbSaJGfGuQHOnlzgjm3EeJnVRNVLSmoRJVpCQ1KpYqbvFFWNn6dPjzVsouCtQDsCPcXB8j1iTBZYolyCHqRtW499ezmC6soSoqVYKDMe9467OpbtXPojcLRZhabGEAU5CKWRcVT5I1eIZiVMdEx1Bt2cul/2hgzBScxw604UmXNSyvCXZWmoAPR291oXZmV6FMlIa5PV4Gy5k2ROKhysRzJopwaelLsfdHm3GZod4ZZVuRyJ6MUvyjbtSix9+Y155wFwAUlaUTUKE0OAAkkpGo0KU1NdW9IY5clQCjqW6bs4Icv8Au3wtB7P8cEyZWPTKCpk4aFlNBrS4uXKQWPXaFiZmk+YfEmKZPskJFNIPskPqdx8OkFgI/wCRqfT+t0B7KE6lfZIQkNpJBJzVe4BGorSlKW0j3JWXoC93r8euwf8AtH3HrWpJRroosS70o9Nqbd48z8aiyWJAqaipoaFlbEXO0WcuyuZPOpAqCD2cVreBHMCTkDyg7aq2G5dQKQFKFhQV58KQe4e4emS5bCepAJfSGYe8GPkGJU1SAxjoXCYlf+6FYtbnOMdhXpGIDiApSQlTg3BtEnDmVoxS1TVAhCTb9R/gUfzEE1fZ8BVcxXkkBvjWLGBwikTfu8tNSHSbBgwJPRi3w6xt2ZHArGoQQnvmsXsfkGDAfw0k9qfKFnBYCXLxshSKJ11Bqx2qe/7Qy5jlq0I5pii/RLD0BNfhCTm5XKWDq3BSfj6HtF80lKkYaD0iXZilSSY3vwtcogFqdW+MCOG/wMSSs6iQHJFSWYKd2HKHP94HcGcTInICSrmG0MWZZf4w5VBJNH3Y+177U7wjZcCCUqhOUKbVQ9cYL51ncgoWgqB5TWjA0ADmxqIT+DJCvEmEpAD0PtEtQud+npBZPDaCxUdyabkm560Ai5L8ORLLMNyaAd/KJvupw06teJqUVZiE7j7KzPmyJctJMxSlBLFiAwdT7APfv3gtkH2byUVm/iKo4HKgEDTYVNOt7tBrhlSZjz9NVgFJ/wCWaoI6ar+WmGmTM7N1hEtx110tY1ISDcCoJ8dBSmWlzpDRodm0kUFYX8TwrIEvSmVLSG/KkJbyKaiEzN+DCX0TVj3H4s8ahPmvA+agEQlmlfjO/wDTqNNxv1WD5d9aRnGCY3IsThVK8JRUlZAUm9esNuQS0SJJM2YlM5TBKUqHiJCtNAHs9bNBnisIlfiKTqY8osCq6X7UJ9IVUYyWJiZhqvmK1EBZd2SllMCGf1O1ANLIzCn2A6sjEa09qmON7KXNOhSE9wEYjv1IrTKlr74PYjxAy5kxSqEp1ABwL+yAB7o9IxoZ3+MABiJs40BKUuGpQV1OpYYFgKn9N4oZlMPMHswBe+kDd93tY3BiqblA8cV+fXQjUIkm2GyhIAIvQddex/H5zXSkud+3rHiThZa0+IVoAI0knTqJ5tNwpqAMzAuKwrZcoqBUavR6H4mgPvi+MUtmLmz2qHLjl2f4ROTl0MmwvFjcumYZFhe9Du3UMFcPmcuTMEyVhEpXpUkTSqpBZyxSBqHbrB3AYyWsslaSdq9nIHW/wMKnjIMkhROoeywJIBBCtmZmvB/hjLUJCZgHMRc19Q9qUo0VbTS3hxOHgKU9dKWhc/JfjKqxZNaEGp8UnPgRlmIapCGYx7VIO/19NFzL5qAdK0Ag7l/2ePmGeZN8ZctSULBSkEHlYuCUjq0KWdml5uqF8Kbufpe4vC1Tygo2y9eA9YoANsPKPMqapCgoFiC/S2x+UWpklIJOpRr0A9d4qzE+kBpK00AzBrnl16RekhWesT5llolSMZMkJY4jRMIA6sF2rVnPmYTMFg9ZqhQO5Zn/AJjQx+LhwhqqQoAdfDUCkQqJSE2FqQ5mpkICSnUVtbO/yPCkWbPcKW1o1r8Yf/mJsLhNIvRvqkMSMsCUocKUVkOTQA0rRyOXVRqlrQCw0xg7/wAwRlZotAZDOzOakVffzMCSUw0HFduKgjdW/LK/pFU0l5f8D8dUgbmUtlKQ41DpYP5wq5vhimq+dSj+UW3tDDigHLqIKnN997wFnrAdJUF9iWPYvb4QXJN98lFhnT9/1BzXdTF/AzPFyrESyoEyimYlJ/KDViwFyFe8xnqcw1sA9GFelzcQ9zsSJGUYycsaVTCJbbdAx/N7d/OM/wALmKErSA1SH7dPrtDZQViKgNB7fVIUzO03ZV5SWiKE1pTWgru1rBHBkhQCxpBs+9A5h64azNCElIUxr69+8KGdY6XNEqSlNVKNRtpDqrtRqd+0MuR5BIDKCQ422r2s8AziU1ThUcRuLdWzhSt5cwouPG+vXXjBHMOKJCSApaXaoZyPPpHyPmccMyZygVocgbFqHr1j7FXYA/7hOLXKKwU6desB0ZulaQXiPLMyQ85gBpI8yDqPzHyiebwzISFBK5oV/wBSQ/nytCXisJOkztIbSpwlWpIdWyDqNyfmO4jeOOLTRVLQxxM9mQKjL3g9nOZJUkpKnDFuj9H+t4XZ+FRiBLmn2EsJwBbSQGBrsWaDGG4UnLDzVsTYIS5rcEkV93WKE/hrEYfU2pcuYCliNJdVGqWNW+EBPPY7jr7hPMzzJsyupHOhrn46jlHjLJiFqWpKUolSwS45WLaUAKSxUSsg9bw15bm65csAYuSpewmkIceYLg+YMLuZZEuRKRhk8yisKUU/mUQzelQPM9YYMowCMPhzq0uoJUkg1eqVyyxBJ3IIIDG5IhYVJdUcV+J/WkMJTY7kwgOLUQk5CgJNedY+Y/jDFywXkJLbpVqvXs/pCHxFxhicSCgkoQaEDfsW27Q24yc7FqB2au733oWLN0gFm+VImh0UmCxP5r3e7hqxxCW0KqoeN7edodzOwUobxS2e616bjoeGuhjVeEMbLVIQqWsnUlJrsAkJCaWAAAhlGIPWMU+zrPvCJw8yigeUH4j0jUJOYBukYracs8y+oFRua1qb8YDbQlxAKR4cdfWDCsRHoY5O8DMPrmq0oD9TsIrZpnGGwwIH/uJoBJCVDSGehIfpaIyMlMOHEnLUm4/fh4xPsQTgAqdw6tAfjdCpiBoSpTFyEgn4CECdrSWWlYURYpY1vQitPqkahgeNVTWQiUiWQHV+ZnoL2326QRGbyJzy8VKQUt7Wl/8Atr74dy6Ey1GcYJ5EDzuPQQzl5l+VFC3UbgQT0YyKROs1KtWz2cB6kP1brHycSpz1NaaSxtROze5qGHnib7PxoM/AkKSx/Dv5hJ+DK94hRyTBGdNCADchT7Cjg+r0hip4JSSq2G/9aEHQgkcbGD0T7LqCoK87ERF9wEo+ElwBVJLkkEJL81Gdw/cxInCqJZIf9+1BeNXl8LSpiU6kgsKOHieTkKJfspA8g0L/AM55DYV2ZJ31H91gBva7bbaWwLi0Ztl/DkxZJmcoA1NXUoP17UeD2EVooNrCGudhWZqEVB6QHzXDB/FSRpUWIH5Vj2k9oWOTS5muOxTmOG8ctYimcLxovXL6iWViSKux67/2i+c4mFIS4artQtQXgHhl1aJlzgHJcttEWnnWwQlRAOgNuvfwilyXQpVxWLutw7/vFacqPKZtKQPzMzpcorT7ZI0JKdWqo2cN2N+xiDLBcUEeZNTTjviKiGklR8tTwixxdjp0qdhEYYpUuSgzFoKmK0rLaQD/AJvLlgljZKcUj7zJcFgJkshlJO5b/d9oQM2ymZiJvjYkFK2AK5S+cAVHtAgkR5xmaTsCpOIw+KoBWXNQfxNyCpIIBNgDp2rGmLDTqC2CL6csqV1AtWl71sapUNuzDTgWUkcSLeY3mGUTQKO/T+YmVPZLjZvW38xFgeK8vzABUxf3We3MF+ySKXLA/A9oJ/8AD6Ck6cXJ0mup3N3G8KlyC0roNOQ8SCaj23Ew6ROsKAxGh1Fz6gUPVhC/m83UnUm4Ift3+ERZXkasRNDBQqCuzJB9pyfeOu3Y1My/CS3K8YCkDmRLTqJNyQASb1sYS+KftK1pGDwSVS5A5StVFqG4APsvuTXyhpJIODCmhI3EHzpWnK54Rx/aDaAEtZnWht5i/Lzi/wAb5zImKl4KS33eUrmILgqq5vUBySe/aFzHZRLX0s4UKFzzUZwwDhgR3gPgUl62PnuCHp3braGbKACpluUkGjmpYEh0ijOSaH94LSjO9868ercgIYyjLYZIWmopet6/uF5E0ylKKw9mOxNag97+sOGTcXSkJqmY52CR6h3gfmUlCk6BzEqOk9wokFhuWFNnaBWClFNGYi43HpvEvxkv0C8xuOkY7bUr/pysTV0rvcG3D3PHXfDriOJvHYy0zUgXsXe2/aOgFhsQlLuLt2+cdEzs5g3JPn+oRJ2q6kUwp8ifmChzGhW5rd2pCvhB4uKSFOtKZniEO4YeyC9KkwKOZJUwSpSiSw6fTwxZBIEtJKn1KqSPqwh2gl0iul41DzycJwivKGGVj5ix4gmTJSi/K4+KVDT7xvFLMM0mqVLQpfMSSSaEpS72DCrMw6wGx2bsVOWaxsC37xXl5mnEYpKwEpOlICXLEgcyXFQ5cjzgSYUV2pzjMPy8y7V10YUjQEfF7Z1izhcy8eWkqfX+Z6kFyFB1Wp9CCBnqqlOoMW7vdzt2pAXGpGHmJUbLJcM7MAQfiA7dIKpxKWSUnUL7EBxUnt2hSsFlyhyOUfS9j7QbmpRJSLgUpy15GlfGCCpUpgCU8yeoBJo63KeUjoOjQFxixqcdn2obHSA6QzuB+oNHqfjQBfSC5rbarF/fW1IGJxJmf4TkbKrTu4uH38ouUpJTWDqhBoVVO7XyzgdnEpSpiFSwfE6pv1Cn6/36Q2cN5njJipchcklSiEhQIatXNelYqZLlWlQK1M/w77MxO1bw/wDDyEyU4jEhPNLlL0/m0qJNGsWYVBLu20CzCEvICSBS1DqKnTlnThCl9hKFLfuFK0FKVyFbb9RlEHFuamSk4OSoICR+Kvdamcin5diKPUbQrYbDqJSq5Z1AC7bA7uDT1FzEk/E+LM1lQKzcqDmvneCuUYZiF2P6QGHu3iDhS03RI4AcImhIaRhGevE6nrKJ8FliU/iJ/MznsLRcTKLFW5glgpCljlBUHq1WjxNTSgaM086tRBIt8c8vqI9vU0iLLszVIWFgkJHtJ/V2az94LpwshS/vEpIGv2xRwru1H77wtYjC2J5j8B/MHOF1DWZbOJiS52dLkH5wc2O3a7HfccDw4HI865wPNNJp2qcxnxH2NPKGyTMpEhrA3Bzdje0WjMiTU3jR3oSKRQxBjaCMqzrP5mFzFZQoGWtCfElqYpUoONTGymADjYRoXEOYiXLWs/lBMZ3l+EE2aVTCPEWHc/APRwCQKdYp2egOzSljLL59IYS8qXGzU0AuTn6VEMWU5vh8TzkKkKUSLOhxdvqkGZuWy21HESoz7MJSirSVqKQ2lKCpIS3s8iRUuDzVe8HuE8bLWlOFWta53OQVbpDEVJc8p/7TBE5LBsFSU18x5UUAacq89LltTMulKlqqnKovyqCLV8q2jznfGWFwIJlBWInC1NMtJ6ubt2eB4z+ZNEqYrmURqUzsSoWoXYP8BeAvH2CCFMkVJ+MCMizHQlCFkUcoPMAUuQBUCupxbbsYKl5ftJcOtjrqnHeY5JPNGZwPXqLV3jL9UyNKQ9f+oazzq06iQ7UAqXZiT6QOxspE5JTqIBYuC27tQ0cFiPSIPF1JLH6axv5N1iTAyipaU+RPklm/33YR50BpOMZ51hrP9mzLLOlKU5265Q68P8H4cIS8tJ7kQdXw1h0jlky3/wCkfvA1OL0pABaJ5Wa1Z4CZmpWmB1JJNKqrw5RgCs74in5BJdxLT8vlCrxBwVJm8wooeyvcfyK2P94eziNQiBaRaOONhtWNhRHjHUPKBBEYniMAqRN8JYYpZlCyqqOoElxew6VtHibOCQOtG60FnIb2il/MXqY0XjPI/GlHQPxA5Qehazd/q0ZbMwK1zDrmgqcsGq1w77+fyhvKTHbIOOxGfwfGNVLbZK2whtNXNwy84P5PLZSVzClKR7LkVow6NZ69RBjOcsC0CdLIJAq1dXem4gDKyUt+ISWsNTf+NRX5w3ZXi0mWGSUgU0szN02I7iA5x1TLgeaJqLcKbt9/TnSLHGZiaaLU6kAK3Ek8L5AjrWFWSsNX4x9jxxIhSJv4fsmrdI6HzU+y4gKyrGJe2JMtrKMNaajWFiVkgRLExMxRNFBgGfyi2M8QE7pVYjYvcgvBVM9CJIQpnp6DrHzK+EETOeaWCqhB2GxpDTAbBvxhxhwCFTMsxCgWqdu0OnDHA03ErEuUG8PT4k0uEpVRTarlVqDt5x4l8IypuJlYeUkOtYSSA5SLqV6JBNRtG+YbDy8PLTJlDSAPVzdRO5NyYEeWGa4s7deMcUtQNdT6QqS/s1wyiDiZ0ycsAChCEsNmAJ+MdP8AswytQZMtaCfzJmLf3KJT8IZwY5Crws/MIoBl4/Yiu++MR+0D7LJ2FQqfIUZ8pIJUD7aBuoiygNyK9t4+ZBPkKlAJLFg43cXcbUpG7yF7KsbvGCfaPwx9xxjyuWVNdUpqBNRrlnsCadiBtFq0fkppWh6sfiDtnzpllkkVxUrvtu8/GLc+e1Ha9uU7gntvSpLNDNwUTMlYyXqDqlU1WBZ6O/LUEQh4PGvyEgL6OwO7gAVq14aeDM0EvEgTByTE+GovRljlD7B/nAagpo9/To+kaqZUmYkypm+vkQfPgYHCQDQB9Jp7QI/1ABn6PDHlynTz36X/AGgbxDlc6TP0EskHlVTmTsptunm/mfmExakslIf+o/MDeKJtC1ooPeB1jGnGk2N6xoeTTh4SEIUlBDkhZd28mLfLvFHPcQlU06Ck6Qymf2gS96bwBw84MXLklve37PEE/EpTMCDYhvWzfXSKFPqfYDJTlT09B0IWtyoS6XK747GTKnm9GFPcI98LY5QxckczKUUne4N+zwGnqHicpU/R/wCd2g7wng/DC8bOWgS5Oo0fUSzgHaj93JFoJlmMFFVyvu9IMfISyrFkRTxOkNKMQAog7E/OLa8SkIdw8Y5I4gxa1rWF0WpSgkgEJBL6Q4dg7R5x+IxCxzTSXFknSG6cvyMJfwHErKSoUNdCc/K4hQrCaECDHGnFctS04ZB1FSmUoeynsTuTZooBXM4f47P07UagrCjicG4OxHwhx4QyfFYlH+EsWHiKDIU24JLn0DCGzEq0yhKUH7J5fWXmYY7NnEtLWHTQECm62n1EetQcipNKjtcXc9OzQU4NyfxppmnWgSSClSWBKyx0nUKjQSCGsoNDJK4CXR5ie4Y19dvdBKbgVYWSWl8iQTyOfMteI7Qceab7raudLDrjQRdObUYeaU00Qa58uhGbcfrPjpJoGJ9QQ4Jumm4qLwrTgDq16TcuSSeY6ivZyzdlau0XuJsyGLnEksgWLEgNddNhvAnMsERKca6Fj7YTWrAKNqBT0d+1HmykLakkpIyHVYyU0Qp0mL3D+NWVMglaBRlOCP6XJJIFI0Lh/DBI1FnN/KM/4AYrUk9a+6NYwklIH1WM3th09qUC0eenHlt9ipVUjIdX84o5tjQhJIP++whTwHER8bTqNNurw7YzIfGS+jWBWnX0vA/LOCVAmYpB1d9hsA9ool2kdkcSFEkW7p9M7e0AW419OvCC2XY5ShaD2GkuGN/rpAvLMIE0g1hlhNTHdmoC11Ue7x0GsdgVj03vTtGTY/DCXjZgSGGoHtz8xDbUJvGsY5bvt6xknEK1fepi9JYszhnYAO/RxBEnT8pVDanzaH+wnAh7vZQYGNASQpJKieUgA1oaH2gwSag0eotEGXZppTpJs4+MCZmJGjUTQV+hsX98CpGYJ3LQfMsdoMNMo1U6+2yAkG5v8QzBJxBJCikJLAD51I3BHpHQJy3NBL1aSKmrkjr77x0EtstJSBSJNLQpANoD40LUCrQoQdTxAUKYkkFIYGjUhxl4AFwQ6aUNS4er94JysoZOoIAAHYQOjbigTgQVHWhjOsySqVdNBuOf6gT9kc3x8euZ/wDXJU3mpSQ/ueNXnDmNYTeF5iZOJBIA1jST5sR8R8YdZ0usTE3+Wz2gGt75WtAc8yWnqaECkVwKx7mI0lgXj00RNWIHujK/tAkekgwj/bZhkqw2HUQdQmsGuxQoke8J90PUqWSaRmP2t8RyVz04VwfCDqarLUzJ8wmv+btB8kmqqnqkcAqqkY9jw6mS4bd3P9ouyJ8xVPEmabGzkBj0pHzMGUs6QH+G+8eMLNKDaDloBN4JaWpBOFRFdxp7RsGS5pKxskYWesCcn/AmqNVAMdBNwWDF6m8B84wU3DzUomJCXqP6huQRRh+8Ik3NASAL7B2L9aW84a8q43xQlaMRLlYqUK6Zw5huFBTH3kHzgNcp3hguPUfB8weehcpOKYGFXeT97tPDXheCEzE8xABcBx6OPlFP74Z0oqo4J0ku7io/aLy+MsuSh5mAmpIIJKFvbuVJKh2jx/x9l8tKTJwKnunW2l/MqUx7tApZwKoUmvI/16weJ9mlgfMffxFvJ8hXiVJWQqWgEa1EFLNVmNz9GK3HmdApRhcO4w8s83/MUK6v6gLvufSBeYcYz8QCCrQg/lTb1Nz8j0ijNzQLSEsNdieoDM/dxaCEs4Wypy24Vr5kewqOJgOamC7y0HWcWcpkvQUgvMwQSP2jsmwjbVNnt/fzglmOFKUUAfpvs8JVCq4qBoIr8FcMoxeIUqYHkymKhspR9lPlcnt5xrC5rDSkAABg1G/iFf7MklOEmUZXiqf3Jb4QxKg9s4ECmZz88qwC6cSzXSIVqI3ifDYki9RHxMp3VdohSjvHEhTdCNevGIGhhB+0/hCUkDHSEhNR4oCQRUgJmad+Zgobg9ozI1GpSFPUFimWU0JUCHcpSwY9Baz/AKPxuETOw06Sqy0KFf6gR8DH5uXlyiWWkEmooxL1Lno/XoO7spd9DacJ1uB7gcAct1aZAADvCiC6chSvxFbKcwEqY+kUITrSrlZNBQ3He8aNlubzl6UtLdRoXIGwvtGd4rKvCSZpZ7JAsCfzE9htvFrIc0XIlhS3IE3S/QMGJPnR4DnZVLox4ATxr9iA8aVjEg60jcsnxahqSrlmJLKY08wdxBVWIUbmM5w2aKmBMyWqpre/bvDFludGYLGl+0LkAtoGGoTuGl8j9+cRDlFFBzgtMl1ePM6dQg9KRXOMBaoHugTnGey5KNa1DtuT2A3PlAKyEkobFzpv8M9YtSmpi7OS509b3iSblMpYZSAYScg4pXMnkTEaEKAMu5PWuxoxvR9wXjQZeIGkKhXOy70u6EuWtXPfD+SSA3iRrCBxfkEqUglCQkKo0JeXZWl0/mULlqaibAdup7w+faJmYMkhLPQj0MJ+AmMtADKYbsXLgbvGg2Wt0S/eNyfal4ayjIemQpd8I9T9UgzIymUofiStagW9klu1T1f6EdFqVjA1U+TB6euzuzR0GlVDSkPCgn/jDllckKU67CsT47GFR0S7NWv0IHJngJarszg/XeOlzSASD7zWvxhG3MpDYbFgbqIz/uExaJXjPgNI8YvCKD1FB62f3d+0MnDWeiYkSZ5aYByk01jY+fbf3sroLhiSRTVv1Z603/aPcxZ0lBSCNv57xbLTKGV4kigOhvX55HfpHH2UzLeBRqQcxoesx7RoipB2rHwYY+UYfneaT8OkmTPmyynZKy1P6bH1EUMtz3MMaQheKmqTdgoIfaugDVexh0wpt1GPDwpXowsVsp0PBoKFxWtNOMbXj86Sh5WHabPZmulHdZFvK5+ML+XcAyA65yRMmKJKlECpUXJ83i9wdlaZEsJ0gHen1WGOYdov7OwJ8Bp+4goiXUW2jzVqeW4QungfBkEKkSz6fGFjiH7LJS0vh1mUr9KuZB9/Mn3nyjRDOHXzieVUdo8FEfxMUrWs/wA7x+XsXwtiJE1SJgCVp2LspJFFJUAxBr0ZvddVqCZQKSlQdCwaUaiu9RG0/aDkH3iQ8t0zZfMhQvT2k+o+LRj8qYpRdR1FzUgd+vb5RFUwql4nJbPM2+G8VE0J47qeogPj1qmJUFBQ6EMQw3uIqypgogiHJWFlqSFBQB3oBWjVDhncsB1fuLzTLAoWZQqLE9TajElt7douE0oKoseMOnNh4UlTaiSNCP0InwOAGgqJFBQdf9oFy8UmXOr5vtUtHiXno06UdNwwoCXPQeUD1qcmYv2nBJFLF2BII1NWhsD6luIS6nDCB95IACY1rI8WnSHKewv6ef8AMXcbNSsPcDtZnb4mMuyabiAh0DlFql2pUP8AVYNJ4hnBJSZfnV+o3tvCBcqpCu7eCwy8UhWA0PAxqv2e4lJROkiitWsCxYgJ9WKa+Y6wxqT1jEss4tTKmCaFaFJ6uxG6TXmf+4jWOHuLsJjkJUiYELNNC+VRPYFtY7iL0JK0AUoU5bt8L3KBUEhHsCLCsKYgx06VJTrnTEoHcgP5dT2ETSwsWMVlQiDOswThsJNnnZJYdVGiR6qMYTLUpanN/pvSGjjrin74RLlgiQkjS91EXURsLAC9S/QBPDCZQ0sVKPw6e75waygHvUysPk+MI9pTFT2YNszz48h7wOzGT4iCkWdIB6Vv8yYhxUtOjwgOUBgPfBWbhlaSgUAI1KveotAjHpVLUAsMT7jeoO8WJWjEU1uKViptpxttKlCgVUjjSgPrBDhKWETikEhCklg9Ar2vk490Gs2mzJKJi5RZQS9Q4JS5t9XhQweJWlQUhJVpNQLsNx18od5UxM2WFBilQcfuPnAy0JNUZx14rStL51+IXcHneJxSFCXNCJiQ5GkEtZwS4aFmaueqYUzFq8QAmqm1aQSWLfpenui3mGHmYSfqlEgXQeo3SevRvKCuYpGIky8SgAKFFp6Ecqm6Ur39YrYbU04VNgYT5jx184amYa7OpsfThX2gTw/h5s1YVKQEVBABNrEkqLC31SHBXEWJljw1y0EW36tcH1t8okyPALCE6U1Vqp5flibHYRCw3MCAAWFSbE7vUv1YRXMNtTBBcAJvThfhGj2Optxa+7/jSB3tSogE+9KcoBZxmSJyEJCVhWkJY1YAUAa4b5wJkYeaFVlzGehCSf2hjwODMufpLEkbdTVqUpDdh8P2hbNTn4x7NKa1vUkkw1RLoZd7VtfdpYClKZ9ZQgqUtP8A8c2vRB2tHRopw46COhb/AKord15Qd+crcPKKyRE01H4eroQGb946Ogdi4UOB9IEVmOYisEsfj2Pn1i0gcql9BbzpH2OjzJJcHj8xxYFOcZzxzNdk7rLE+cMHCOXoQlJZz/tHR0abZ/8AsA84v/8AKdRhHpGuZXKZAO8epgjo6D3v4xkyTjMZ/meezEYwyBfTqJejVoIbeG8Goa5ylk62dDkpSRuH7U2jo6EciML9Br+4scP+MwRxEwbiML4swwkY2clPsk6wOmuqh25n9Gjo6GbsMtjEpfFIhkzCa7mm29OlmiyrnASyQDRxf16/2EdHRJwUZJG6Ng9ZBO4fELmNyM4Y3SpJ8woVB2ta8CEqC5qUqsTXuetT2+J6x0dFsq+tctVRvQx8/LDaZxCALYkjwqIe5EtIS7NTzpTyrUb7GKypbuNhb3at3a/1eOjo8nKsbdX8jFDF4FKxalw52dIG169e8DcHhAULmzCVaGCQauTa9gANv7x8jogFHCeYjLbfSEltQFCTeDvCmf4wSpqBipwCdBHOosDQgOaekeEzVzOeYpSlHdRKjfqY6OilRq6sHeP/AFEItpgIw4bW+TF5SW5dqfF4t4haZQSGdqevWOjobtWbBjJL/kYY/uYEnuoaj7h74WM9wwXh1v7UoFST2Tceo/aOjoyuz3Vqm3Co5k+8bfarSEbNawjIppwqL+cUOBJetaydkp+JMOaMtSh1Io9VDYkXPYmOjorn3ltz9UGn8R50EcYYbc2YUrFRRZ8RUgwucT4fUkWYK+YJ+cD8gwigqYlK2CUFZDODpIFutbx0dDp5xTaV4bUHzGblkJcQ2FZE0MMGX5vMOjSwSeVjsWSH95f0tHrDZDMmq1TJ3LXlSlg/oQ8fI6OSaEjFSCXaChoDQagH0NREmCwY+8FOoq08rmjl67mkN2CSLN5GOjoRrvNKrpG3WoqYbJ1SOHoI+Trx0dHQmWkYjHhlH//Z',\n",
       " 'data:image/png;base64,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',\n",
       " 'data:image/jpeg;base64,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',\n",
       " 'data:image/jpeg;base64,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',\n",
       " 'data:image/jpeg;base64,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',\n",
       " 'data:image/jpeg;base64,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',\n",
       " 'data:image/jpeg;base64,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',\n",
       " 'data:image/jpeg;base64,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',\n",
       " 'data:image/jpeg;base64,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',\n",
       " 'https://encrypted-tbn0.gstatic.com/images?q=tbn:ANd9GcTAV0j5ltLvuuCwuqhOW_G9Q9EOMv3V10sxyuj1dHrbIhvF50Kk_p_A5uNc78mkLCoErKg&usqp=CAU',\n",
       " 'https://encrypted-tbn0.gstatic.com/images?q=tbn:ANd9GcSKEm2vnHN46Ggu7JXCXoSGTZGVorIQcdJDoORIJL2nQuYOb6Tket_1oZKpmJCn7P3uQ1g&usqp=CAU',\n",
       " 'https://encrypted-tbn0.gstatic.com/images?q=tbn:ANd9GcS92N5WDIp6WPV1CCe9QI_MCeUTEojLurFUg-y9Zf6sBRDGKSJBdNetpQBsHpNYV7QUUZA&usqp=CAU',\n",
       " 'https://encrypted-tbn0.gstatic.com/images?q=tbn:ANd9GcSFs3g6NUgvn8eR3MGspklEireKK_gErWGinRFx6lfLijNR3xyuH9Vwklwiy3sJ3uFi-78&usqp=CAU',\n",
       " 'https://encrypted-tbn0.gstatic.com/images?q=tbn:ANd9GcSlTxho4ctAuGF119v5lR4Qe1Xfj7l13gg7Cw&usqp=CAU',\n",
       " 'https://encrypted-tbn0.gstatic.com/images?q=tbn:ANd9GcTu1Kjms532dsp8GeiBde2rgUOvZjhO9uybYg&usqp=CAU',\n",
       " 'https://encrypted-tbn0.gstatic.com/images?q=tbn:ANd9GcRIbUi2-WkWOL9WkY8p6f5Eut6KeLx5-WuUoA&usqp=CAU',\n",
       " 'https://encrypted-tbn0.gstatic.com/images?q=tbn:ANd9GcT1QRjzLKCFQqE5Y5dVnTt_V2XLqP8_ZjmIKw&usqp=CAU',\n",
       " 'https://encrypted-tbn0.gstatic.com/images?q=tbn:ANd9GcQjsfUDUvWZc01lnUG7Z95c7LJ9evo--0rhKA&usqp=CAU',\n",
       " 'https://encrypted-tbn0.gstatic.com/images?q=tbn:ANd9GcRxCG9GHb8xvSNg6sZ6Gk6KJ4HMxR8ICfNqDg&usqp=CAU',\n",
       " 'https://encrypted-tbn0.gstatic.com/images?q=tbn:ANd9GcSSmF13NwLUHSn70PeSW_9OufNTmNHumviD9g&usqp=CAU',\n",
       " 'https://encrypted-tbn0.gstatic.com/images?q=tbn:ANd9GcRnzJSk3TAwQ3DsAFSCOc7Je5m9_Fz53wVS4Q&usqp=CAU',\n",
       " 'https://encrypted-tbn0.gstatic.com/images?q=tbn:ANd9GcSMyayvxvhgBAHR5E7ZBUkcEjfoQg9xAPbx4w&usqp=CAU',\n",
       " 'https://encrypted-tbn0.gstatic.com/images?q=tbn:ANd9GcT9XVk2yxr9jlFAV4Ut8fpoKU1mS7HWUujD-Q&usqp=CAU',\n",
       " 'https://encrypted-tbn0.gstatic.com/images?q=tbn:ANd9GcQqppY3zXwcWSsyepKe95F5f_p_dOXq7whCpQ&usqp=CAU',\n",
       " 'https://encrypted-tbn0.gstatic.com/images?q=tbn:ANd9GcROYH-uaHxJxZllD4i4p-a6Jx_gDHTAudnBxQ&usqp=CAU',\n",
       " 'https://encrypted-tbn0.gstatic.com/images?q=tbn:ANd9GcRF06Gl73e-tO46peGszUQ7iCoiGlVMrx3zEw&usqp=CAU',\n",
       " 'https://encrypted-tbn0.gstatic.com/images?q=tbn:ANd9GcS1BMb2p5RPeLM4FjdTcX7SaIAAGRrP2wzn4A&usqp=CAU',\n",
       " 'https://encrypted-tbn0.gstatic.com/images?q=tbn:ANd9GcSrHa2ZyOV6aPWiTwyc4z4We0wwqtVbI9DgVg&usqp=CAU',\n",
       " 'https://encrypted-tbn0.gstatic.com/images?q=tbn:ANd9GcTFNkAibFO82uK6kpL2XkDlTHR6gJdRaD8mdg&usqp=CAU',\n",
       " 'https://encrypted-tbn0.gstatic.com/images?q=tbn:ANd9GcRdvpf8cPYDDIyhI_Q9kD32gibrZSf0Qfookg&usqp=CAU',\n",
       " 'https://encrypted-tbn0.gstatic.com/images?q=tbn:ANd9GcS7OFPFnKARq6hxpHMoWxUq9n1dt0dwaM_4Ig&usqp=CAU',\n",
       " 'https://encrypted-tbn0.gstatic.com/images?q=tbn:ANd9GcQAQwRMqj2qxCAiqZobMkPq4LaRBItFSDhfqg&usqp=CAU',\n",
       " 'https://encrypted-tbn0.gstatic.com/images?q=tbn:ANd9GcS9z_HGp955mE1Q6u4sCfzPJ4jZcT7ZfaADXQ&usqp=CAU',\n",
       " 'https://encrypted-tbn0.gstatic.com/images?q=tbn:ANd9GcRQCVTYk5c4imnAbNwo09unM8ePPtfmHtsk8w&usqp=CAU',\n",
       " 'https://encrypted-tbn0.gstatic.com/images?q=tbn:ANd9GcT6wHzpvVqjQnsHRCUlPQxr7mtqUYmg9p85AQ&usqp=CAU',\n",
       " 'https://encrypted-tbn0.gstatic.com/images?q=tbn:ANd9GcTjW75Yg86KJ_pWaTD9a9aAz7RAjKCwb44Xfw&usqp=CAU',\n",
       " 'https://encrypted-tbn0.gstatic.com/images?q=tbn:ANd9GcQtIDodf0-qVMWbUyu9WxsKoPEdXKAj_pkY3Q&usqp=CAU',\n",
       " 'https://encrypted-tbn0.gstatic.com/images?q=tbn:ANd9GcScNsyItlDyI1EElKhTmRzYCioXSNaDvYNztw&usqp=CAU',\n",
       " 'https://encrypted-tbn0.gstatic.com/images?q=tbn:ANd9GcSyORYfSQIUhhwgSZzR9lTMjrlYayMxFX5kHw&usqp=CAU',\n",
       " 'https://encrypted-tbn0.gstatic.com/images?q=tbn:ANd9GcQqezRJAVR0VHbB-PI1ECVL8bqPdjRno5SDVA&usqp=CAU',\n",
       " 'https://encrypted-tbn0.gstatic.com/images?q=tbn:ANd9GcTJaB4CfdpehM4mzx6avwe6dBvgAl1QnuQkxA&usqp=CAU',\n",
       " 'https://encrypted-tbn0.gstatic.com/images?q=tbn:ANd9GcQPp1JhAvmXU7rWAqCg6D46K3daan3uVMM9Gw&usqp=CAU',\n",
       " 'https://encrypted-tbn0.gstatic.com/images?q=tbn:ANd9GcQ3vNSDjUWNeh0ej70LokFMFEqzlTYWseJ1Kg&usqp=CAU',\n",
       " 'https://encrypted-tbn0.gstatic.com/images?q=tbn:ANd9GcR2ANCjvU3S3im96p2LHGgKsRTzqAlGEP6wNg&usqp=CAU',\n",
       " 'https://encrypted-tbn0.gstatic.com/images?q=tbn:ANd9GcROZ7M_xTOYl4gjxFGfgIcNnGpGvxVKumQP_A&usqp=CAU',\n",
       " 'https://encrypted-tbn0.gstatic.com/images?q=tbn:ANd9GcQzDk1OzMLNU4LIZ76HTlRCY2tfSLlnrdK0Cw&usqp=CAU',\n",
       " 'https://encrypted-tbn0.gstatic.com/images?q=tbn:ANd9GcRRw8BWbnCpmG5MrXcMnJs7j1IC_CNnuSPw8A&usqp=CAU',\n",
       " 'https://encrypted-tbn0.gstatic.com/images?q=tbn:ANd9GcTcj6Z276rydZDBS1AN5wsGs8dO4CINC-NU1w&usqp=CAU',\n",
       " 'https://encrypted-tbn0.gstatic.com/images?q=tbn:ANd9GcQLRzRAxc3OwzfrCey1a0hOxBTIuB5vrrNutw&usqp=CAU',\n",
       " 'https://encrypted-tbn0.gstatic.com/images?q=tbn:ANd9GcReuVD7ODuR55vf-bGLMIlF1EugSbXQ1uiPAQ&usqp=CAU',\n",
       " 'https://encrypted-tbn0.gstatic.com/images?q=tbn:ANd9GcRIpE9oJ8CwNFHtLtiqtap9_ijenlS6l86zjg&usqp=CAU',\n",
       " 'https://encrypted-tbn0.gstatic.com/images?q=tbn:ANd9GcRtUsNhbIrGIVhcIKVs2dNJS7x6pI0yM954gg&usqp=CAU',\n",
       " 'https://encrypted-tbn0.gstatic.com/images?q=tbn:ANd9GcTpW5GKXEBgCehOhqWgriI9G5OO0TxcAJlofQ&usqp=CAU',\n",
       " 'https://encrypted-tbn0.gstatic.com/images?q=tbn:ANd9GcTV-MGhmQ6qEarSLvBDY-iPP4aT8p-4-rFZUA&usqp=CAU',\n",
       " 'https://encrypted-tbn0.gstatic.com/images?q=tbn:ANd9GcTcU3ZHwUA8OvmLTGCi3A5aZ151PQGGketoJA&usqp=CAU',\n",
       " 'https://encrypted-tbn0.gstatic.com/images?q=tbn:ANd9GcT1ubCDnubrJ_Ikxr88IiL9a0VPQ2ClMlWrqw&usqp=CAU',\n",
       " 'https://encrypted-tbn0.gstatic.com/images?q=tbn:ANd9GcR1Qej4H4TjytoHgxPUz0sl4nRX276u9fmvjg&usqp=CAU',\n",
       " 'https://encrypted-tbn0.gstatic.com/images?q=tbn:ANd9GcQdXkCJfkd6-mt14SBOUK1Pogn4il6qRnKvCw&usqp=CAU',\n",
       " 'https://encrypted-tbn0.gstatic.com/images?q=tbn:ANd9GcShdd-uDbUrz9TUVi05aK0BchilEz3AdVB64A&usqp=CAU',\n",
       " 'https://encrypted-tbn0.gstatic.com/images?q=tbn:ANd9GcR6eB6Rh9xKB143zloaKF4P_prDRIrDwz1Fpg&usqp=CAU',\n",
       " 'https://encrypted-tbn0.gstatic.com/images?q=tbn:ANd9GcTZb-XOu2MpO1wvAVytE0Eszix0L74Anum_ag&usqp=CAU',\n",
       " 'https://encrypted-tbn0.gstatic.com/images?q=tbn:ANd9GcTyfYb9ALQpEYYKxXAb_N5H3GS0Oup5s85Q0g&usqp=CAU',\n",
       " 'https://encrypted-tbn0.gstatic.com/images?q=tbn:ANd9GcSrntDD79vShU0lm6iXub2LKGz-5YG6TACM5g&usqp=CAU',\n",
       " 'https://encrypted-tbn0.gstatic.com/images?q=tbn:ANd9GcTM1cY5MzZvBFpmmD2hg9wuPt8LeG06O650uQ&usqp=CAU',\n",
       " 'https://encrypted-tbn0.gstatic.com/images?q=tbn:ANd9GcTK1daEk92mQASTmsP3xlEUCo3qbx7ABdjrrQ&usqp=CAU',\n",
       " 'https://encrypted-tbn0.gstatic.com/images?q=tbn:ANd9GcQlsHGDAyGiDGSmt0kB5-6pYNOhAKDjTbjeBg&usqp=CAU',\n",
       " 'https://encrypted-tbn0.gstatic.com/images?q=tbn:ANd9GcSbE8Z4au8K7RpHAA9KQt_YrMxo-60Z90xkJA&usqp=CAU',\n",
       " 'https://encrypted-tbn0.gstatic.com/images?q=tbn:ANd9GcQGW4V30CVyWX5sg1nEYBeh-xzNEDCZrOu0SA&usqp=CAU',\n",
       " 'https://encrypted-tbn0.gstatic.com/images?q=tbn:ANd9GcTcgqRpkwipFADRwC5bpnWtU7RKTmz15N-hHw&usqp=CAU',\n",
       " 'https://encrypted-tbn0.gstatic.com/images?q=tbn:ANd9GcQ7IhoqGKUwQPcY6ipAqonLj6zM-1qtWPwSig&usqp=CAU',\n",
       " None,\n",
       " None,\n",
       " None,\n",
       " None,\n",
       " None,\n",
       " None,\n",
       " None,\n",
       " None,\n",
       " None,\n",
       " None,\n",
       " None,\n",
       " None,\n",
       " None,\n",
       " None,\n",
       " None,\n",
       " None,\n",
       " None,\n",
       " None,\n",
       " None,\n",
       " None,\n",
       " None,\n",
       " None,\n",
       " None]"
      ]
     },
     "execution_count": 56,
     "metadata": {},
     "output_type": "execute_result"
    }
   ],
   "source": [
    "fruit"
   ]
  },
  {
   "cell_type": "code",
   "execution_count": 57,
   "id": "0beaf285",
   "metadata": {},
   "outputs": [
    {
     "name": "stdout",
     "output_type": "stream",
     "text": [
      "100\n"
     ]
    }
   ],
   "source": [
    "print(len(fruit))"
   ]
  },
  {
   "cell_type": "code",
   "execution_count": 65,
   "id": "c4486d49",
   "metadata": {},
   "outputs": [],
   "source": [
    "#storing images in folder\n",
    "import urllib\n",
    "for i in range(10):    \n",
    "    urllib.request.urlretrieve(str(fruit[i]),\"imagesgoogle/fruits{}.jpg\".format(i))"
   ]
  },
  {
   "cell_type": "code",
   "execution_count": 67,
   "id": "fec37561",
   "metadata": {},
   "outputs": [],
   "source": [
    "driver.close()"
   ]
  },
  {
   "cell_type": "code",
   "execution_count": 70,
   "id": "b28832b4",
   "metadata": {},
   "outputs": [],
   "source": [
    "###fetching cars images\n",
    "driver=webdriver.Chrome()\n",
    "driver.get(url.format(s='cars'))   #searching for car images\n",
    "\n"
   ]
  },
  {
   "cell_type": "code",
   "execution_count": 71,
   "id": "45d7751b",
   "metadata": {},
   "outputs": [],
   "source": [
    "#finding and extracting i=car images\n",
    "carimg=[]\n",
    "car=driver.find_elements(By.XPATH,'//img[contains(@class,\"rg_i Q4LuWd\")]')\n",
    "for i in car:\n",
    "    carimg.append(i.get_attribute('src'))"
   ]
  },
  {
   "cell_type": "code",
   "execution_count": 72,
   "id": "51a58511",
   "metadata": {},
   "outputs": [
    {
     "name": "stdout",
     "output_type": "stream",
     "text": [
      "48\n"
     ]
    }
   ],
   "source": [
    "print(len(carimg))"
   ]
  },
  {
   "cell_type": "code",
   "execution_count": 75,
   "id": "2388a925",
   "metadata": {},
   "outputs": [],
   "source": [
    "#downloading images in folder\n",
    "import urllib\n",
    "for j in range(10):\n",
    "    urllib.request.urlretrieve(str(carimg[j]),\"imagesgoogle/cars{}.jpg\".format(j))\n",
    "    "
   ]
  },
  {
   "cell_type": "code",
   "execution_count": 76,
   "id": "f3de4144",
   "metadata": {},
   "outputs": [],
   "source": [
    "##getting machinelearning images\n",
    "driver.get(url.format(s='Machine Learning'))"
   ]
  },
  {
   "cell_type": "code",
   "execution_count": 77,
   "id": "7191947c",
   "metadata": {},
   "outputs": [],
   "source": [
    "#finding and extracting machine learning images\n",
    "MLimg=[]\n",
    "ML=driver.find_elements(By.XPATH,'//img[contains(@class,\"rg_i Q4LuWd\")]')\n",
    "for i in ML:\n",
    "    MLimg.append(i.get_attribute('src'))"
   ]
  },
  {
   "cell_type": "code",
   "execution_count": 78,
   "id": "355d26d8",
   "metadata": {},
   "outputs": [
    {
     "name": "stdout",
     "output_type": "stream",
     "text": [
      "48\n"
     ]
    }
   ],
   "source": [
    "print(len(ML))"
   ]
  },
  {
   "cell_type": "code",
   "execution_count": 79,
   "id": "853eb9e6",
   "metadata": {},
   "outputs": [],
   "source": [
    "#downloading images in folder\n",
    "\n",
    "for m in range(10):\n",
    "    urllib.request.urlretrieve(str(MLimg[m]),\"imagesgoogle/ML{}.jpg\".format(m))\n",
    "    "
   ]
  },
  {
   "cell_type": "code",
   "execution_count": 80,
   "id": "72e481f6",
   "metadata": {},
   "outputs": [],
   "source": [
    "##geting driver and vrowesr ready to exctract cakes images\n",
    "driver.get(url.format(s='cakes'))"
   ]
  },
  {
   "cell_type": "code",
   "execution_count": 81,
   "id": "ad1ac554",
   "metadata": {},
   "outputs": [],
   "source": [
    "#finding and extracting cake images\n",
    "cakeimg=[]\n",
    "c=driver.find_elements(By.XPATH,'//img[contains(@class,\"rg_i Q4LuWd\")]')\n",
    "for i in c:\n",
    "    cakeimg.append(i.get_attribute('src'))"
   ]
  },
  {
   "cell_type": "code",
   "execution_count": 82,
   "id": "8f91e64a",
   "metadata": {},
   "outputs": [
    {
     "name": "stdout",
     "output_type": "stream",
     "text": [
      "48\n"
     ]
    }
   ],
   "source": [
    "print(len(cakeimg))"
   ]
  },
  {
   "cell_type": "code",
   "execution_count": 83,
   "id": "84997185",
   "metadata": {},
   "outputs": [],
   "source": [
    "#downloading images in folder\n",
    "\n",
    "for c in range(10):\n",
    "    urllib.request.urlretrieve(str(cakeimg[c]),\"imagesgoogle/cakes{}.jpg\".format(c))\n",
    "    "
   ]
  },
  {
   "cell_type": "code",
   "execution_count": 84,
   "id": "f62ea444",
   "metadata": {},
   "outputs": [],
   "source": [
    "#getting driver to extract guitar images\n",
    "driver.get(url.format(s='guitar'))"
   ]
  },
  {
   "cell_type": "code",
   "execution_count": 85,
   "id": "0f4f918a",
   "metadata": {},
   "outputs": [],
   "source": [
    "#finding and extracting cake images\n",
    "gimg=[]\n",
    "g=driver.find_elements(By.XPATH,'//img[contains(@class,\"rg_i Q4LuWd\")]')\n",
    "for i in g:\n",
    "    gimg.append(i.get_attribute('src'))"
   ]
  },
  {
   "cell_type": "code",
   "execution_count": 86,
   "id": "9e00372c",
   "metadata": {},
   "outputs": [
    {
     "name": "stdout",
     "output_type": "stream",
     "text": [
      "48\n"
     ]
    }
   ],
   "source": [
    "print(len(gimg))"
   ]
  },
  {
   "cell_type": "code",
   "execution_count": 87,
   "id": "6a078ab2",
   "metadata": {},
   "outputs": [],
   "source": [
    "#downloading images in folder\n",
    "\n",
    "for g in range(10):\n",
    "    urllib.request.urlretrieve(str(gimg[g]),\"imagesgoogle/guitar{}.jpg\".format(g))\n",
    "    "
   ]
  },
  {
   "cell_type": "code",
   "execution_count": 88,
   "id": "68e8b170",
   "metadata": {},
   "outputs": [],
   "source": [
    "driver.close()"
   ]
  },
  {
   "cell_type": "markdown",
   "id": "b96aeec5",
   "metadata": {},
   "source": [
    "# 4. Write a python program to search for a smartphone(e.g.: Oneplus Nord, pixel 4A, etc.) on www.flipkart.com\n",
    "and scrape following details for all the search results displayed on 1st page. Details to be scraped: “Brand \n",
    "Name”, “Smartphone name”, “Colour”, “RAM”, “Storage(ROM)”, “Primary Camera”, \n",
    "“Secondary Camera”, “Display Size”, “Battery Capacity”, “Price”, “Product URL”. Incase if any of the \n",
    "details is missing then replace it by “- “. Save your results in a dataframe and CSV. "
   ]
  },
  {
   "cell_type": "code",
   "execution_count": 18,
   "id": "a63db94b",
   "metadata": {},
   "outputs": [],
   "source": [
    "#opening chrome browser\n",
    "driver=webdriver.Chrome()"
   ]
  },
  {
   "cell_type": "code",
   "execution_count": 19,
   "id": "772c1840",
   "metadata": {},
   "outputs": [],
   "source": [
    "#getting url on browser\n",
    "driver.get('http://www.flipkart.com/')"
   ]
  },
  {
   "cell_type": "code",
   "execution_count": 20,
   "id": "a9648498",
   "metadata": {},
   "outputs": [],
   "source": [
    "driver.maximize_window()    ##maximizing chrome window"
   ]
  },
  {
   "cell_type": "code",
   "execution_count": 21,
   "id": "7fc6aa2c",
   "metadata": {},
   "outputs": [],
   "source": [
    "#input smartphones\n",
    "input1=driver.find_element(By.XPATH,'/html/body/div[1]/div/div[1]/div/div/div/div/div[1]/div/div[1]/div/div[1]/header/div[1]/div[2]/form/div/div/input')\n",
    "input1.send_keys('smartphone')"
   ]
  },
  {
   "cell_type": "code",
   "execution_count": 23,
   "id": "906714be",
   "metadata": {},
   "outputs": [],
   "source": [
    "#clicking on search\n",
    "search=driver.find_element(By.XPATH,'/html/body/div[1]/div/div[1]/div/div/div/div/div[1]/div/div[1]/div/div[1]/header/div[1]/div[2]/form/div/button')\n",
    "search.click()"
   ]
  },
  {
   "cell_type": "code",
   "execution_count": 24,
   "id": "0fdc561a",
   "metadata": {},
   "outputs": [],
   "source": [
    "#getting url of each phone\n",
    "url=[]\n",
    "urltag=driver.find_elements(By.CLASS_NAME,\"_1fQZEK\")\n",
    "for i in urltag:\n",
    "    url.append(i.get_attribute('href'))"
   ]
  },
  {
   "cell_type": "code",
   "execution_count": 25,
   "id": "55edd24f",
   "metadata": {},
   "outputs": [
    {
     "name": "stdout",
     "output_type": "stream",
     "text": [
      "24\n"
     ]
    }
   ],
   "source": [
    "print(len(url))"
   ]
  },
  {
   "cell_type": "code",
   "execution_count": 26,
   "id": "1f2dfaf3",
   "metadata": {},
   "outputs": [],
   "source": [
    "Brand_Name=[]\n",
    "Colour=[]\n",
    "Storage_RAM_ROM=[]\n",
    "P_F_Camera=[]\n",
    "Display_size_Resolution=[]\n",
    "ProcessorAndCores=[]\n",
    "Battery=[]\n",
    "Price=[]\n"
   ]
  },
  {
   "cell_type": "code",
   "execution_count": 28,
   "id": "c99185e6",
   "metadata": {},
   "outputs": [
    {
     "name": "stdout",
     "output_type": "stream",
     "text": [
      "24 ['POCO X5 5G (Supernova Green, 256 GB)', 'SAMSUNG Galaxy F14 5G (OMG Black, 128 GB)', 'APPLE iPhone 14 (Blue, 128 GB)', 'APPLE iPhone 14 (Starlight, 128 GB)', 'APPLE iPhone 14 (Midnight, 128 GB)', 'APPLE iPhone 14 Plus (Blue, 128 GB)', 'MOTOROLA g54 5G (Mint Green, 256 GB)', 'SAMSUNG Galaxy F14 5G (GOAT Green, 128 GB)', 'POCO C51 (Royal Blue, 64 GB)', 'MOTOROLA g84 5G (Marshmallow Blue, 256 GB)', 'SAMSUNG Galaxy F14 5G (GOAT Green, 128 GB)', 'POCO X5 5G (Wildcat Blue, 256 GB)', 'realme C51 (Carbon Black, 64 GB)', 'realme C51 (Mint Green, 64 GB)', 'vivo T2x 5G (Marine Blue, 128 GB)', 'vivo T2x 5G (Aurora Gold, 128 GB)', 'POCO X5 5G (Jaguar Black, 256 GB)', 'POCO X5 5G (Jaguar Black, 128 GB)', 'vivo T2x 5G (Glimmer Black, 128 GB)', 'POCO M6 Pro 5G (Power Black, 128 GB)', 'SAMSUNG Galaxy F14 5G (B.A.E. Purple, 128 GB)', 'SAMSUNG Galaxy F14 5G (B.A.E. Purple, 128 GB)', 'vivo T2x 5G (Aurora Gold, 128 GB)', 'vivo T2x 5G (Glimmer Black, 128 GB)']\n"
     ]
    }
   ],
   "source": [
    "#scraping the Brand_Name \n",
    "BName=driver.find_elements(By.XPATH,\"//div[@class='_4rR01T']\")\n",
    "for i in BName:\n",
    "    if i.text is None :\n",
    "        Brand_Name.append(\"--\") \n",
    "    else:\n",
    "        Brand_Name.append(i.text)\n",
    "print(len(Brand_Name),Brand_Name)"
   ]
  },
  {
   "cell_type": "code",
   "execution_count": 29,
   "id": "18f1996d",
   "metadata": {},
   "outputs": [
    {
     "name": "stdout",
     "output_type": "stream",
     "text": [
      "24 ['8 GB RAM | 256 GB ROM | Expandable Upto 1 TB', '6 GB RAM | 128 GB ROM | Expandable Upto 1 TB', '128 GB ROM', '128 GB ROM', '128 GB ROM', '128 GB ROM', '12 GB RAM | 256 GB ROM | Expandable Upto 1 TB', '4 GB RAM | 128 GB ROM | Expandable Upto 1 TB', '4 GB RAM | 64 GB ROM | Expandable Upto 1 TB', '12 GB RAM | 256 GB ROM', '6 GB RAM | 128 GB ROM | Expandable Upto 1 TB', '8 GB RAM | 256 GB ROM | Expandable Upto 1 TB', '4 GB RAM | 64 GB ROM | Expandable Upto 2 TB', '4 GB RAM | 64 GB ROM | Expandable Upto 2 TB', '8 GB RAM | 128 GB ROM', '8 GB RAM | 128 GB ROM', '8 GB RAM | 256 GB ROM | Expandable Upto 1 TB', '6 GB RAM | 128 GB ROM | Expandable Upto 1 TB', '8 GB RAM | 128 GB ROM', '6 GB RAM | 128 GB ROM | Expandable Upto 1 TB', '6 GB RAM | 128 GB ROM | Expandable Upto 1 TB', '4 GB RAM | 128 GB ROM | Expandable Upto 1 TB', '6 GB RAM | 128 GB ROM', '6 GB RAM | 128 GB ROM']\n"
     ]
    }
   ],
   "source": [
    "#scraping the Storage_RAM_ROM \n",
    "ram=driver.find_elements(By.XPATH,\"//ul[@class='_1xgFaf']//li[1]\")\n",
    "for i in ram:\n",
    "    if i.text is None :\n",
    "        Storage_RAM_ROM.append(\"--\") \n",
    "    else:\n",
    "        Storage_RAM_ROM.append(i.text)\n",
    "print(len(Storage_RAM_ROM),Storage_RAM_ROM)"
   ]
  },
  {
   "cell_type": "code",
   "execution_count": 31,
   "id": "52e10a35",
   "metadata": {},
   "outputs": [
    {
     "name": "stdout",
     "output_type": "stream",
     "text": [
      "24 ['48MP + 8MP + 2MP | 13MP Front Camera', '50MP + 2MP | 13MP Front Camera', '12MP + 12MP | 12MP Front Camera', '12MP + 12MP | 12MP Front Camera', '12MP + 12MP | 12MP Front Camera', '12MP + 12MP | 12MP Front Camera', '50MP (OIS) + 8MP | 16MP Front Camera', '50MP + 2MP | 13MP Front Camera', '8MP Dual Rear Camera | 5MP Front Camera', '50MP (OIS) + 8MP | 16MP Front Camera', '50MP + 2MP | 13MP Front Camera', '48MP + 8MP + 2MP | 13MP Front Camera', '50MP + 0.08MP | 5MP Front Camera', '50MP + 0.08MP | 5MP Front Camera', '50MP + 2MP | 8MP Front Camera', '50MP + 2MP | 8MP Front Camera', '48MP + 8MP + 2MP | 13MP Front Camera', '48MP + 8MP + 2MP | 13MP Front Camera', '50MP + 2MP | 8MP Front Camera', '50MP + 2MP | 8MP Front Camera', '50MP + 2MP | 13MP Front Camera', '50MP + 2MP | 13MP Front Camera', '50MP + 2MP | 8MP Front Camera', '50MP + 2MP | 8MP Front Camera']\n"
     ]
    }
   ],
   "source": [
    "#scraping the P_F_Camera \n",
    "PC=driver.find_elements(By.XPATH,\"//ul[@class='_1xgFaf']//li[3]\")\n",
    "for i in PC:\n",
    "    if i.text is None :\n",
    "        P_F_Camera.append(\"--\") \n",
    "    else:\n",
    "        P_F_Camera.append(i.text)\n",
    "print(len(P_F_Camera),P_F_Camera)"
   ]
  },
  {
   "cell_type": "code",
   "execution_count": 33,
   "id": "82651e63",
   "metadata": {},
   "outputs": [
    {
     "name": "stdout",
     "output_type": "stream",
     "text": [
      "24 ['16.94 cm (6.67 inch) Full HD+ Display', '16.76 cm (6.6 inch) Full HD+ Display', '15.49 cm (6.1 inch) Super Retina XDR Display', '15.49 cm (6.1 inch) Super Retina XDR Display', '15.49 cm (6.1 inch) Super Retina XDR Display', '17.02 cm (6.7 inch) Super Retina XDR Display', '16.51 cm (6.5 inch) Full HD+ Display', '16.76 cm (6.6 inch) Full HD+ Display', '16.56 cm (6.52 inch) HD+ Display', '16.64 cm (6.55 inch) Full HD+ Display', '16.76 cm (6.6 inch) Full HD+ Display', '16.94 cm (6.67 inch) Full HD+ Display', '17.12 cm (6.74 inch) HD Display', '17.12 cm (6.74 inch) HD Display', '16.71 cm (6.58 inch) Full HD+ Display', '16.71 cm (6.58 inch) Full HD+ Display', '16.94 cm (6.67 inch) Full HD+ Display', '16.94 cm (6.67 inch) Full HD+ Display', '16.71 cm (6.58 inch) Full HD+ Display', '17.25 cm (6.79 inch) Full HD+ Display', '16.76 cm (6.6 inch) Full HD+ Display', '16.76 cm (6.6 inch) Full HD+ Display', '16.71 cm (6.58 inch) Full HD+ Display', '16.71 cm (6.58 inch) Full HD+ Display']\n"
     ]
    }
   ],
   "source": [
    "#scraping the Display_size_Resolution \n",
    "DS=driver.find_elements(By.XPATH,\"//ul[@class='_1xgFaf']//li[2]\")\n",
    "for i in DS:\n",
    "    if i.text is None :\n",
    "        Display_size_Resolution.append(\"--\") \n",
    "    else:\n",
    "        Display_size_Resolution.append(i.text)\n",
    "print(len(Display_size_Resolution),Display_size_Resolution)"
   ]
  },
  {
   "cell_type": "code",
   "execution_count": 34,
   "id": "587afc4d",
   "metadata": {},
   "outputs": [
    {
     "name": "stdout",
     "output_type": "stream",
     "text": [
      "24 ['5000 mAh Battery', '6000 mAh Battery', 'A15 Bionic Chip, 6 Core Processor Processor', 'A15 Bionic Chip, 6 Core Processor Processor', 'A15 Bionic Chip, 6 Core Processor Processor', 'A15 Bionic Chip, 6 Core Processor Processor', '6000 mAh Battery', '6000 mAh Battery', '5000 mAh Battery', '5000 mAh Battery', '6000 mAh Battery', '5000 mAh Battery', '5000 mAh Battery', '5000 mAh Battery', '5000 mAh Battery', '5000 mAh Battery', '5000 mAh Battery', '5000 mAh Battery', '5000 mAh Battery', '5000 mAh Battery', '6000 mAh Battery', '6000 mAh Battery', '5000 mAh Battery', '5000 mAh Battery']\n"
     ]
    }
   ],
   "source": [
    "#scraping the Battery \n",
    "B=driver.find_elements(By.XPATH,\"//ul[@class='_1xgFaf']//li[4]\")\n",
    "for i in B:\n",
    "    if i.text is None :\n",
    "        Battery.append(\"--\") \n",
    "    else:\n",
    "        Battery.append(i.text)\n",
    "print(len(Battery),Battery)"
   ]
  },
  {
   "cell_type": "code",
   "execution_count": 35,
   "id": "449257b6",
   "metadata": {},
   "outputs": [
    {
     "name": "stdout",
     "output_type": "stream",
     "text": [
      "24 ['₹14,999', '₹12,490', '₹57,499', '₹58,499', '₹58,499', '₹63,999', '₹15,999', '₹11,490', '₹5,999', '₹18,999', '₹12,490', '₹14,999', '₹7,999', '₹7,999', '₹14,999', '₹14,999', '₹14,999', '₹13,999', '₹14,999', '₹11,999', '₹12,490', '₹11,490', '₹12,999', '₹12,999']\n"
     ]
    }
   ],
   "source": [
    "#scraping the Price \n",
    "price=driver.find_elements(By.XPATH,\"//div[@class='_30jeq3 _1_WHN1']\")\n",
    "for i in price:\n",
    "    if i.text is None :\n",
    "        Price.append(\"--\") \n",
    "    else:\n",
    "        Price.append(i.text)\n",
    "print(len(Price),Price)"
   ]
  },
  {
   "cell_type": "code",
   "execution_count": 36,
   "id": "bb9327b4",
   "metadata": {},
   "outputs": [],
   "source": [
    "FlipKart=pd.DataFrame([])\n",
    "FlipKart['Brand_Name']=Brand_Name\n",
    "FlipKart['Storage_RAM_ROM']=Storage_RAM_ROM\n",
    "FlipKart['Amount P_F_Camera']=P_F_Camera\n",
    "FlipKart['Display_size_Resolution']=Display_size_Resolution\n",
    "FlipKart['Battery']=Battery\n",
    "FlipKart['Price']=Price"
   ]
  },
  {
   "cell_type": "code",
   "execution_count": 37,
   "id": "8e05a182",
   "metadata": {},
   "outputs": [
    {
     "data": {
      "text/html": [
       "<div>\n",
       "<style scoped>\n",
       "    .dataframe tbody tr th:only-of-type {\n",
       "        vertical-align: middle;\n",
       "    }\n",
       "\n",
       "    .dataframe tbody tr th {\n",
       "        vertical-align: top;\n",
       "    }\n",
       "\n",
       "    .dataframe thead th {\n",
       "        text-align: right;\n",
       "    }\n",
       "</style>\n",
       "<table border=\"1\" class=\"dataframe\">\n",
       "  <thead>\n",
       "    <tr style=\"text-align: right;\">\n",
       "      <th></th>\n",
       "      <th>Brand_Name</th>\n",
       "      <th>Storage_RAM_ROM</th>\n",
       "      <th>Amount P_F_Camera</th>\n",
       "      <th>Display_size_Resolution</th>\n",
       "      <th>Battery</th>\n",
       "      <th>Price</th>\n",
       "    </tr>\n",
       "  </thead>\n",
       "  <tbody>\n",
       "    <tr>\n",
       "      <th>0</th>\n",
       "      <td>POCO X5 5G (Supernova Green, 256 GB)</td>\n",
       "      <td>8 GB RAM | 256 GB ROM | Expandable Upto 1 TB</td>\n",
       "      <td>48MP + 8MP + 2MP | 13MP Front Camera</td>\n",
       "      <td>16.94 cm (6.67 inch) Full HD+ Display</td>\n",
       "      <td>5000 mAh Battery</td>\n",
       "      <td>₹14,999</td>\n",
       "    </tr>\n",
       "    <tr>\n",
       "      <th>1</th>\n",
       "      <td>SAMSUNG Galaxy F14 5G (OMG Black, 128 GB)</td>\n",
       "      <td>6 GB RAM | 128 GB ROM | Expandable Upto 1 TB</td>\n",
       "      <td>50MP + 2MP | 13MP Front Camera</td>\n",
       "      <td>16.76 cm (6.6 inch) Full HD+ Display</td>\n",
       "      <td>6000 mAh Battery</td>\n",
       "      <td>₹12,490</td>\n",
       "    </tr>\n",
       "    <tr>\n",
       "      <th>2</th>\n",
       "      <td>APPLE iPhone 14 (Blue, 128 GB)</td>\n",
       "      <td>128 GB ROM</td>\n",
       "      <td>12MP + 12MP | 12MP Front Camera</td>\n",
       "      <td>15.49 cm (6.1 inch) Super Retina XDR Display</td>\n",
       "      <td>A15 Bionic Chip, 6 Core Processor Processor</td>\n",
       "      <td>₹57,499</td>\n",
       "    </tr>\n",
       "    <tr>\n",
       "      <th>3</th>\n",
       "      <td>APPLE iPhone 14 (Starlight, 128 GB)</td>\n",
       "      <td>128 GB ROM</td>\n",
       "      <td>12MP + 12MP | 12MP Front Camera</td>\n",
       "      <td>15.49 cm (6.1 inch) Super Retina XDR Display</td>\n",
       "      <td>A15 Bionic Chip, 6 Core Processor Processor</td>\n",
       "      <td>₹58,499</td>\n",
       "    </tr>\n",
       "    <tr>\n",
       "      <th>4</th>\n",
       "      <td>APPLE iPhone 14 (Midnight, 128 GB)</td>\n",
       "      <td>128 GB ROM</td>\n",
       "      <td>12MP + 12MP | 12MP Front Camera</td>\n",
       "      <td>15.49 cm (6.1 inch) Super Retina XDR Display</td>\n",
       "      <td>A15 Bionic Chip, 6 Core Processor Processor</td>\n",
       "      <td>₹58,499</td>\n",
       "    </tr>\n",
       "    <tr>\n",
       "      <th>5</th>\n",
       "      <td>APPLE iPhone 14 Plus (Blue, 128 GB)</td>\n",
       "      <td>128 GB ROM</td>\n",
       "      <td>12MP + 12MP | 12MP Front Camera</td>\n",
       "      <td>17.02 cm (6.7 inch) Super Retina XDR Display</td>\n",
       "      <td>A15 Bionic Chip, 6 Core Processor Processor</td>\n",
       "      <td>₹63,999</td>\n",
       "    </tr>\n",
       "    <tr>\n",
       "      <th>6</th>\n",
       "      <td>MOTOROLA g54 5G (Mint Green, 256 GB)</td>\n",
       "      <td>12 GB RAM | 256 GB ROM | Expandable Upto 1 TB</td>\n",
       "      <td>50MP (OIS) + 8MP | 16MP Front Camera</td>\n",
       "      <td>16.51 cm (6.5 inch) Full HD+ Display</td>\n",
       "      <td>6000 mAh Battery</td>\n",
       "      <td>₹15,999</td>\n",
       "    </tr>\n",
       "    <tr>\n",
       "      <th>7</th>\n",
       "      <td>SAMSUNG Galaxy F14 5G (GOAT Green, 128 GB)</td>\n",
       "      <td>4 GB RAM | 128 GB ROM | Expandable Upto 1 TB</td>\n",
       "      <td>50MP + 2MP | 13MP Front Camera</td>\n",
       "      <td>16.76 cm (6.6 inch) Full HD+ Display</td>\n",
       "      <td>6000 mAh Battery</td>\n",
       "      <td>₹11,490</td>\n",
       "    </tr>\n",
       "    <tr>\n",
       "      <th>8</th>\n",
       "      <td>POCO C51 (Royal Blue, 64 GB)</td>\n",
       "      <td>4 GB RAM | 64 GB ROM | Expandable Upto 1 TB</td>\n",
       "      <td>8MP Dual Rear Camera | 5MP Front Camera</td>\n",
       "      <td>16.56 cm (6.52 inch) HD+ Display</td>\n",
       "      <td>5000 mAh Battery</td>\n",
       "      <td>₹5,999</td>\n",
       "    </tr>\n",
       "    <tr>\n",
       "      <th>9</th>\n",
       "      <td>MOTOROLA g84 5G (Marshmallow Blue, 256 GB)</td>\n",
       "      <td>12 GB RAM | 256 GB ROM</td>\n",
       "      <td>50MP (OIS) + 8MP | 16MP Front Camera</td>\n",
       "      <td>16.64 cm (6.55 inch) Full HD+ Display</td>\n",
       "      <td>5000 mAh Battery</td>\n",
       "      <td>₹18,999</td>\n",
       "    </tr>\n",
       "    <tr>\n",
       "      <th>10</th>\n",
       "      <td>SAMSUNG Galaxy F14 5G (GOAT Green, 128 GB)</td>\n",
       "      <td>6 GB RAM | 128 GB ROM | Expandable Upto 1 TB</td>\n",
       "      <td>50MP + 2MP | 13MP Front Camera</td>\n",
       "      <td>16.76 cm (6.6 inch) Full HD+ Display</td>\n",
       "      <td>6000 mAh Battery</td>\n",
       "      <td>₹12,490</td>\n",
       "    </tr>\n",
       "    <tr>\n",
       "      <th>11</th>\n",
       "      <td>POCO X5 5G (Wildcat Blue, 256 GB)</td>\n",
       "      <td>8 GB RAM | 256 GB ROM | Expandable Upto 1 TB</td>\n",
       "      <td>48MP + 8MP + 2MP | 13MP Front Camera</td>\n",
       "      <td>16.94 cm (6.67 inch) Full HD+ Display</td>\n",
       "      <td>5000 mAh Battery</td>\n",
       "      <td>₹14,999</td>\n",
       "    </tr>\n",
       "    <tr>\n",
       "      <th>12</th>\n",
       "      <td>realme C51 (Carbon Black, 64 GB)</td>\n",
       "      <td>4 GB RAM | 64 GB ROM | Expandable Upto 2 TB</td>\n",
       "      <td>50MP + 0.08MP | 5MP Front Camera</td>\n",
       "      <td>17.12 cm (6.74 inch) HD Display</td>\n",
       "      <td>5000 mAh Battery</td>\n",
       "      <td>₹7,999</td>\n",
       "    </tr>\n",
       "    <tr>\n",
       "      <th>13</th>\n",
       "      <td>realme C51 (Mint Green, 64 GB)</td>\n",
       "      <td>4 GB RAM | 64 GB ROM | Expandable Upto 2 TB</td>\n",
       "      <td>50MP + 0.08MP | 5MP Front Camera</td>\n",
       "      <td>17.12 cm (6.74 inch) HD Display</td>\n",
       "      <td>5000 mAh Battery</td>\n",
       "      <td>₹7,999</td>\n",
       "    </tr>\n",
       "    <tr>\n",
       "      <th>14</th>\n",
       "      <td>vivo T2x 5G (Marine Blue, 128 GB)</td>\n",
       "      <td>8 GB RAM | 128 GB ROM</td>\n",
       "      <td>50MP + 2MP | 8MP Front Camera</td>\n",
       "      <td>16.71 cm (6.58 inch) Full HD+ Display</td>\n",
       "      <td>5000 mAh Battery</td>\n",
       "      <td>₹14,999</td>\n",
       "    </tr>\n",
       "    <tr>\n",
       "      <th>15</th>\n",
       "      <td>vivo T2x 5G (Aurora Gold, 128 GB)</td>\n",
       "      <td>8 GB RAM | 128 GB ROM</td>\n",
       "      <td>50MP + 2MP | 8MP Front Camera</td>\n",
       "      <td>16.71 cm (6.58 inch) Full HD+ Display</td>\n",
       "      <td>5000 mAh Battery</td>\n",
       "      <td>₹14,999</td>\n",
       "    </tr>\n",
       "    <tr>\n",
       "      <th>16</th>\n",
       "      <td>POCO X5 5G (Jaguar Black, 256 GB)</td>\n",
       "      <td>8 GB RAM | 256 GB ROM | Expandable Upto 1 TB</td>\n",
       "      <td>48MP + 8MP + 2MP | 13MP Front Camera</td>\n",
       "      <td>16.94 cm (6.67 inch) Full HD+ Display</td>\n",
       "      <td>5000 mAh Battery</td>\n",
       "      <td>₹14,999</td>\n",
       "    </tr>\n",
       "    <tr>\n",
       "      <th>17</th>\n",
       "      <td>POCO X5 5G (Jaguar Black, 128 GB)</td>\n",
       "      <td>6 GB RAM | 128 GB ROM | Expandable Upto 1 TB</td>\n",
       "      <td>48MP + 8MP + 2MP | 13MP Front Camera</td>\n",
       "      <td>16.94 cm (6.67 inch) Full HD+ Display</td>\n",
       "      <td>5000 mAh Battery</td>\n",
       "      <td>₹13,999</td>\n",
       "    </tr>\n",
       "    <tr>\n",
       "      <th>18</th>\n",
       "      <td>vivo T2x 5G (Glimmer Black, 128 GB)</td>\n",
       "      <td>8 GB RAM | 128 GB ROM</td>\n",
       "      <td>50MP + 2MP | 8MP Front Camera</td>\n",
       "      <td>16.71 cm (6.58 inch) Full HD+ Display</td>\n",
       "      <td>5000 mAh Battery</td>\n",
       "      <td>₹14,999</td>\n",
       "    </tr>\n",
       "    <tr>\n",
       "      <th>19</th>\n",
       "      <td>POCO M6 Pro 5G (Power Black, 128 GB)</td>\n",
       "      <td>6 GB RAM | 128 GB ROM | Expandable Upto 1 TB</td>\n",
       "      <td>50MP + 2MP | 8MP Front Camera</td>\n",
       "      <td>17.25 cm (6.79 inch) Full HD+ Display</td>\n",
       "      <td>5000 mAh Battery</td>\n",
       "      <td>₹11,999</td>\n",
       "    </tr>\n",
       "    <tr>\n",
       "      <th>20</th>\n",
       "      <td>SAMSUNG Galaxy F14 5G (B.A.E. Purple, 128 GB)</td>\n",
       "      <td>6 GB RAM | 128 GB ROM | Expandable Upto 1 TB</td>\n",
       "      <td>50MP + 2MP | 13MP Front Camera</td>\n",
       "      <td>16.76 cm (6.6 inch) Full HD+ Display</td>\n",
       "      <td>6000 mAh Battery</td>\n",
       "      <td>₹12,490</td>\n",
       "    </tr>\n",
       "    <tr>\n",
       "      <th>21</th>\n",
       "      <td>SAMSUNG Galaxy F14 5G (B.A.E. Purple, 128 GB)</td>\n",
       "      <td>4 GB RAM | 128 GB ROM | Expandable Upto 1 TB</td>\n",
       "      <td>50MP + 2MP | 13MP Front Camera</td>\n",
       "      <td>16.76 cm (6.6 inch) Full HD+ Display</td>\n",
       "      <td>6000 mAh Battery</td>\n",
       "      <td>₹11,490</td>\n",
       "    </tr>\n",
       "    <tr>\n",
       "      <th>22</th>\n",
       "      <td>vivo T2x 5G (Aurora Gold, 128 GB)</td>\n",
       "      <td>6 GB RAM | 128 GB ROM</td>\n",
       "      <td>50MP + 2MP | 8MP Front Camera</td>\n",
       "      <td>16.71 cm (6.58 inch) Full HD+ Display</td>\n",
       "      <td>5000 mAh Battery</td>\n",
       "      <td>₹12,999</td>\n",
       "    </tr>\n",
       "    <tr>\n",
       "      <th>23</th>\n",
       "      <td>vivo T2x 5G (Glimmer Black, 128 GB)</td>\n",
       "      <td>6 GB RAM | 128 GB ROM</td>\n",
       "      <td>50MP + 2MP | 8MP Front Camera</td>\n",
       "      <td>16.71 cm (6.58 inch) Full HD+ Display</td>\n",
       "      <td>5000 mAh Battery</td>\n",
       "      <td>₹12,999</td>\n",
       "    </tr>\n",
       "  </tbody>\n",
       "</table>\n",
       "</div>"
      ],
      "text/plain": [
       "                                       Brand_Name  \\\n",
       "0            POCO X5 5G (Supernova Green, 256 GB)   \n",
       "1       SAMSUNG Galaxy F14 5G (OMG Black, 128 GB)   \n",
       "2                  APPLE iPhone 14 (Blue, 128 GB)   \n",
       "3             APPLE iPhone 14 (Starlight, 128 GB)   \n",
       "4              APPLE iPhone 14 (Midnight, 128 GB)   \n",
       "5             APPLE iPhone 14 Plus (Blue, 128 GB)   \n",
       "6            MOTOROLA g54 5G (Mint Green, 256 GB)   \n",
       "7      SAMSUNG Galaxy F14 5G (GOAT Green, 128 GB)   \n",
       "8                    POCO C51 (Royal Blue, 64 GB)   \n",
       "9      MOTOROLA g84 5G (Marshmallow Blue, 256 GB)   \n",
       "10     SAMSUNG Galaxy F14 5G (GOAT Green, 128 GB)   \n",
       "11              POCO X5 5G (Wildcat Blue, 256 GB)   \n",
       "12               realme C51 (Carbon Black, 64 GB)   \n",
       "13                 realme C51 (Mint Green, 64 GB)   \n",
       "14              vivo T2x 5G (Marine Blue, 128 GB)   \n",
       "15              vivo T2x 5G (Aurora Gold, 128 GB)   \n",
       "16              POCO X5 5G (Jaguar Black, 256 GB)   \n",
       "17              POCO X5 5G (Jaguar Black, 128 GB)   \n",
       "18            vivo T2x 5G (Glimmer Black, 128 GB)   \n",
       "19           POCO M6 Pro 5G (Power Black, 128 GB)   \n",
       "20  SAMSUNG Galaxy F14 5G (B.A.E. Purple, 128 GB)   \n",
       "21  SAMSUNG Galaxy F14 5G (B.A.E. Purple, 128 GB)   \n",
       "22              vivo T2x 5G (Aurora Gold, 128 GB)   \n",
       "23            vivo T2x 5G (Glimmer Black, 128 GB)   \n",
       "\n",
       "                                  Storage_RAM_ROM  \\\n",
       "0    8 GB RAM | 256 GB ROM | Expandable Upto 1 TB   \n",
       "1    6 GB RAM | 128 GB ROM | Expandable Upto 1 TB   \n",
       "2                                      128 GB ROM   \n",
       "3                                      128 GB ROM   \n",
       "4                                      128 GB ROM   \n",
       "5                                      128 GB ROM   \n",
       "6   12 GB RAM | 256 GB ROM | Expandable Upto 1 TB   \n",
       "7    4 GB RAM | 128 GB ROM | Expandable Upto 1 TB   \n",
       "8     4 GB RAM | 64 GB ROM | Expandable Upto 1 TB   \n",
       "9                          12 GB RAM | 256 GB ROM   \n",
       "10   6 GB RAM | 128 GB ROM | Expandable Upto 1 TB   \n",
       "11   8 GB RAM | 256 GB ROM | Expandable Upto 1 TB   \n",
       "12    4 GB RAM | 64 GB ROM | Expandable Upto 2 TB   \n",
       "13    4 GB RAM | 64 GB ROM | Expandable Upto 2 TB   \n",
       "14                          8 GB RAM | 128 GB ROM   \n",
       "15                          8 GB RAM | 128 GB ROM   \n",
       "16   8 GB RAM | 256 GB ROM | Expandable Upto 1 TB   \n",
       "17   6 GB RAM | 128 GB ROM | Expandable Upto 1 TB   \n",
       "18                          8 GB RAM | 128 GB ROM   \n",
       "19   6 GB RAM | 128 GB ROM | Expandable Upto 1 TB   \n",
       "20   6 GB RAM | 128 GB ROM | Expandable Upto 1 TB   \n",
       "21   4 GB RAM | 128 GB ROM | Expandable Upto 1 TB   \n",
       "22                          6 GB RAM | 128 GB ROM   \n",
       "23                          6 GB RAM | 128 GB ROM   \n",
       "\n",
       "                          Amount P_F_Camera  \\\n",
       "0      48MP + 8MP + 2MP | 13MP Front Camera   \n",
       "1            50MP + 2MP | 13MP Front Camera   \n",
       "2           12MP + 12MP | 12MP Front Camera   \n",
       "3           12MP + 12MP | 12MP Front Camera   \n",
       "4           12MP + 12MP | 12MP Front Camera   \n",
       "5           12MP + 12MP | 12MP Front Camera   \n",
       "6      50MP (OIS) + 8MP | 16MP Front Camera   \n",
       "7            50MP + 2MP | 13MP Front Camera   \n",
       "8   8MP Dual Rear Camera | 5MP Front Camera   \n",
       "9      50MP (OIS) + 8MP | 16MP Front Camera   \n",
       "10           50MP + 2MP | 13MP Front Camera   \n",
       "11     48MP + 8MP + 2MP | 13MP Front Camera   \n",
       "12         50MP + 0.08MP | 5MP Front Camera   \n",
       "13         50MP + 0.08MP | 5MP Front Camera   \n",
       "14            50MP + 2MP | 8MP Front Camera   \n",
       "15            50MP + 2MP | 8MP Front Camera   \n",
       "16     48MP + 8MP + 2MP | 13MP Front Camera   \n",
       "17     48MP + 8MP + 2MP | 13MP Front Camera   \n",
       "18            50MP + 2MP | 8MP Front Camera   \n",
       "19            50MP + 2MP | 8MP Front Camera   \n",
       "20           50MP + 2MP | 13MP Front Camera   \n",
       "21           50MP + 2MP | 13MP Front Camera   \n",
       "22            50MP + 2MP | 8MP Front Camera   \n",
       "23            50MP + 2MP | 8MP Front Camera   \n",
       "\n",
       "                         Display_size_Resolution  \\\n",
       "0          16.94 cm (6.67 inch) Full HD+ Display   \n",
       "1           16.76 cm (6.6 inch) Full HD+ Display   \n",
       "2   15.49 cm (6.1 inch) Super Retina XDR Display   \n",
       "3   15.49 cm (6.1 inch) Super Retina XDR Display   \n",
       "4   15.49 cm (6.1 inch) Super Retina XDR Display   \n",
       "5   17.02 cm (6.7 inch) Super Retina XDR Display   \n",
       "6           16.51 cm (6.5 inch) Full HD+ Display   \n",
       "7           16.76 cm (6.6 inch) Full HD+ Display   \n",
       "8               16.56 cm (6.52 inch) HD+ Display   \n",
       "9          16.64 cm (6.55 inch) Full HD+ Display   \n",
       "10          16.76 cm (6.6 inch) Full HD+ Display   \n",
       "11         16.94 cm (6.67 inch) Full HD+ Display   \n",
       "12               17.12 cm (6.74 inch) HD Display   \n",
       "13               17.12 cm (6.74 inch) HD Display   \n",
       "14         16.71 cm (6.58 inch) Full HD+ Display   \n",
       "15         16.71 cm (6.58 inch) Full HD+ Display   \n",
       "16         16.94 cm (6.67 inch) Full HD+ Display   \n",
       "17         16.94 cm (6.67 inch) Full HD+ Display   \n",
       "18         16.71 cm (6.58 inch) Full HD+ Display   \n",
       "19         17.25 cm (6.79 inch) Full HD+ Display   \n",
       "20          16.76 cm (6.6 inch) Full HD+ Display   \n",
       "21          16.76 cm (6.6 inch) Full HD+ Display   \n",
       "22         16.71 cm (6.58 inch) Full HD+ Display   \n",
       "23         16.71 cm (6.58 inch) Full HD+ Display   \n",
       "\n",
       "                                        Battery    Price  \n",
       "0                              5000 mAh Battery  ₹14,999  \n",
       "1                              6000 mAh Battery  ₹12,490  \n",
       "2   A15 Bionic Chip, 6 Core Processor Processor  ₹57,499  \n",
       "3   A15 Bionic Chip, 6 Core Processor Processor  ₹58,499  \n",
       "4   A15 Bionic Chip, 6 Core Processor Processor  ₹58,499  \n",
       "5   A15 Bionic Chip, 6 Core Processor Processor  ₹63,999  \n",
       "6                              6000 mAh Battery  ₹15,999  \n",
       "7                              6000 mAh Battery  ₹11,490  \n",
       "8                              5000 mAh Battery   ₹5,999  \n",
       "9                              5000 mAh Battery  ₹18,999  \n",
       "10                             6000 mAh Battery  ₹12,490  \n",
       "11                             5000 mAh Battery  ₹14,999  \n",
       "12                             5000 mAh Battery   ₹7,999  \n",
       "13                             5000 mAh Battery   ₹7,999  \n",
       "14                             5000 mAh Battery  ₹14,999  \n",
       "15                             5000 mAh Battery  ₹14,999  \n",
       "16                             5000 mAh Battery  ₹14,999  \n",
       "17                             5000 mAh Battery  ₹13,999  \n",
       "18                             5000 mAh Battery  ₹14,999  \n",
       "19                             5000 mAh Battery  ₹11,999  \n",
       "20                             6000 mAh Battery  ₹12,490  \n",
       "21                             6000 mAh Battery  ₹11,490  \n",
       "22                             5000 mAh Battery  ₹12,999  \n",
       "23                             5000 mAh Battery  ₹12,999  "
      ]
     },
     "execution_count": 37,
     "metadata": {},
     "output_type": "execute_result"
    }
   ],
   "source": [
    "FlipKart"
   ]
  },
  {
   "cell_type": "code",
   "execution_count": null,
   "id": "5732c7f4",
   "metadata": {},
   "outputs": [],
   "source": [
    "\n"
   ]
  },
  {
   "cell_type": "code",
   "execution_count": null,
   "id": "90c2d0dd",
   "metadata": {},
   "outputs": [],
   "source": []
  },
  {
   "cell_type": "markdown",
   "id": "474b23e9",
   "metadata": {},
   "source": [
    "# 5. Write a program to scrap geospatial coordinates (latitude, longitude) of a city searched on google maps. "
   ]
  },
  {
   "cell_type": "code",
   "execution_count": 44,
   "id": "588d64ca",
   "metadata": {},
   "outputs": [],
   "source": [
    "#getting driver\n",
    "driver=webdriver.Chrome()"
   ]
  },
  {
   "cell_type": "code",
   "execution_count": 45,
   "id": "82cd22f4",
   "metadata": {},
   "outputs": [],
   "source": [
    "#getting url\n",
    "driver.get('https://www.google.com/maps')\n",
    "time.sleep(2)"
   ]
  },
  {
   "cell_type": "code",
   "execution_count": 46,
   "id": "3ace0a16",
   "metadata": {},
   "outputs": [
    {
     "name": "stdout",
     "output_type": "stream",
     "text": [
      "Enter city nameMumbai\n"
     ]
    }
   ],
   "source": [
    "#searching city\n",
    "input1=input('Enter city name')\n",
    "city=driver.find_element(By.XPATH,'/html/body/div[3]/div[8]/div[3]/div[1]/div[1]/div/div[2]/form/input')\n",
    "city.send_keys(input1)"
   ]
  },
  {
   "cell_type": "code",
   "execution_count": 47,
   "id": "7c6f893f",
   "metadata": {},
   "outputs": [],
   "source": [
    "#clicking on search button\n",
    "search=driver.find_element(By.XPATH,'/html/body/div[3]/div[8]/div[3]/div[1]/div[1]/div/div[2]/div[1]/button')\n",
    "search.click()"
   ]
  },
  {
   "cell_type": "code",
   "execution_count": 48,
   "id": "85f216bb",
   "metadata": {},
   "outputs": [],
   "source": [
    "driver.maximize_window()"
   ]
  },
  {
   "cell_type": "code",
   "execution_count": 59,
   "id": "bc8b595c",
   "metadata": {},
   "outputs": [
    {
     "name": "stdout",
     "output_type": "stream",
     "text": [
      "url: https://www.google.com/maps/place/Mumbai,+Maharashtra/@19.082608,72.5521938,10z/data=!3m1!4b1!4m6!3m5!1s0x3be7c6306644edc1:0x5da4ed8f8d648c69!8m2!3d19.0759837!4d72.8776559!16zL20vMDR2bXA?entry=ttu\n"
     ]
    },
    {
     "data": {
      "text/plain": [
       "['19.082608,72.5521938,10z/']"
      ]
     },
     "execution_count": 59,
     "metadata": {},
     "output_type": "execute_result"
    }
   ],
   "source": [
    "string=driver.current_url\n",
    "print('url:',string)\n",
    "\n",
    "import re\n",
    "lat_long=re.findall(r'@(.*)data',string)\n",
    "lat_long\n"
   ]
  },
  {
   "cell_type": "code",
   "execution_count": 75,
   "id": "54305121",
   "metadata": {},
   "outputs": [
    {
     "data": {
      "text/plain": [
       "['19.082608', '72.5521938', '10z/']"
      ]
     },
     "execution_count": 75,
     "metadata": {},
     "output_type": "execute_result"
    }
   ],
   "source": [
    "list=lat_long[0].split(',')\n",
    "list"
   ]
  },
  {
   "cell_type": "code",
   "execution_count": 77,
   "id": "1d86700f",
   "metadata": {},
   "outputs": [
    {
     "name": "stdout",
     "output_type": "stream",
     "text": [
      "Latitude= 19.082608\n",
      "Longitude= 72.5521938\n"
     ]
    }
   ],
   "source": [
    "if len(list)>=2:\n",
    "    latitude=list[0]\n",
    "    longitude=list[1]\n",
    "    print('Latitude=',latitude)\n",
    "    print('Longitude=',longitude)\n",
    "else :\n",
    "    print('Exception raised')"
   ]
  },
  {
   "cell_type": "code",
   "execution_count": 79,
   "id": "02d70cfe",
   "metadata": {},
   "outputs": [],
   "source": [
    "driver.close()"
   ]
  },
  {
   "cell_type": "code",
   "execution_count": null,
   "id": "0134dc25",
   "metadata": {},
   "outputs": [],
   "source": []
  },
  {
   "cell_type": "markdown",
   "id": "7c1dc6e9",
   "metadata": {},
   "source": [
    "# 6. Write a program to scrap all the available details of best gaming laptops from digit.in. "
   ]
  },
  {
   "cell_type": "code",
   "execution_count": 96,
   "id": "1e1ef637",
   "metadata": {},
   "outputs": [],
   "source": [
    "#getting driver\n",
    "driver=webdriver.Chrome()"
   ]
  },
  {
   "cell_type": "code",
   "execution_count": 97,
   "id": "ba71713c",
   "metadata": {},
   "outputs": [],
   "source": [
    "#getting url\n",
    "driver.get('https://www.digit.in/')"
   ]
  },
  {
   "cell_type": "code",
   "execution_count": 98,
   "id": "158d96d8",
   "metadata": {},
   "outputs": [],
   "source": [
    "driver.maximize_window()"
   ]
  },
  {
   "cell_type": "code",
   "execution_count": 99,
   "id": "7cfe9d22",
   "metadata": {},
   "outputs": [],
   "source": [
    "#extrcting top 10s and clicking \n",
    "top10=driver.find_element(By.XPATH,'/html/body/div[4]/div/ul/li[4]/a')\n",
    "top10.click()"
   ]
  },
  {
   "cell_type": "code",
   "execution_count": 100,
   "id": "2c9d186a",
   "metadata": {},
   "outputs": [],
   "source": [
    "#extracting top10 best laptops\n",
    "laptop=driver.find_element(By.XPATH,'/html/body/div[1]/div[3]/div/div[2]/div[1]/div[3]/div[6]/p/a')\n",
    "laptop.click()"
   ]
  },
  {
   "cell_type": "code",
   "execution_count": 102,
   "id": "ed4cfe43",
   "metadata": {},
   "outputs": [],
   "source": [
    "brand_name=[]\n",
    "Operating_System=[]\n",
    "Display_Size =[]\n",
    "\n",
    "Resolution=[]\n",
    "\n",
    "Processor=[]"
   ]
  },
  {
   "cell_type": "code",
   "execution_count": 131,
   "id": "6e9db6b0",
   "metadata": {},
   "outputs": [
    {
     "name": "stdout",
     "output_type": "stream",
     "text": [
      "6 ['Apple MacBook Air 2022 M2 MLY03HN/A', 'Samsung Galaxy Book3 Pro 360', 'Lenovo Yoga 9i13th Gen Core i7-1360P', 'Apple MacBook Pro M2 (2023-MPHK3HN/A)', 'Dell XPS 13 Plus D560075WIN9S 12th Gen Core i7-1260P', 'Acer Swift X SFX16-51G 11th Gen Core i7-11390H']\n"
     ]
    }
   ],
   "source": [
    "#extracting Brand name\n",
    "bdt=driver.find_elements(By.XPATH,'//h3[@class=\"font130 mt0 mb10 mobilesblockdisplay \"]/a')\n",
    "\n",
    "for i in bdt:\n",
    "    if i.text is None:\n",
    "        brand_name.append('--')\n",
    "    else:\n",
    "        brand_name.append(i.text)\n",
    "        \n",
    "print(len(brand_name),brand_name)"
   ]
  },
  {
   "cell_type": "code",
   "execution_count": 114,
   "id": "3ad74a55",
   "metadata": {},
   "outputs": [
    {
     "name": "stdout",
     "output_type": "stream",
     "text": [
      "6 ['Operating System:\\niOS', '', 'Operating System:\\nWindows 11 Home', 'Operating System:\\nMac', 'Operating System:\\nWindows 11', 'Operating System:\\nWindows 11 Home']\n"
     ]
    }
   ],
   "source": [
    "#extracting OS:\n",
    "ost=driver.find_elements(By.XPATH,'//div[@class=\"woo_code_zone_loop clearbox\"]/div[1]')\n",
    "\n",
    "for i in ost:\n",
    "    if i.text is None:\n",
    "        Operating_System.append('--')\n",
    "    else:\n",
    "        Operating_System.append(i.text)\n",
    "        \n",
    "print(len(Operating_System),Operating_System)"
   ]
  },
  {
   "cell_type": "code",
   "execution_count": 121,
   "id": "40e046fe",
   "metadata": {},
   "outputs": [
    {
     "name": "stdout",
     "output_type": "stream",
     "text": [
      "6 ['Display Size :\\n13.6', '', 'Display Size :\\n14', 'Display Size :\\n14.2', 'Display Size :\\n13.4', 'Display Size :\\n16']\n"
     ]
    }
   ],
   "source": [
    "#extracting Display size\n",
    "ds=driver.find_elements(By.XPATH,'//div[@class=\"woo_code_zone_loop clearbox\"]/div[2]')\n",
    "\n",
    "for i in ds:\n",
    "    if i.text is None:\n",
    "        Display_Size.append('-')\n",
    "    else:\n",
    "        Display_Size.append(i.text)\n",
    "        \n",
    "print(len(Display_Size),Display_Size)"
   ]
  },
  {
   "cell_type": "code",
   "execution_count": 122,
   "id": "f4e88126",
   "metadata": {},
   "outputs": [
    {
     "name": "stdout",
     "output_type": "stream",
     "text": [
      "6 ['Resolution :\\n2560 x 1600', '', 'Resolution :\\n2880 x 1800', '', 'Resolution :\\n3840 x 2400', 'Resolution :\\n1920 x 1080']\n"
     ]
    }
   ],
   "source": [
    "#extracting Resolution\n",
    "re=driver.find_elements(By.XPATH,'//div[@class=\"woo_code_zone_loop clearbox\"]/div[3]')\n",
    "\n",
    "for i in re:\n",
    "    if i.text is None:\n",
    "        Resolution.append('--')\n",
    "    else:\n",
    "        Resolution.append(i.text)\n",
    "        \n",
    "print(len(Resolution),Resolution)"
   ]
  },
  {
   "cell_type": "code",
   "execution_count": 123,
   "id": "87b3cc61",
   "metadata": {},
   "outputs": [
    {
     "name": "stdout",
     "output_type": "stream",
     "text": [
      "6 ['Processor :\\nApple M2', '', 'Processor :\\n13th Gen Intel Core i7-1360P', '', 'Processor :\\n12th Gen Intel EVO Core i7-1260P', 'Processor :\\n11th Gen Intel Core i7-11390H']\n"
     ]
    }
   ],
   "source": [
    "#extracting processor\n",
    "alltag=driver.find_elements(By.XPATH,'//div[@class=\"woo_code_zone_loop clearbox\"]/div[4]')\n",
    "for i in alltag:\n",
    "    if i.text is None:\n",
    "        Processor.append(\"-\")\n",
    "    else:\n",
    "        Processor.append(i.text)\n",
    "    \n",
    "print(len(Processor),Processor)"
   ]
  },
  {
   "cell_type": "code",
   "execution_count": 132,
   "id": "0a21e8ea",
   "metadata": {},
   "outputs": [],
   "source": [
    "#making dataframe\n",
    "laptops=pd.DataFrame([])\n",
    "laptops['Name']=brand_name\n",
    "laptops['Display_Size']=Display_Size\n",
    "laptops['Operation_System']=Operating_System\n",
    "laptops['Resolution']=Resolution\n",
    "laptops['Processor']=Processor"
   ]
  },
  {
   "cell_type": "code",
   "execution_count": 133,
   "id": "f74e0dc6",
   "metadata": {},
   "outputs": [
    {
     "data": {
      "text/html": [
       "<div>\n",
       "<style scoped>\n",
       "    .dataframe tbody tr th:only-of-type {\n",
       "        vertical-align: middle;\n",
       "    }\n",
       "\n",
       "    .dataframe tbody tr th {\n",
       "        vertical-align: top;\n",
       "    }\n",
       "\n",
       "    .dataframe thead th {\n",
       "        text-align: right;\n",
       "    }\n",
       "</style>\n",
       "<table border=\"1\" class=\"dataframe\">\n",
       "  <thead>\n",
       "    <tr style=\"text-align: right;\">\n",
       "      <th></th>\n",
       "      <th>Name</th>\n",
       "      <th>Display_Size</th>\n",
       "      <th>Operation_System</th>\n",
       "      <th>Resolution</th>\n",
       "      <th>Processor</th>\n",
       "    </tr>\n",
       "  </thead>\n",
       "  <tbody>\n",
       "    <tr>\n",
       "      <th>0</th>\n",
       "      <td>Apple MacBook Air 2022 M2 MLY03HN/A</td>\n",
       "      <td>Display Size :\\n13.6</td>\n",
       "      <td>Operating System:\\niOS</td>\n",
       "      <td>Resolution :\\n2560 x 1600</td>\n",
       "      <td>Processor :\\nApple M2</td>\n",
       "    </tr>\n",
       "    <tr>\n",
       "      <th>1</th>\n",
       "      <td>Samsung Galaxy Book3 Pro 360</td>\n",
       "      <td></td>\n",
       "      <td></td>\n",
       "      <td></td>\n",
       "      <td></td>\n",
       "    </tr>\n",
       "    <tr>\n",
       "      <th>2</th>\n",
       "      <td>Lenovo Yoga 9i13th Gen Core i7-1360P</td>\n",
       "      <td>Display Size :\\n14</td>\n",
       "      <td>Operating System:\\nWindows 11 Home</td>\n",
       "      <td>Resolution :\\n2880 x 1800</td>\n",
       "      <td>Processor :\\n13th Gen Intel Core i7-1360P</td>\n",
       "    </tr>\n",
       "    <tr>\n",
       "      <th>3</th>\n",
       "      <td>Apple MacBook Pro M2 (2023-MPHK3HN/A)</td>\n",
       "      <td>Display Size :\\n14.2</td>\n",
       "      <td>Operating System:\\nMac</td>\n",
       "      <td></td>\n",
       "      <td></td>\n",
       "    </tr>\n",
       "    <tr>\n",
       "      <th>4</th>\n",
       "      <td>Dell XPS 13 Plus D560075WIN9S 12th Gen Core i7...</td>\n",
       "      <td>Display Size :\\n13.4</td>\n",
       "      <td>Operating System:\\nWindows 11</td>\n",
       "      <td>Resolution :\\n3840 x 2400</td>\n",
       "      <td>Processor :\\n12th Gen Intel EVO Core i7-1260P</td>\n",
       "    </tr>\n",
       "    <tr>\n",
       "      <th>5</th>\n",
       "      <td>Acer Swift X SFX16-51G 11th Gen Core i7-11390H</td>\n",
       "      <td>Display Size :\\n16</td>\n",
       "      <td>Operating System:\\nWindows 11 Home</td>\n",
       "      <td>Resolution :\\n1920 x 1080</td>\n",
       "      <td>Processor :\\n11th Gen Intel Core i7-11390H</td>\n",
       "    </tr>\n",
       "  </tbody>\n",
       "</table>\n",
       "</div>"
      ],
      "text/plain": [
       "                                                Name          Display_Size  \\\n",
       "0                Apple MacBook Air 2022 M2 MLY03HN/A  Display Size :\\n13.6   \n",
       "1                       Samsung Galaxy Book3 Pro 360                         \n",
       "2               Lenovo Yoga 9i13th Gen Core i7-1360P    Display Size :\\n14   \n",
       "3              Apple MacBook Pro M2 (2023-MPHK3HN/A)  Display Size :\\n14.2   \n",
       "4  Dell XPS 13 Plus D560075WIN9S 12th Gen Core i7...  Display Size :\\n13.4   \n",
       "5     Acer Swift X SFX16-51G 11th Gen Core i7-11390H    Display Size :\\n16   \n",
       "\n",
       "                     Operation_System                 Resolution  \\\n",
       "0              Operating System:\\niOS  Resolution :\\n2560 x 1600   \n",
       "1                                                                  \n",
       "2  Operating System:\\nWindows 11 Home  Resolution :\\n2880 x 1800   \n",
       "3              Operating System:\\nMac                              \n",
       "4       Operating System:\\nWindows 11  Resolution :\\n3840 x 2400   \n",
       "5  Operating System:\\nWindows 11 Home  Resolution :\\n1920 x 1080   \n",
       "\n",
       "                                       Processor  \n",
       "0                          Processor :\\nApple M2  \n",
       "1                                                 \n",
       "2      Processor :\\n13th Gen Intel Core i7-1360P  \n",
       "3                                                 \n",
       "4  Processor :\\n12th Gen Intel EVO Core i7-1260P  \n",
       "5     Processor :\\n11th Gen Intel Core i7-11390H  "
      ]
     },
     "execution_count": 133,
     "metadata": {},
     "output_type": "execute_result"
    }
   ],
   "source": [
    "laptops"
   ]
  },
  {
   "cell_type": "code",
   "execution_count": null,
   "id": "cd25a9a3",
   "metadata": {},
   "outputs": [],
   "source": []
  },
  {
   "cell_type": "markdown",
   "id": "0b4c4198",
   "metadata": {},
   "source": [
    "# 7. Write a python program to scrape the details for all billionaires from www.forbes.com. Details to be scrapped: \n",
    "“Rank”, “Name”, “Net worth”, “Age”, “Citizenship”, “Source”, “Industry”. "
   ]
  },
  {
   "cell_type": "code",
   "execution_count": 18,
   "id": "80dd78ee",
   "metadata": {},
   "outputs": [],
   "source": [
    "#getting driver\n",
    "driver=webdriver.Chrome()"
   ]
  },
  {
   "cell_type": "code",
   "execution_count": 19,
   "id": "8c73a09f",
   "metadata": {},
   "outputs": [],
   "source": [
    "#getting url\n",
    "driver.get('http://www.forbes.com/')"
   ]
  },
  {
   "cell_type": "code",
   "execution_count": 20,
   "id": "349af731",
   "metadata": {},
   "outputs": [],
   "source": [
    "#finding all billionaries\n",
    "billionaries=driver.find_element(By.XPATH,'/html/body/div[1]/header/nav/div[1]/div[1]/div/div[2]/ul/li[2]/div[1]')\n",
    "billionaries.click()"
   ]
  },
  {
   "cell_type": "code",
   "execution_count": 21,
   "id": "092eafe8",
   "metadata": {},
   "outputs": [],
   "source": [
    "#world billionaries scrapping \n",
    "worldb=driver.find_element(By.XPATH,'/html/body/div[1]/div/main/div/section/div[2]/div/div/div[1]/div/div[2]/div/div/a')\n",
    "worldb.click()"
   ]
  },
  {
   "cell_type": "code",
   "execution_count": 22,
   "id": "d7a73d97",
   "metadata": {},
   "outputs": [],
   "source": [
    "#extracting rank\n",
    "rank=[]\n",
    "ranktag=driver.find_elements(By.XPATH,'//div[@class=\"Table_rank___YBhk Table_dataCell__2QCve\"]')\n",
    "for i in ranktag:\n",
    "    rank.append(i.text)"
   ]
  },
  {
   "cell_type": "code",
   "execution_count": 23,
   "id": "338e331a",
   "metadata": {},
   "outputs": [
    {
     "name": "stdout",
     "output_type": "stream",
     "text": [
      "200\n"
     ]
    }
   ],
   "source": [
    "print(len(rank))"
   ]
  },
  {
   "cell_type": "code",
   "execution_count": 24,
   "id": "720732ba",
   "metadata": {},
   "outputs": [
    {
     "data": {
      "text/plain": [
       "['1',\n",
       " '2',\n",
       " '3',\n",
       " '4',\n",
       " '5',\n",
       " '6',\n",
       " '7',\n",
       " '8',\n",
       " '9',\n",
       " '10',\n",
       " '11',\n",
       " '12',\n",
       " '13',\n",
       " '14',\n",
       " '15',\n",
       " '16',\n",
       " '17',\n",
       " '17',\n",
       " '19',\n",
       " '20',\n",
       " '21',\n",
       " '22',\n",
       " '23',\n",
       " '24',\n",
       " '25',\n",
       " '26',\n",
       " '27',\n",
       " '28',\n",
       " '29',\n",
       " '30',\n",
       " '31',\n",
       " '31',\n",
       " '33',\n",
       " '34',\n",
       " '35',\n",
       " '35',\n",
       " '37',\n",
       " '38',\n",
       " '39',\n",
       " '40',\n",
       " '41',\n",
       " '41',\n",
       " '43',\n",
       " '43',\n",
       " '45',\n",
       " '46',\n",
       " '47',\n",
       " '48',\n",
       " '49',\n",
       " '50',\n",
       " '51',\n",
       " '52',\n",
       " '53',\n",
       " '54',\n",
       " '55',\n",
       " '56',\n",
       " '57',\n",
       " '58',\n",
       " '59',\n",
       " '60',\n",
       " '61',\n",
       " '62',\n",
       " '63',\n",
       " '64',\n",
       " '65',\n",
       " '65',\n",
       " '67',\n",
       " '68',\n",
       " '69',\n",
       " '70',\n",
       " '71',\n",
       " '72',\n",
       " '72',\n",
       " '74',\n",
       " '74',\n",
       " '76',\n",
       " '77',\n",
       " '77',\n",
       " '79',\n",
       " '80',\n",
       " '81',\n",
       " '82',\n",
       " '83',\n",
       " '84',\n",
       " '84',\n",
       " '86',\n",
       " '86',\n",
       " '88',\n",
       " '89',\n",
       " '89',\n",
       " '89',\n",
       " '92',\n",
       " '93',\n",
       " '94',\n",
       " '94',\n",
       " '94',\n",
       " '97',\n",
       " '97',\n",
       " '99',\n",
       " '100',\n",
       " '101',\n",
       " '101',\n",
       " '103',\n",
       " '104',\n",
       " '104',\n",
       " '106',\n",
       " '107',\n",
       " '108',\n",
       " '108',\n",
       " '108',\n",
       " '108',\n",
       " '112',\n",
       " '113',\n",
       " '114',\n",
       " '115',\n",
       " '116',\n",
       " '116',\n",
       " '118',\n",
       " '119',\n",
       " '120',\n",
       " '121',\n",
       " '122',\n",
       " '123',\n",
       " '124',\n",
       " '124',\n",
       " '126',\n",
       " '127',\n",
       " '128',\n",
       " '128',\n",
       " '130',\n",
       " '130',\n",
       " '130',\n",
       " '133',\n",
       " '133',\n",
       " '133',\n",
       " '136',\n",
       " '137',\n",
       " '138',\n",
       " '138',\n",
       " '140',\n",
       " '141',\n",
       " '142',\n",
       " '142',\n",
       " '144',\n",
       " '145',\n",
       " '146',\n",
       " '147',\n",
       " '148',\n",
       " '148',\n",
       " '148',\n",
       " '151',\n",
       " '151',\n",
       " '153',\n",
       " '153',\n",
       " '153',\n",
       " '153',\n",
       " '157',\n",
       " '157',\n",
       " '159',\n",
       " '159',\n",
       " '161',\n",
       " '161',\n",
       " '161',\n",
       " '164',\n",
       " '165',\n",
       " '165',\n",
       " '167',\n",
       " '167',\n",
       " '167',\n",
       " '170',\n",
       " '171',\n",
       " '171',\n",
       " '171',\n",
       " '171',\n",
       " '171',\n",
       " '171',\n",
       " '171',\n",
       " '171',\n",
       " '179',\n",
       " '179',\n",
       " '179',\n",
       " '182',\n",
       " '183',\n",
       " '184',\n",
       " '184',\n",
       " '184',\n",
       " '184',\n",
       " '184',\n",
       " '184',\n",
       " '190',\n",
       " '190',\n",
       " '190',\n",
       " '190',\n",
       " '190',\n",
       " '195',\n",
       " '195',\n",
       " '195',\n",
       " '195',\n",
       " '195',\n",
       " '195']"
      ]
     },
     "execution_count": 24,
     "metadata": {},
     "output_type": "execute_result"
    }
   ],
   "source": [
    "rank"
   ]
  },
  {
   "cell_type": "code",
   "execution_count": 56,
   "id": "d8ab83f9",
   "metadata": {},
   "outputs": [],
   "source": [
    "#extracting names\n",
    "name=[]\n",
    "nametag=driver.find_elements(By.XPATH,'//div[@class=\"TableRow_row__L-0Km\"]/div[2]/div')\n",
    "for j in nametag:\n",
    "    name.append(j.text)"
   ]
  },
  {
   "cell_type": "code",
   "execution_count": 57,
   "id": "11991a85",
   "metadata": {},
   "outputs": [
    {
     "name": "stdout",
     "output_type": "stream",
     "text": [
      "199\n"
     ]
    }
   ],
   "source": [
    "print(len(name))"
   ]
  },
  {
   "cell_type": "code",
   "execution_count": 58,
   "id": "b4be0d09",
   "metadata": {},
   "outputs": [],
   "source": [
    "nt=driver.find_element(By.XPATH,'/html/body/div[1]/div[2]/div[3]/div[2]/div[2]/div[2]/div[1]/div[1]/div[1]/div[2]/div[1]/div[1]/div[2]/div')\n",
    "name.insert(0,nt.text)"
   ]
  },
  {
   "cell_type": "code",
   "execution_count": 34,
   "id": "f69678aa",
   "metadata": {},
   "outputs": [],
   "source": [
    "#extracting networth\n",
    "nw=[]\n",
    "nwtag=driver.find_elements(By.XPATH,'//div[@class=\"TableRow_row__L-0Km\"]/div[3]/div')\n",
    "for k in nwtag:\n",
    "    nw.append(k.text)"
   ]
  },
  {
   "cell_type": "code",
   "execution_count": 35,
   "id": "645ed4fa",
   "metadata": {},
   "outputs": [
    {
     "name": "stdout",
     "output_type": "stream",
     "text": [
      "199\n"
     ]
    }
   ],
   "source": [
    "print(len(nw))"
   ]
  },
  {
   "cell_type": "code",
   "execution_count": 36,
   "id": "c7fa4795",
   "metadata": {},
   "outputs": [],
   "source": [
    "#exyracing 1st row data\n",
    "nwt=driver.find_element(By.XPATH,'/html/body/div[1]/div[2]/div[3]/div[2]/div[2]/div[2]/div[1]/div[1]/div[1]/div[2]/div[1]/div[1]/div[3]/div')\n",
    "nw.insert(0,nwt.text)"
   ]
  },
  {
   "cell_type": "code",
   "execution_count": 37,
   "id": "1ad67035",
   "metadata": {},
   "outputs": [
    {
     "data": {
      "text/plain": [
       "['$211 B',\n",
       " '$180 B',\n",
       " '$114 B',\n",
       " '$107 B',\n",
       " '$106 B',\n",
       " '$104 B',\n",
       " '$94.5 B',\n",
       " '$93 B',\n",
       " '$83.4 B',\n",
       " '$80.7 B',\n",
       " '$80.5 B',\n",
       " '$79.2 B',\n",
       " '$77.3 B',\n",
       " '$76 B',\n",
       " '$68 B',\n",
       " '$64.4 B',\n",
       " '$59 B',\n",
       " '$59 B',\n",
       " '$58.8 B',\n",
       " '$57.6 B',\n",
       " '$56.7 B',\n",
       " '$54.4 B',\n",
       " '$50.1 B',\n",
       " '$47.2 B',\n",
       " '$45.1 B',\n",
       " '$45 B',\n",
       " '$42.9 B',\n",
       " '$40.1 B',\n",
       " '$39.1 B',\n",
       " '$38.9 B',\n",
       " '$38.3 B',\n",
       " '$38.3 B',\n",
       " '$38 B',\n",
       " '$35.3 B',\n",
       " '$35 B',\n",
       " '$35 B',\n",
       " '$34.7 B',\n",
       " '$33.4 B',\n",
       " '$32.6 B',\n",
       " '$32.1 B',\n",
       " '$31.6 B',\n",
       " '$31.6 B',\n",
       " '$31.2 B',\n",
       " '$31.2 B',\n",
       " '$30.2 B',\n",
       " '$29.7 B',\n",
       " '$29.5 B',\n",
       " '$28.5 B',\n",
       " '$28.1 B',\n",
       " '$27.8 B',\n",
       " '$27.4 B',\n",
       " '$27 B',\n",
       " '$26.7 B',\n",
       " '$26.6 B',\n",
       " '$25.6 B',\n",
       " '$25.5 B',\n",
       " '$25.3 B',\n",
       " '$25.2 B',\n",
       " '$24.6 B',\n",
       " '$24.4 B',\n",
       " '$24.2 B',\n",
       " '$23.7 B',\n",
       " '$23.5 B',\n",
       " '$23.4 B',\n",
       " '$23.1 B',\n",
       " '$23.1 B',\n",
       " '$22.9 B',\n",
       " '$22.6 B',\n",
       " '$22.4 B',\n",
       " '$22.1 B',\n",
       " '$22 B',\n",
       " '$21.6 B',\n",
       " '$21.6 B',\n",
       " '$21.2 B',\n",
       " '$21.2 B',\n",
       " '$21.1 B',\n",
       " '$21 B',\n",
       " '$21 B',\n",
       " '$20.9 B',\n",
       " '$20.5 B',\n",
       " '$20.2 B',\n",
       " '$19.6 B',\n",
       " '$19.1 B',\n",
       " '$19 B',\n",
       " '$19 B',\n",
       " '$18.9 B',\n",
       " '$18.9 B',\n",
       " '$18.7 B',\n",
       " '$18.5 B',\n",
       " '$18.5 B',\n",
       " '$18.5 B',\n",
       " '$18 B',\n",
       " '$17.7 B',\n",
       " '$17.5 B',\n",
       " '$17.5 B',\n",
       " '$17.5 B',\n",
       " '$17.4 B',\n",
       " '$17.4 B',\n",
       " '$17.1 B',\n",
       " '$16.7 B',\n",
       " '$16.5 B',\n",
       " '$16.5 B',\n",
       " '$16.3 B',\n",
       " '$16.2 B',\n",
       " '$16.2 B',\n",
       " '$16 B',\n",
       " '$15.9 B',\n",
       " '$15.8 B',\n",
       " '$15.8 B',\n",
       " '$15.8 B',\n",
       " '$15.8 B',\n",
       " '$15.6 B',\n",
       " '$15.5 B',\n",
       " '$15.3 B',\n",
       " '$15.2 B',\n",
       " '$14.9 B',\n",
       " '$14.9 B',\n",
       " '$14.8 B',\n",
       " '$14.7 B',\n",
       " '$14.6 B',\n",
       " '$14.5 B',\n",
       " '$14.4 B',\n",
       " '$14.3 B',\n",
       " '$14.2 B',\n",
       " '$14.2 B',\n",
       " '$14.1 B',\n",
       " '$14 B',\n",
       " '$13.9 B',\n",
       " '$13.9 B',\n",
       " '$13.7 B',\n",
       " '$13.7 B',\n",
       " '$13.7 B',\n",
       " '$13.3 B',\n",
       " '$13.3 B',\n",
       " '$13.3 B',\n",
       " '$13.2 B',\n",
       " '$13.1 B',\n",
       " '$12.9 B',\n",
       " '$12.9 B',\n",
       " '$12.6 B',\n",
       " '$12.3 B',\n",
       " '$12.2 B',\n",
       " '$12.2 B',\n",
       " '$12.1 B',\n",
       " '$12 B',\n",
       " '$11.8 B',\n",
       " '$11.6 B',\n",
       " '$11.5 B',\n",
       " '$11.5 B',\n",
       " '$11.5 B',\n",
       " '$11.4 B',\n",
       " '$11.4 B',\n",
       " '$11.3 B',\n",
       " '$11.3 B',\n",
       " '$11.3 B',\n",
       " '$11.3 B',\n",
       " '$11.1 B',\n",
       " '$11.1 B',\n",
       " '$11 B',\n",
       " '$11 B',\n",
       " '$10.9 B',\n",
       " '$10.9 B',\n",
       " '$10.9 B',\n",
       " '$10.7 B',\n",
       " '$10.6 B',\n",
       " '$10.6 B',\n",
       " '$10.5 B',\n",
       " '$10.5 B',\n",
       " '$10.5 B',\n",
       " '$10.3 B',\n",
       " '$10.2 B',\n",
       " '$10.2 B',\n",
       " '$10.2 B',\n",
       " '$10.2 B',\n",
       " '$10.2 B',\n",
       " '$10.2 B',\n",
       " '$10.2 B',\n",
       " '$10.2 B',\n",
       " '$10.1 B',\n",
       " '$10.1 B',\n",
       " '$10.1 B',\n",
       " '$10 B',\n",
       " '$9.9 B',\n",
       " '$9.8 B',\n",
       " '$9.8 B',\n",
       " '$9.8 B',\n",
       " '$9.8 B',\n",
       " '$9.8 B',\n",
       " '$9.8 B',\n",
       " '$9.7 B',\n",
       " '$9.7 B',\n",
       " '$9.7 B',\n",
       " '$9.7 B',\n",
       " '$9.7 B',\n",
       " '$9.6 B',\n",
       " '$9.6 B',\n",
       " '$9.6 B',\n",
       " '$9.6 B',\n",
       " '$9.6 B',\n",
       " '$9.6 B']"
      ]
     },
     "execution_count": 37,
     "metadata": {},
     "output_type": "execute_result"
    }
   ],
   "source": [
    "nw"
   ]
  },
  {
   "cell_type": "code",
   "execution_count": 38,
   "id": "6ff1489a",
   "metadata": {},
   "outputs": [],
   "source": [
    "#extracting AGE\n",
    "age=[]\n",
    "agetag=driver.find_elements(By.XPATH,'//div[@class=\"TableRow_row__L-0Km\"]/div[4]/div')\n",
    "for i in agetag:\n",
    "    age.append(i.text)"
   ]
  },
  {
   "cell_type": "code",
   "execution_count": 39,
   "id": "ca4d69ed",
   "metadata": {},
   "outputs": [
    {
     "name": "stdout",
     "output_type": "stream",
     "text": [
      "199 ['51', '59', '78', '92', '67', '81', '83', '65', '67', '69', '50', '87', '49', '68', '38', '87', '60', '74', '78', '73', '65', '58', '60', '85', '39', '83', '86', '85', '58', '83', '87', '94', '51', '77', '54', '30', '54', '74', '65', '74', '72', '82', '78', '43', '87', '95', '64', '84', '76', '60', '69', '51', '69', '77', '74', '78', '51', '56', '52', '82', '62', '58', '80', '80', '83', '70', '81', '65', '66', '52', '61', '67', '36', '52', '60', '90', '77', '57', '72', '84', '61', '73', '59', '55', '72', '57', '57', '77', '65', '70', '61', '72', '66', '87', '73', '90', '83', '92', '70', '72', '55', '72', '75', '67', '55', '67', 'N/A', 'N/A', '83', '76', '67', '45', '68', '56', '83', '81', '78', '68', '60', '59', '69', '95', '55', '65', '93', '67', '57', '94', '78', '76', '47', '80', '80', '71', '60', '90', '64', '75', '58', '57', '50', '69', '72', '59', '99', '82', '38', '73', '73', '59', '50', '74', '69', '62', '57', '88', '72', '58', '51', '83', '85', '67', '93', '81', '73', '57', '39', '45', '70', '43', '60', '82', '64', '74', '41', '58', '74', '43', '81', '59', '85', '74', '74', '80', '51', '53', '55', '75', '63', '59', '53', '76', '64', '70', '70', '67', '58', '62', '64']\n"
     ]
    }
   ],
   "source": [
    "print(len(age),age)"
   ]
  },
  {
   "cell_type": "code",
   "execution_count": 40,
   "id": "e44bb4d7",
   "metadata": {},
   "outputs": [],
   "source": [
    "ag=driver.find_element(By.XPATH,'/html/body/div[1]/div[2]/div[3]/div[2]/div[2]/div[2]/div[1]/div[1]/div[1]/div[2]/div[1]/div[1]/div[4]/div')\n",
    "age.insert(0,ag.text)"
   ]
  },
  {
   "cell_type": "code",
   "execution_count": 41,
   "id": "505e88b7",
   "metadata": {},
   "outputs": [
    {
     "name": "stdout",
     "output_type": "stream",
     "text": [
      "200 ['74', '51', '59', '78', '92', '67', '81', '83', '65', '67', '69', '50', '87', '49', '68', '38', '87', '60', '74', '78', '73', '65', '58', '60', '85', '39', '83', '86', '85', '58', '83', '87', '94', '51', '77', '54', '30', '54', '74', '65', '74', '72', '82', '78', '43', '87', '95', '64', '84', '76', '60', '69', '51', '69', '77', '74', '78', '51', '56', '52', '82', '62', '58', '80', '80', '83', '70', '81', '65', '66', '52', '61', '67', '36', '52', '60', '90', '77', '57', '72', '84', '61', '73', '59', '55', '72', '57', '57', '77', '65', '70', '61', '72', '66', '87', '73', '90', '83', '92', '70', '72', '55', '72', '75', '67', '55', '67', 'N/A', 'N/A', '83', '76', '67', '45', '68', '56', '83', '81', '78', '68', '60', '59', '69', '95', '55', '65', '93', '67', '57', '94', '78', '76', '47', '80', '80', '71', '60', '90', '64', '75', '58', '57', '50', '69', '72', '59', '99', '82', '38', '73', '73', '59', '50', '74', '69', '62', '57', '88', '72', '58', '51', '83', '85', '67', '93', '81', '73', '57', '39', '45', '70', '43', '60', '82', '64', '74', '41', '58', '74', '43', '81', '59', '85', '74', '74', '80', '51', '53', '55', '75', '63', '59', '53', '76', '64', '70', '70', '67', '58', '62', '64']\n"
     ]
    }
   ],
   "source": [
    "print(len(age),age)"
   ]
  },
  {
   "cell_type": "code",
   "execution_count": null,
   "id": "da24a219",
   "metadata": {},
   "outputs": [],
   "source": []
  },
  {
   "cell_type": "code",
   "execution_count": 43,
   "id": "62053029",
   "metadata": {},
   "outputs": [],
   "source": [
    "#extracting source\n",
    "source=[]\n",
    "st=driver.find_elements(By.XPATH,'//div[@class=\"TableRow_row__L-0Km\"]/div[6]/div')\n",
    "for c in st:\n",
    "    source.append(c.text)"
   ]
  },
  {
   "cell_type": "code",
   "execution_count": 44,
   "id": "c0e99221",
   "metadata": {},
   "outputs": [
    {
     "name": "stdout",
     "output_type": "stream",
     "text": [
      "199 ['Tesla, SpaceX', 'Amazon', 'Oracle', 'Berkshire Hathaway', 'Microsoft', 'Bloomberg LP', 'Telecom', 'Diversified', 'Microsoft', \"L'Oréal\", 'Google', 'Zara', 'Google', 'Beverages, pharmaceuticals', 'Facebook', 'Koch Industries', 'Koch Industries', 'Walmart', 'Walmart', 'Walmart', 'Media', 'Dell Technologies', 'Infrastructure, commodities', 'Nike', 'TikTok', 'Retail', 'Luxury goods', 'Shipping', 'Nutella, chocolates', 'Candy, pet food', 'Candy, pet food', 'Diversified', 'Internet media', 'Casinos', 'Hedge funds', 'Red Bull', 'Batteries', 'Fashion retail', 'Music, chemicals', 'Chanel', 'Chanel', 'Shipping', 'Shipping', 'E-commerce', 'Fasteners', 'Real estate', 'Trading, investments', 'Hedge funds', 'Investments', 'BMW, pharmaceuticals', 'Mining', 'Online games', 'Mining', 'software services', 'Coal', 'Discount brokerage', 'Fertilizers, coal', 'BMW', 'Amazon', 'Banking, tobacco', 'Metals', 'E-commerce', 'Home appliances', 'Mining', 'Banking, tobacco', 'Chemicals', 'Vaccines', 'Internet, telecom', 'Steel, transport', 'Cheese', 'Fidelity', 'Gas, chemicals', 'Walmart', 'Package delivery', 'Semiconductors', 'Estee Lauder', 'Sensors', 'Steel, investments', 'Oil', 'Hospitals', 'Mining', 'Hedge funds', 'Automobiles', 'Mining, copper products', 'Real estate, shipping', 'Pig breeding', 'Batteries, automobiles', 'Oil & gas', 'Hedge funds', 'Oil, gas', 'Quicken Loans', 'Steel', 'Hedge funds', 'Investments', 'Steel', 'Real estate', 'Home improvement stores', 'Newspapers, TV network', 'Banking', \"Aldi, Trader Joe's\", 'Finance, telecommunications', 'medical devices', 'H&M', 'Google', 'Hedge funds', 'Soy sauce', 'Supermarkets', 'Supermarkets', 'Beer', 'Real estate', 'Pharmaceuticals', 'Wireless networking', 'Retail, investments', 'Batteries', 'Diversified', 'Retail', 'Alcohol, real estate', 'Heineken', 'Medical devices', 'Automobiles', 'Steel, telecom, investments', 'Paints', 'Commodities', 'Cement, sugar', 'Real estate', 'Shipping', 'Hospitals', 'Casinos/hotels', 'Shipping', 'Building supplies', 'WhatsApp', 'Dallas Cowboys', 'Oil & gas, banking', 'Real estate', 'Automobiles, batteries', 'Real estate', 'Banking', 'Sports, real estate', 'Oil, banking, telecom', 'Energy', 'Coal', 'Vaccines', 'Auto parts', 'Apple, Disney', 'Palm oil, shipping, property', 'Real estate', 'Messaging app', 'Pharmaceuticals', 'Pharmaceuticals', 'Agribusiness', 'Online retail', 'Hedge funds', 'Fertilizer, real estate', 'Manufacturing', 'Investments', 'Luxury goods', 'Luxury goods', 'Video surveillance', 'Internet media', 'Energy, sports, entertainment', 'Gas stations', 'Retail, media', 'Media', 'Manufacturing, New England Patriots', 'Beer', 'Gold', 'E-commerce', 'Cryptocurrency exchange', 'Banks, real estate', 'Software', 'Medical devices', 'Business software', 'Oil', 'Steel', 'Facebook', 'Auto parts', 'Walmart', 'Software', 'Banking, property', 'Real estate', 'Oil', 'Diversified', 'Infrastructure, commodities', 'Hermes', 'Shipping', 'Shipping', 'Shipping', 'Investments', 'Fertilizers', 'Private equity', 'Smartphones', 'Manufacturing', 'Pharmaceuticals', 'Warehouse automation', 'Solar panels', 'Chemicals', 'Candy, pet food', 'Candy, pet food', 'Candy, pet food']\n"
     ]
    }
   ],
   "source": [
    "print(len(source),source)"
   ]
  },
  {
   "cell_type": "code",
   "execution_count": 45,
   "id": "32d86fbc",
   "metadata": {},
   "outputs": [],
   "source": [
    "s=driver.find_element(By.XPATH,'/html/body/div[1]/div[2]/div[3]/div[2]/div[2]/div[2]/div[1]/div[1]/div[1]/div[2]/div[1]/div[1]/div[6]/div/span')\n",
    "source.insert(0,s.text)"
   ]
  },
  {
   "cell_type": "code",
   "execution_count": 46,
   "id": "57a047d5",
   "metadata": {},
   "outputs": [
    {
     "name": "stdout",
     "output_type": "stream",
     "text": [
      "200\n"
     ]
    }
   ],
   "source": [
    "print(len(source))"
   ]
  },
  {
   "cell_type": "code",
   "execution_count": 47,
   "id": "f77357a6",
   "metadata": {},
   "outputs": [],
   "source": [
    "#extracting industry\n",
    "industry=[]\n",
    "intag=driver.find_elements(By.XPATH,'//div[@class=\"TableRow_row__L-0Km\"]/div[7]/div')\n",
    "for i in intag:\n",
    "    industry.append(i.text)"
   ]
  },
  {
   "cell_type": "code",
   "execution_count": 48,
   "id": "d076ec1b",
   "metadata": {},
   "outputs": [],
   "source": [
    "i=driver.find_element(By.XPATH,'/html/body/div[1]/div[2]/div[3]/div[2]/div[2]/div[2]/div[1]/div[1]/div[1]/div[2]/div[1]/div[1]/div[7]/div')\n",
    "industry.insert(0,i.text)"
   ]
  },
  {
   "cell_type": "code",
   "execution_count": 49,
   "id": "9d276fd1",
   "metadata": {},
   "outputs": [
    {
     "name": "stdout",
     "output_type": "stream",
     "text": [
      "200 ['Fashion & Retail', 'Automotive', 'Technology', 'Technology', 'Finance & Investments', 'Technology', 'Media & Entertainment', 'Telecom', 'Diversified', 'Technology', 'Fashion & Retail', 'Technology', 'Fashion & Retail', 'Technology', 'Food & Beverage', 'Technology', 'Diversified', 'Diversified', 'Fashion & Retail', 'Fashion & Retail', 'Fashion & Retail', 'Media & Entertainment', 'Technology', 'Diversified', 'Fashion & Retail', 'Technology', 'Fashion & Retail', 'Fashion & Retail', 'Logistics', 'Food & Beverage', 'Food & Beverage', 'Food & Beverage', 'Diversified', 'Technology', 'Gambling & Casinos', 'Finance & Investments', 'Food & Beverage', 'Automotive', 'Fashion & Retail', 'Diversified', 'Fashion & Retail', 'Fashion & Retail', 'Logistics', 'Logistics', 'Technology', 'Manufacturing', 'Real Estate', 'Finance & Investments', 'Finance & Investments', 'Finance & Investments', 'Automotive', 'Metals & Mining', 'Technology', 'Metals & Mining', 'Technology', 'Energy', 'Finance & Investments', 'Metals & Mining', 'Automotive', 'Technology', 'Finance & Investments', 'Metals & Mining', 'Technology', 'Manufacturing', 'Metals & Mining', 'Manufacturing', 'Manufacturing', 'Healthcare', 'Telecom', 'Metals & Mining', 'Food & Beverage', 'Finance & Investments', 'Energy', 'Fashion & Retail', 'Service', 'Technology', 'Fashion & Retail', 'Manufacturing', 'Metals & Mining', 'Energy', 'Healthcare', 'Metals & Mining', 'Finance & Investments', 'Automotive', 'Metals & Mining', 'Diversified', 'Food & Beverage', 'Automotive', 'Energy', 'Finance & Investments', 'Energy', 'Finance & Investments', 'Metals & Mining', 'Finance & Investments', 'Finance & Investments', 'Metals & Mining', 'Real Estate', 'Fashion & Retail', 'Media & Entertainment', 'Finance & Investments', 'Fashion & Retail', 'Finance & Investments', 'Healthcare', 'Fashion & Retail', 'Technology', 'Finance & Investments', 'Food & Beverage', 'Fashion & Retail', 'Fashion & Retail', 'Food & Beverage', 'Real Estate', 'Healthcare', 'Technology', 'Fashion & Retail', 'Automotive', 'Diversified', 'Fashion & Retail', 'Food & Beverage', 'Food & Beverage', 'Healthcare', 'Automotive', 'Metals & Mining', 'Manufacturing', 'Diversified', 'Manufacturing', 'Real Estate', 'Diversified', 'Healthcare', 'Gambling & Casinos', 'Logistics', 'Construction & Engineering', 'Technology', 'Sports', 'Energy', 'Real Estate', 'Automotive', 'Real Estate', 'Finance & Investments', 'Sports', 'Energy', 'Energy', 'Metals & Mining', 'Healthcare', 'Automotive', 'Technology', 'Diversified', 'Real Estate', 'Technology', 'Healthcare', 'Healthcare', 'Food & Beverage', 'Fashion & Retail', 'Finance & Investments', 'Manufacturing', 'Manufacturing', 'Finance & Investments', 'Fashion & Retail', 'Fashion & Retail', 'Finance & Investments', 'Technology', 'Finance & Investments', 'Fashion & Retail', 'Fashion & Retail', 'Media & Entertainment', 'Sports', 'Food & Beverage', 'Finance & Investments', 'Fashion & Retail', 'Finance & Investments', 'Finance & Investments', 'Technology', 'Healthcare', 'Technology', 'Energy', 'Manufacturing', 'Technology', 'Automotive', 'Fashion & Retail', 'Technology', 'Diversified', 'Real Estate', 'Energy', 'Service', 'Diversified', 'Fashion & Retail', 'Logistics', 'Logistics', 'Logistics', 'Finance & Investments', 'Manufacturing', 'Finance & Investments', 'Technology', 'Manufacturing', 'Healthcare', 'Technology', 'Energy', 'Manufacturing', 'Food & Beverage', 'Food & Beverage', 'Food & Beverage']\n"
     ]
    }
   ],
   "source": [
    "print(len(industry),industry)"
   ]
  },
  {
   "cell_type": "code",
   "execution_count": 50,
   "id": "57f1cb8d",
   "metadata": {},
   "outputs": [],
   "source": [
    "#extracting country\n",
    "country=[]\n",
    "ctag=driver.find_elements(By.XPATH,'//div[@class=\"TableRow_row__L-0Km\"]/div[5]')\n",
    "for j in ctag:\n",
    "    country.append(j.text)"
   ]
  },
  {
   "cell_type": "code",
   "execution_count": 51,
   "id": "e2e4a140",
   "metadata": {},
   "outputs": [],
   "source": [
    "ct=driver.find_element(By.XPATH,'/html/body/div[1]/div[2]/div[3]/div[2]/div[2]/div[2]/div[1]/div[1]/div[1]/div[2]/div[1]/div[1]/div[5]')\n",
    "country.insert(0,ct.text)"
   ]
  },
  {
   "cell_type": "code",
   "execution_count": 52,
   "id": "55452743",
   "metadata": {},
   "outputs": [
    {
     "name": "stdout",
     "output_type": "stream",
     "text": [
      "200 ['France', 'United States', 'United States', 'United States', 'United States', 'United States', 'United States', 'Mexico', 'India', 'United States', 'France', 'United States', 'Spain', 'United States', 'China', 'United States', 'United States', 'United States', 'United States', 'United States', 'United States', 'Canada', 'United States', 'India', 'United States', 'China', 'Germany', 'France', 'Germany', 'Italy', 'United States', 'United States', 'Hong Kong', 'China', 'United States', 'United States', 'Austria', 'Hong Kong', 'Japan', 'United States', 'France', 'France', 'Switzerland', 'Switzerland', 'China', 'Germany', 'Hong Kong', 'United States', 'United States', 'United States', 'Germany', 'Australia', 'China', 'Mexico', 'India', 'Indonesia', 'United States', 'Russia', 'Germany', 'United States', 'Indonesia', 'Russia', 'China', 'China', 'Chile', 'Indonesia', 'United Kingdom', 'India', 'Japan', 'Russia', 'France', 'United States', 'Russia', 'United States', 'China', 'United States', 'United States', 'Japan', 'Russia', 'Russia', 'United States', 'Australia', 'United States', 'China', 'China', 'Israel', 'China', 'China', 'United States', 'United States', 'Russia', 'United States', 'India', 'United States', 'United States', 'India', 'United States', 'United States', 'United States', 'Brazil', 'Germany', 'Czech Republic', 'Singapore', 'Sweden', 'United States', 'United Kingdom', 'China', 'Germany', 'Germany', 'Brazil', 'Hong Kong', 'India', 'United States', 'India', 'China', 'Thailand', 'United States', 'Thailand', 'Netherlands', 'Hong Kong', 'China', 'Russia', 'Singapore', 'India', 'Nigeria', 'Hong Kong', 'Israel', 'China', 'Hong Kong', 'Cyprus', 'United States', 'United States', 'United States', 'United States', 'Hong Kong', 'China', 'Australia', 'India', 'United States', 'Russia', 'Thailand', 'China', 'China', 'United States', 'United States', 'Malaysia', 'United States', 'United Arab Emirates', 'Germany', 'Germany', 'China', 'United States', 'United States', 'Russia', 'Australia', 'Russia', 'Italy', 'South Africa', 'Hong Kong', 'China', 'United States', 'United States', 'Mexico', 'United States', 'United States', 'Brazil', 'Russia', 'China', 'Canada', 'United States', 'Australia', 'United States', 'United States', 'United States', 'Russia', 'Brazil', 'Germany', 'United States', 'Australia', 'Malaysia', 'China', 'United States', 'China', 'Cyprus', 'France', 'France', 'France', 'France', 'Sweden', 'Russia', 'United States', 'China', 'Germany', 'China', 'United States', 'China', 'China', 'United States', 'United States', 'United States']\n"
     ]
    }
   ],
   "source": [
    "print(len(country),country)"
   ]
  },
  {
   "cell_type": "code",
   "execution_count": 53,
   "id": "7f976c1a",
   "metadata": {},
   "outputs": [],
   "source": [
    "#making Dataframe"
   ]
  },
  {
   "cell_type": "code",
   "execution_count": 59,
   "id": "1fe55da1",
   "metadata": {},
   "outputs": [
    {
     "data": {
      "text/html": [
       "<div>\n",
       "<style scoped>\n",
       "    .dataframe tbody tr th:only-of-type {\n",
       "        vertical-align: middle;\n",
       "    }\n",
       "\n",
       "    .dataframe tbody tr th {\n",
       "        vertical-align: top;\n",
       "    }\n",
       "\n",
       "    .dataframe thead th {\n",
       "        text-align: right;\n",
       "    }\n",
       "</style>\n",
       "<table border=\"1\" class=\"dataframe\">\n",
       "  <thead>\n",
       "    <tr style=\"text-align: right;\">\n",
       "      <th></th>\n",
       "      <th>Rank</th>\n",
       "      <th>Name</th>\n",
       "      <th>NetWorth</th>\n",
       "      <th>Age</th>\n",
       "      <th>Country</th>\n",
       "      <th>Source</th>\n",
       "      <th>Industry</th>\n",
       "    </tr>\n",
       "  </thead>\n",
       "  <tbody>\n",
       "    <tr>\n",
       "      <th>0</th>\n",
       "      <td>1</td>\n",
       "      <td>Bernard Arnault &amp; family</td>\n",
       "      <td>$211 B</td>\n",
       "      <td>74</td>\n",
       "      <td>France</td>\n",
       "      <td>LVMH</td>\n",
       "      <td>Fashion &amp; Retail</td>\n",
       "    </tr>\n",
       "    <tr>\n",
       "      <th>1</th>\n",
       "      <td>2</td>\n",
       "      <td>Elon Musk</td>\n",
       "      <td>$180 B</td>\n",
       "      <td>51</td>\n",
       "      <td>United States</td>\n",
       "      <td>Tesla, SpaceX</td>\n",
       "      <td>Automotive</td>\n",
       "    </tr>\n",
       "    <tr>\n",
       "      <th>2</th>\n",
       "      <td>3</td>\n",
       "      <td>Jeff Bezos</td>\n",
       "      <td>$114 B</td>\n",
       "      <td>59</td>\n",
       "      <td>United States</td>\n",
       "      <td>Amazon</td>\n",
       "      <td>Technology</td>\n",
       "    </tr>\n",
       "    <tr>\n",
       "      <th>3</th>\n",
       "      <td>4</td>\n",
       "      <td>Larry Ellison</td>\n",
       "      <td>$107 B</td>\n",
       "      <td>78</td>\n",
       "      <td>United States</td>\n",
       "      <td>Oracle</td>\n",
       "      <td>Technology</td>\n",
       "    </tr>\n",
       "    <tr>\n",
       "      <th>4</th>\n",
       "      <td>5</td>\n",
       "      <td>Warren Buffett</td>\n",
       "      <td>$106 B</td>\n",
       "      <td>92</td>\n",
       "      <td>United States</td>\n",
       "      <td>Berkshire Hathaway</td>\n",
       "      <td>Finance &amp; Investments</td>\n",
       "    </tr>\n",
       "    <tr>\n",
       "      <th>...</th>\n",
       "      <td>...</td>\n",
       "      <td>...</td>\n",
       "      <td>...</td>\n",
       "      <td>...</td>\n",
       "      <td>...</td>\n",
       "      <td>...</td>\n",
       "      <td>...</td>\n",
       "    </tr>\n",
       "    <tr>\n",
       "      <th>195</th>\n",
       "      <td>195</td>\n",
       "      <td>Jin Baofang</td>\n",
       "      <td>$9.6 B</td>\n",
       "      <td>70</td>\n",
       "      <td>China</td>\n",
       "      <td>Solar panels</td>\n",
       "      <td>Energy</td>\n",
       "    </tr>\n",
       "    <tr>\n",
       "      <th>196</th>\n",
       "      <td>195</td>\n",
       "      <td>Luo Liguo &amp; family</td>\n",
       "      <td>$9.6 B</td>\n",
       "      <td>67</td>\n",
       "      <td>China</td>\n",
       "      <td>Chemicals</td>\n",
       "      <td>Manufacturing</td>\n",
       "    </tr>\n",
       "    <tr>\n",
       "      <th>197</th>\n",
       "      <td>195</td>\n",
       "      <td>Marijke Mars</td>\n",
       "      <td>$9.6 B</td>\n",
       "      <td>58</td>\n",
       "      <td>United States</td>\n",
       "      <td>Candy, pet food</td>\n",
       "      <td>Food &amp; Beverage</td>\n",
       "    </tr>\n",
       "    <tr>\n",
       "      <th>198</th>\n",
       "      <td>195</td>\n",
       "      <td>Pamela Mars</td>\n",
       "      <td>$9.6 B</td>\n",
       "      <td>62</td>\n",
       "      <td>United States</td>\n",
       "      <td>Candy, pet food</td>\n",
       "      <td>Food &amp; Beverage</td>\n",
       "    </tr>\n",
       "    <tr>\n",
       "      <th>199</th>\n",
       "      <td>195</td>\n",
       "      <td>Valerie Mars</td>\n",
       "      <td>$9.6 B</td>\n",
       "      <td>64</td>\n",
       "      <td>United States</td>\n",
       "      <td>Candy, pet food</td>\n",
       "      <td>Food &amp; Beverage</td>\n",
       "    </tr>\n",
       "  </tbody>\n",
       "</table>\n",
       "<p>200 rows × 7 columns</p>\n",
       "</div>"
      ],
      "text/plain": [
       "    Rank                      Name NetWorth Age        Country  \\\n",
       "0      1  Bernard Arnault & family   $211 B  74         France   \n",
       "1      2                 Elon Musk   $180 B  51  United States   \n",
       "2      3                Jeff Bezos   $114 B  59  United States   \n",
       "3      4             Larry Ellison   $107 B  78  United States   \n",
       "4      5            Warren Buffett   $106 B  92  United States   \n",
       "..   ...                       ...      ...  ..            ...   \n",
       "195  195               Jin Baofang   $9.6 B  70          China   \n",
       "196  195        Luo Liguo & family   $9.6 B  67          China   \n",
       "197  195              Marijke Mars   $9.6 B  58  United States   \n",
       "198  195               Pamela Mars   $9.6 B  62  United States   \n",
       "199  195              Valerie Mars   $9.6 B  64  United States   \n",
       "\n",
       "                 Source               Industry  \n",
       "0                  LVMH       Fashion & Retail  \n",
       "1         Tesla, SpaceX             Automotive  \n",
       "2                Amazon             Technology  \n",
       "3                Oracle             Technology  \n",
       "4    Berkshire Hathaway  Finance & Investments  \n",
       "..                  ...                    ...  \n",
       "195        Solar panels                 Energy  \n",
       "196           Chemicals          Manufacturing  \n",
       "197     Candy, pet food        Food & Beverage  \n",
       "198     Candy, pet food        Food & Beverage  \n",
       "199     Candy, pet food        Food & Beverage  \n",
       "\n",
       "[200 rows x 7 columns]"
      ]
     },
     "execution_count": 59,
     "metadata": {},
     "output_type": "execute_result"
    }
   ],
   "source": [
    "billionariesdf=pd.DataFrame({'Rank':rank,'Name':name,'NetWorth':nw,'Age':age,'Country':country,'Source':source,'Industry':industry})\n",
    "billionariesdf"
   ]
  },
  {
   "cell_type": "code",
   "execution_count": null,
   "id": "b2f309e9",
   "metadata": {},
   "outputs": [],
   "source": []
  },
  {
   "cell_type": "markdown",
   "id": "e65eb8e9",
   "metadata": {},
   "source": [
    "# 8. Write a program to extract at least 500 Comments, Comment upvote and time when comment was posted \n",
    "from any YouTube Video. "
   ]
  },
  {
   "cell_type": "code",
   "execution_count": 101,
   "id": "56f52a00",
   "metadata": {},
   "outputs": [],
   "source": [
    "#getting driver\n",
    "driver=webdriver.Chrome()"
   ]
  },
  {
   "cell_type": "code",
   "execution_count": 102,
   "id": "f683c894",
   "metadata": {},
   "outputs": [],
   "source": [
    "#getting url\n",
    "driver.get('https://www.youtube.com/watch?v=wr9M-CoxP7A')"
   ]
  },
  {
   "cell_type": "code",
   "execution_count": 103,
   "id": "7f24f009",
   "metadata": {},
   "outputs": [],
   "source": [
    "comment=[]\n",
    "upvote=[]\n",
    "time1=[]"
   ]
  },
  {
   "cell_type": "code",
   "execution_count": 104,
   "id": "7c8243e1",
   "metadata": {},
   "outputs": [],
   "source": [
    "# Scroll to load comments\n",
    "  \n",
    "scrolls = 40  # Adjust the number of scrolls as needed\n",
    "\n",
    "for _ in range(scrolls):\n",
    "    driver.execute_script(\"window.scrollTo(0, document.documentElement.scrollHeight);\")\n",
    "    time.sleep(2) "
   ]
  },
  {
   "cell_type": "code",
   "execution_count": 105,
   "id": "270a1cb3",
   "metadata": {},
   "outputs": [],
   "source": [
    "# Extracting comments, upvotes, and time\n",
    "comments = driver.find_elements(By.XPATH,'//yt-formatted-string[@id=\"content-text\"]')\n",
    "upvotes = driver.find_elements(By.XPATH,'//span[@id=\"vote-count-middle\"]')\n",
    "times = driver.find_elements(By.XPATH,'//a[@class=\"yt-simple-endpoint style-scope yt-formatted-string\"]')\n",
    "\n",
    "for i in comments:\n",
    "    comment.append(i.text)\n",
    "    \n",
    "for j in upvotes:\n",
    "    upvote.append(j.text)\n",
    "    \n",
    "for k in times:\n",
    "    time1.append(k.text)"
   ]
  },
  {
   "cell_type": "code",
   "execution_count": 106,
   "id": "cc3bcd17",
   "metadata": {},
   "outputs": [
    {
     "name": "stdout",
     "output_type": "stream",
     "text": [
      "620 620 628\n"
     ]
    }
   ],
   "source": [
    "print(len(comment),len(upvote),len(time1))"
   ]
  },
  {
   "cell_type": "code",
   "execution_count": 107,
   "id": "c36c83a6",
   "metadata": {},
   "outputs": [],
   "source": [
    "comment=comment[:500]"
   ]
  },
  {
   "cell_type": "code",
   "execution_count": 108,
   "id": "1c2d9ac1",
   "metadata": {},
   "outputs": [],
   "source": [
    "upvote=upvote[:500]"
   ]
  },
  {
   "cell_type": "code",
   "execution_count": 109,
   "id": "b53e7dde",
   "metadata": {},
   "outputs": [],
   "source": [
    "time1=time1[:500]"
   ]
  },
  {
   "cell_type": "code",
   "execution_count": 111,
   "id": "4607e23e",
   "metadata": {},
   "outputs": [
    {
     "data": {
      "text/html": [
       "<div>\n",
       "<style scoped>\n",
       "    .dataframe tbody tr th:only-of-type {\n",
       "        vertical-align: middle;\n",
       "    }\n",
       "\n",
       "    .dataframe tbody tr th {\n",
       "        vertical-align: top;\n",
       "    }\n",
       "\n",
       "    .dataframe thead th {\n",
       "        text-align: right;\n",
       "    }\n",
       "</style>\n",
       "<table border=\"1\" class=\"dataframe\">\n",
       "  <thead>\n",
       "    <tr style=\"text-align: right;\">\n",
       "      <th></th>\n",
       "      <th>comment</th>\n",
       "      <th>Upvote</th>\n",
       "      <th>Time</th>\n",
       "    </tr>\n",
       "  </thead>\n",
       "  <tbody>\n",
       "    <tr>\n",
       "      <th>0</th>\n",
       "      <td>I never want Arijit's era to end. He is the on...</td>\n",
       "      <td>427</td>\n",
       "      <td>T-Series</td>\n",
       "    </tr>\n",
       "    <tr>\n",
       "      <th>1</th>\n",
       "      <td>songs will touch your ears and a smile is out ...</td>\n",
       "      <td>1</td>\n",
       "      <td></td>\n",
       "    </tr>\n",
       "    <tr>\n",
       "      <th>2</th>\n",
       "      <td>What a song...arises those 90s vibes</td>\n",
       "      <td>57</td>\n",
       "      <td></td>\n",
       "    </tr>\n",
       "    <tr>\n",
       "      <th>3</th>\n",
       "      <td>Memories + vibe + slow  rain + dark room + wai...</td>\n",
       "      <td>61</td>\n",
       "      <td></td>\n",
       "    </tr>\n",
       "    <tr>\n",
       "      <th>4</th>\n",
       "      <td>Hermosa canción♡</td>\n",
       "      <td>63</td>\n",
       "      <td>1 month ago</td>\n",
       "    </tr>\n",
       "    <tr>\n",
       "      <th>...</th>\n",
       "      <td>...</td>\n",
       "      <td>...</td>\n",
       "      <td>...</td>\n",
       "    </tr>\n",
       "    <tr>\n",
       "      <th>495</th>\n",
       "      <td>I love this song   especially dance I can try ...</td>\n",
       "      <td>1</td>\n",
       "      <td>1 month ago</td>\n",
       "    </tr>\n",
       "    <tr>\n",
       "      <th>496</th>\n",
       "      <td>Love this song</td>\n",
       "      <td>2</td>\n",
       "      <td>1 month ago</td>\n",
       "    </tr>\n",
       "    <tr>\n",
       "      <th>497</th>\n",
       "      <td>superb</td>\n",
       "      <td></td>\n",
       "      <td>0:53</td>\n",
       "    </tr>\n",
       "    <tr>\n",
       "      <th>498</th>\n",
       "      <td>Very nice song arijit singh legend nhi Unlimit...</td>\n",
       "      <td>3</td>\n",
       "      <td>1 month ago</td>\n",
       "    </tr>\n",
       "    <tr>\n",
       "      <th>499</th>\n",
       "      <td>wow Arijit Singh ki voice</td>\n",
       "      <td>1</td>\n",
       "      <td>3 weeks ago</td>\n",
       "    </tr>\n",
       "  </tbody>\n",
       "</table>\n",
       "<p>500 rows × 3 columns</p>\n",
       "</div>"
      ],
      "text/plain": [
       "                                               comment Upvote         Time\n",
       "0    I never want Arijit's era to end. He is the on...    427     T-Series\n",
       "1    songs will touch your ears and a smile is out ...      1             \n",
       "2                What a song...arises those 90s vibes      57             \n",
       "3    Memories + vibe + slow  rain + dark room + wai...     61             \n",
       "4                                     Hermosa canción♡     63  1 month ago\n",
       "..                                                 ...    ...          ...\n",
       "495  I love this song   especially dance I can try ...      1  1 month ago\n",
       "496                                     Love this song      2  1 month ago\n",
       "497                                             superb                0:53\n",
       "498  Very nice song arijit singh legend nhi Unlimit...      3  1 month ago\n",
       "499                          wow Arijit Singh ki voice      1  3 weeks ago\n",
       "\n",
       "[500 rows x 3 columns]"
      ]
     },
     "execution_count": 111,
     "metadata": {},
     "output_type": "execute_result"
    }
   ],
   "source": [
    "ytdf=pd.DataFrame({'comment':comment,'Upvote':upvote,'Time':time1})\n",
    "ytdf"
   ]
  },
  {
   "cell_type": "markdown",
   "id": "a5438263",
   "metadata": {},
   "source": [
    "# 9. Write a python program to scrape a data for all available Hostels from https://www.hostelworld.com/ in \n",
    "“London” location. You have to scrape hostel name, distance from city centre, ratings, total reviews, overall \n",
    "reviews, privates from price, dorms from price, facilities and property description."
   ]
  },
  {
   "cell_type": "code",
   "execution_count": 350,
   "id": "b517d2e9",
   "metadata": {},
   "outputs": [],
   "source": [
    "#getting driver\n",
    "driver=webdriver.Chrome()"
   ]
  },
  {
   "cell_type": "code",
   "execution_count": 351,
   "id": "aa644bd1",
   "metadata": {},
   "outputs": [],
   "source": [
    "#browsing url\n",
    "driver.get('https://www.hostelworld.com/pwa/wds/s?q=London,%20England&country=London&city=London&type=city&id=3&from=2023-11-11&to=2023-11-14&guests=2&page=1')"
   ]
  },
  {
   "cell_type": "code",
   "execution_count": 352,
   "id": "a0a9d4cc",
   "metadata": {},
   "outputs": [],
   "source": [
    "driver.maximize_window()"
   ]
  },
  {
   "cell_type": "code",
   "execution_count": 354,
   "id": "cc8dbb82",
   "metadata": {},
   "outputs": [],
   "source": [
    "from selenium.common.exceptions import ElementClickInterceptedException\n",
    "#extracting name\n",
    "name=[]\n",
    "for page in range(2):\n",
    "    nametag=driver.find_elements(By.XPATH,'//div[@class=\"property-name\"]/span')\n",
    "    for i in nametag:\n",
    "        name.append(i.text)\n",
    "    try:\n",
    "        nextpage=driver.find_element(By.XPATH,'//*[@id=\"__layout\"]/div/div[2]/div[2]/div[1]/div/div/div[5]/div/button[2]')\n",
    "        nextpage.click()\n",
    "    except NoSuchElementException :\n",
    "        break"
   ]
  },
  {
   "cell_type": "code",
   "execution_count": 355,
   "id": "ad5cc41c",
   "metadata": {},
   "outputs": [
    {
     "name": "stdout",
     "output_type": "stream",
     "text": [
      "31 ['Urbany Hostel London', 'Palmers Lodge - Swiss Cottage', 'Generator London', 'NX London Hostel', 'Safestay London Kensington Holland Park', 'No.8 Willesden Hostel London', 'Smart Russell Square Hostel', 'Phoenix Hostel', 'Queen Elizabeth Chelsea', 'No.8 Seven Sisters', 'Hostelle - women only hostel London', \"St Christopher's Hammersmith\", 'London Backpackers', 'Saint James Backpackers', \"St Christopher's Inn - London Bridge\", 'YHA London Earls Court', \"St Christopher's Camden\", 'Bell House Hostel', 'YHA London St Pauls', 'Park Villa', 'YHA London Thameside', 'Kensal Green Backpackers', 'Enrico Hotel', 'PubLove @ The Green Man, Paddington', \"Tony's House Hotel\", 'Marble Arch Inn', 'London House Hotel', 'Kip Hotel', \"Litsa's Central Studios\", 'Hotel Shepherds Bush London', 'Hanover Hotel']\n"
     ]
    }
   ],
   "source": [
    "print(len(name),name)"
   ]
  },
  {
   "cell_type": "code",
   "execution_count": 357,
   "id": "cb0e8b85",
   "metadata": {},
   "outputs": [],
   "source": [
    "#extracting rating\n",
    "rating=[]\n",
    "for page in range(2):\n",
    "    rattag=driver.find_elements(By.XPATH,'//span[@class=\"number\"]')\n",
    "    for r in rattag:\n",
    "        if r.text is None:\n",
    "                rating.append(\"--\")\n",
    "        \n",
    "        else:\n",
    "            rating.append(r.text)\n",
    "    try:\n",
    "        nextpage=driver.find_element(By.XPATH,'//*[@id=\"__layout\"]/div/div[2]/div[2]/div[1]/div/div/div[5]/div/button[2]')\n",
    "        nextpage.click()\n",
    "    except NoSuchElementException:\n",
    "        break\n"
   ]
  },
  {
   "cell_type": "code",
   "execution_count": 358,
   "id": "1090f749",
   "metadata": {},
   "outputs": [
    {
     "name": "stdout",
     "output_type": "stream",
     "text": [
      "31 ['8.8', '9.5', '8.8', '7.5', '8.3', '6.9', '7.1', '7.5', '7.1', '7.6', '6.5', '8.8', '7.6', '8.0', '7.7', '7.8', '9.3', '7.4', '7.1', '8.8', '8.8', '9.1', '5.1', '7.5', '6.0', '5.8', '9.1', '10', '4.6', '10', '5.1']\n"
     ]
    }
   ],
   "source": [
    "print(len(rating),rating)"
   ]
  },
  {
   "cell_type": "code",
   "execution_count": 360,
   "id": "99992042",
   "metadata": {},
   "outputs": [],
   "source": [
    "#extracting distance from city\n",
    "distance=[]\n",
    "for pg in range(2):\n",
    "    dist=driver.find_elements(By.CLASS_NAME,\"distance-description\")\n",
    "    for d in dist:\n",
    "        if d.text is None:\n",
    "            distance.append(\"-\")\n",
    "        else:\n",
    "            distance.append(d.text)\n",
    "    try:\n",
    "        nextpage=driver.find_element(By.XPATH,'//*[@id=\"__layout\"]/div/div[2]/div[2]/div[1]/div/div/div[5]/div/button[2]')\n",
    "        nextpage.click()\n",
    "    except NoSuchElementException:\n",
    "        break"
   ]
  },
  {
   "cell_type": "code",
   "execution_count": 361,
   "id": "a2650624",
   "metadata": {},
   "outputs": [
    {
     "name": "stdout",
     "output_type": "stream",
     "text": [
      "31 ['- 5.4km from city centre', '- 6.5km from city centre', '- 3km from city centre', '- 6.1km from city centre', '- 5.8km from city centre', '- 10km from city centre', '- 2.6km from city centre', '- 4.2km from city centre', '- 5.7km from city centre', '- 9km from city centre', '- 5.1km from city centre', '- 7.5km from city centre', '- 11.9km from city centre', '- 5.5km from city centre', '- 1.8km from city centre', '- 5.1km from city centre', '- 4.3km from city centre', '- 4.2km from city centre', '- 1.9km from city centre', '- 6.3km from city centre', '- 4.9km from city centre', '- 8.2km from city centre', '- 2km from city centre', '- 4.3km from city centre', '- 4.3km from city centre', '- 3.5km from city centre', '- 5.3km from city centre', '- 6.8km from city centre', '- 4.3km from city centre', '- 7.6km from city centre', '- 2.1km from city centre']\n"
     ]
    }
   ],
   "source": [
    "print(len(distance),distance)"
   ]
  },
  {
   "cell_type": "code",
   "execution_count": 363,
   "id": "059feb1c",
   "metadata": {},
   "outputs": [],
   "source": [
    "#extracting privates from\n",
    "privates=[]\n",
    "for page in range(2):\n",
    "    p=driver.find_elements(By.XPATH,'//div[@class=\"property-accommodation-prices\"]/div[1]')\n",
    "    for pt in p:\n",
    "        if pt.text is None:\n",
    "                privates.append(\"--\")\n",
    "        \n",
    "        else:\n",
    "             privates.append(pt.text)\n",
    "    try:\n",
    "        nextpage=driver.find_element(By.XPATH,'//*[@id=\"__layout\"]/div/div[2]/div[2]/div[1]/div/div/div[5]/div/button[2]')\n",
    "        nextpage.click()\n",
    "    except NoSuchElementException:\n",
    "        break"
   ]
  },
  {
   "cell_type": "code",
   "execution_count": 364,
   "id": "c3f6b391",
   "metadata": {},
   "outputs": [
    {
     "name": "stdout",
     "output_type": "stream",
     "text": [
      "31 ['Privates From\\n₹10,560', 'No Privates Available', 'Privates From\\n₹12,287', 'Privates From\\n₹17,954', 'No Privates Available', 'No Privates Available', 'No Privates Available', 'No Privates Available', 'No Privates Available', 'No Privates Available', 'No Privates Available', 'No Privates Available', 'No Privates Available', '-10%\\nPrivates From\\n₹8,949\\n₹8,054', 'No Privates Available', 'No Privates Available', 'No Privates Available', 'Privates From\\n₹5,940', 'Privates From\\n₹13,577', 'No Privates Available', 'Privates From\\n₹11,203', 'No Privates Available', 'Privates From\\n₹11,201', 'No Privates Available', 'Privates From\\n₹15,715', 'Privates From\\n₹10,590', '-30%\\nPrivates From\\n₹26,426\\n₹18,498', 'Privates From\\n₹10,183', 'Privates From\\n₹9,979', '-20%\\nPrivates From\\n₹15,264\\n₹12,211', 'Privates From\\n₹91,186']\n"
     ]
    }
   ],
   "source": [
    "print(len(privates),privates)"
   ]
  },
  {
   "cell_type": "code",
   "execution_count": 365,
   "id": "6cfbf835",
   "metadata": {},
   "outputs": [
    {
     "data": {
      "text/plain": [
       "['Privates From ₹10,560',\n",
       " 'No Privates Available',\n",
       " 'Privates From ₹12,287',\n",
       " 'Privates From ₹17,954',\n",
       " 'No Privates Available',\n",
       " 'No Privates Available',\n",
       " 'No Privates Available',\n",
       " 'No Privates Available',\n",
       " 'No Privates Available',\n",
       " 'No Privates Available',\n",
       " 'No Privates Available',\n",
       " 'No Privates Available',\n",
       " 'No Privates Available',\n",
       " '-10% Privates From ₹8,949 ₹8,054',\n",
       " 'No Privates Available',\n",
       " 'No Privates Available',\n",
       " 'No Privates Available',\n",
       " 'Privates From ₹5,940',\n",
       " 'Privates From ₹13,577',\n",
       " 'No Privates Available',\n",
       " 'Privates From ₹11,203',\n",
       " 'No Privates Available',\n",
       " 'Privates From ₹11,201',\n",
       " 'No Privates Available',\n",
       " 'Privates From ₹15,715',\n",
       " 'Privates From ₹10,590',\n",
       " '-30% Privates From ₹26,426 ₹18,498',\n",
       " 'Privates From ₹10,183',\n",
       " 'Privates From ₹9,979',\n",
       " '-20% Privates From ₹15,264 ₹12,211',\n",
       " 'Privates From ₹91,186']"
      ]
     },
     "execution_count": 365,
     "metadata": {},
     "output_type": "execute_result"
    }
   ],
   "source": [
    "privates=[i.replace(\"\\n\",\" \") for i in privates]\n",
    "privates"
   ]
  },
  {
   "cell_type": "code",
   "execution_count": 377,
   "id": "6e42a288",
   "metadata": {},
   "outputs": [],
   "source": [
    "#extracting dorms from\n",
    "dorms=[]\n",
    "for page in range(2):\n",
    "    \n",
    "        d=driver.find_elements(By.XPATH,'//div[@class=\"property-accommodation-price\"]/div[3]/strong')\n",
    "        for dt in d:\n",
    "            if dt.text is None:\n",
    "        \n",
    "                dorms.append(\"-\")\n",
    "            else:\n",
    "                dorms.append(dt.text)\n",
    "        \n",
    "    \n",
    "             \n",
    "        try:\n",
    "            nextpage=driver.find_element(By.XPATH,'/html/body/div[3]/div/div/div[2]/div[2]/div[1]/div/div/div[5]/div/button[2]')\n",
    "            nextpage.click()\n",
    "        except NoSuchElementException:\n",
    "            break\n"
   ]
  },
  {
   "cell_type": "code",
   "execution_count": 378,
   "id": "75c71c0d",
   "metadata": {},
   "outputs": [
    {
     "name": "stdout",
     "output_type": "stream",
     "text": [
      "10 ['₹3,236', '₹2,064', '₹2,132', '₹2,154', '₹8,054', '₹4,460', '₹2,804', '₹2,702', '₹18,498', '₹12,211']\n"
     ]
    }
   ],
   "source": [
    "print(len(dorms),dorms)"
   ]
  },
  {
   "cell_type": "code",
   "execution_count": 382,
   "id": "d7d2b858",
   "metadata": {},
   "outputs": [],
   "source": [
    "for pg in range(2):\n",
    "    nadorms=driver.find_elements(By.XPATH,'//div[contains( text(),\"No Dorms Available\")]')\n",
    "    for i in nadorms:\n",
    "        dorms.append(i.text)\n",
    "        \n",
    "    try:\n",
    "            nextpage=driver.find_element(By.XPATH,'/html/body/div[3]/div/div/div[2]/div[2]/div[1]/div/div/div[5]/div/button[2]')\n",
    "            nextpage.click()\n",
    "    except NoSuchElementException:\n",
    "            break\n",
    "        "
   ]
  },
  {
   "cell_type": "code",
   "execution_count": 383,
   "id": "f15f374f",
   "metadata": {},
   "outputs": [
    {
     "name": "stdout",
     "output_type": "stream",
     "text": [
      "30 ['₹3,236', '₹2,064', '₹2,132', '₹2,154', '₹8,054', '₹4,460', '₹2,804', '₹2,702', '₹18,498', '₹12,211', 'No Dorms Available', 'No Dorms Available', 'No Dorms Available', 'No Dorms Available', 'No Dorms Available', 'No Dorms Available', 'No Dorms Available', 'No Dorms Available', 'No Dorms Available', 'No Dorms Available', 'No Dorms Available', 'No Dorms Available', 'No Dorms Available', 'No Dorms Available', 'No Dorms Available', 'No Dorms Available', 'No Dorms Available', 'No Dorms Available', 'No Dorms Available', 'No Dorms Available']\n"
     ]
    }
   ],
   "source": [
    "print(len(dorms),dorms)"
   ]
  },
  {
   "cell_type": "code",
   "execution_count": 385,
   "id": "b2f69563",
   "metadata": {},
   "outputs": [],
   "source": [
    "#extracting reviews\n",
    "reviews=[]\n",
    "for page in range(2):\n",
    "    rt=driver.find_elements(By.XPATH,'//div[@class=\"review\"]/span')\n",
    "    for r in rt:\n",
    "        if r.text== False:\n",
    "                reviews.append(\"NA\")\n",
    "        \n",
    "        else:\n",
    "             reviews.append(r.text)\n",
    "    try:\n",
    "        nextpage=driver.find_element(By.XPATH,'/html/body/div[3]/div/div/div[2]/div[2]/div[1]/div/div/div[5]/div/button[2]')\n",
    "        nextpage.click()\n",
    "    except NoSuchElementException:\n",
    "        break\n"
   ]
  },
  {
   "cell_type": "code",
   "execution_count": 386,
   "id": "94cc6e98",
   "metadata": {},
   "outputs": [
    {
     "name": "stdout",
     "output_type": "stream",
     "text": [
      "30 ['(1010)', '(15811)', '(7913)', '(2037)', '(1718)', '(5139)', '(10139)', '(4534)', '(3623)', '(4115)', '(77)', '(4338)', '(4544)', '(1938)', '(3565)', '(1477)', '(4104)', '(112)', '(2104)', '(925)', '(533)', '(3734)', '(177)', '(455)', '(433)', '(231)', '(1383)', '(56)', '(1)', '(1)']\n"
     ]
    }
   ],
   "source": [
    "print(len(reviews),reviews)"
   ]
  },
  {
   "cell_type": "code",
   "execution_count": 387,
   "id": "7d6db8d4",
   "metadata": {},
   "outputs": [
    {
     "name": "stdout",
     "output_type": "stream",
     "text": [
      "31 31 30 31 30 31\n"
     ]
    }
   ],
   "source": [
    "print(len(name),len(privates),len(dorms),len(rating),len(reviews),len(distance))"
   ]
  },
  {
   "cell_type": "code",
   "execution_count": 389,
   "id": "257f6687",
   "metadata": {},
   "outputs": [],
   "source": [
    "name=name[:30]"
   ]
  },
  {
   "cell_type": "code",
   "execution_count": 390,
   "id": "c4cb8511",
   "metadata": {},
   "outputs": [],
   "source": [
    "privates=privates[:30]"
   ]
  },
  {
   "cell_type": "code",
   "execution_count": 391,
   "id": "3b09e285",
   "metadata": {},
   "outputs": [],
   "source": [
    "rating=rating[:30]"
   ]
  },
  {
   "cell_type": "code",
   "execution_count": 392,
   "id": "f54174c2",
   "metadata": {},
   "outputs": [],
   "source": [
    "distance=distance[:30]"
   ]
  },
  {
   "cell_type": "code",
   "execution_count": null,
   "id": "ea110653",
   "metadata": {},
   "outputs": [],
   "source": []
  },
  {
   "cell_type": "code",
   "execution_count": 346,
   "id": "37fade16",
   "metadata": {},
   "outputs": [],
   "source": [
    "#making dataframe"
   ]
  },
  {
   "cell_type": "code",
   "execution_count": 393,
   "id": "de9f3402",
   "metadata": {},
   "outputs": [],
   "source": [
    "hosteldf=pd.DataFrame({'Name':name,'Privatesfromprice':privates,'Dorms':dorms,'Rating':rating,'Reviews':reviews,'distancefrpmcitycentre':distance})"
   ]
  },
  {
   "cell_type": "code",
   "execution_count": 394,
   "id": "f3e835a7",
   "metadata": {},
   "outputs": [
    {
     "data": {
      "text/html": [
       "<div>\n",
       "<style scoped>\n",
       "    .dataframe tbody tr th:only-of-type {\n",
       "        vertical-align: middle;\n",
       "    }\n",
       "\n",
       "    .dataframe tbody tr th {\n",
       "        vertical-align: top;\n",
       "    }\n",
       "\n",
       "    .dataframe thead th {\n",
       "        text-align: right;\n",
       "    }\n",
       "</style>\n",
       "<table border=\"1\" class=\"dataframe\">\n",
       "  <thead>\n",
       "    <tr style=\"text-align: right;\">\n",
       "      <th></th>\n",
       "      <th>Name</th>\n",
       "      <th>Privatesfromprice</th>\n",
       "      <th>Dorms</th>\n",
       "      <th>Rating</th>\n",
       "      <th>Reviews</th>\n",
       "      <th>distancefrpmcitycentre</th>\n",
       "    </tr>\n",
       "  </thead>\n",
       "  <tbody>\n",
       "    <tr>\n",
       "      <th>0</th>\n",
       "      <td>Urbany Hostel London</td>\n",
       "      <td>Privates From ₹10,560</td>\n",
       "      <td>₹3,236</td>\n",
       "      <td>8.8</td>\n",
       "      <td>(1010)</td>\n",
       "      <td>- 5.4km from city centre</td>\n",
       "    </tr>\n",
       "    <tr>\n",
       "      <th>1</th>\n",
       "      <td>Palmers Lodge - Swiss Cottage</td>\n",
       "      <td>No Privates Available</td>\n",
       "      <td>₹2,064</td>\n",
       "      <td>9.5</td>\n",
       "      <td>(15811)</td>\n",
       "      <td>- 6.5km from city centre</td>\n",
       "    </tr>\n",
       "    <tr>\n",
       "      <th>2</th>\n",
       "      <td>Generator London</td>\n",
       "      <td>Privates From ₹12,287</td>\n",
       "      <td>₹2,132</td>\n",
       "      <td>8.8</td>\n",
       "      <td>(7913)</td>\n",
       "      <td>- 3km from city centre</td>\n",
       "    </tr>\n",
       "    <tr>\n",
       "      <th>3</th>\n",
       "      <td>NX London Hostel</td>\n",
       "      <td>Privates From ₹17,954</td>\n",
       "      <td>₹2,154</td>\n",
       "      <td>7.5</td>\n",
       "      <td>(2037)</td>\n",
       "      <td>- 6.1km from city centre</td>\n",
       "    </tr>\n",
       "    <tr>\n",
       "      <th>4</th>\n",
       "      <td>Safestay London Kensington Holland Park</td>\n",
       "      <td>No Privates Available</td>\n",
       "      <td>₹8,054</td>\n",
       "      <td>8.3</td>\n",
       "      <td>(1718)</td>\n",
       "      <td>- 5.8km from city centre</td>\n",
       "    </tr>\n",
       "    <tr>\n",
       "      <th>5</th>\n",
       "      <td>No.8 Willesden Hostel London</td>\n",
       "      <td>No Privates Available</td>\n",
       "      <td>₹4,460</td>\n",
       "      <td>6.9</td>\n",
       "      <td>(5139)</td>\n",
       "      <td>- 10km from city centre</td>\n",
       "    </tr>\n",
       "    <tr>\n",
       "      <th>6</th>\n",
       "      <td>Smart Russell Square Hostel</td>\n",
       "      <td>No Privates Available</td>\n",
       "      <td>₹2,804</td>\n",
       "      <td>7.1</td>\n",
       "      <td>(10139)</td>\n",
       "      <td>- 2.6km from city centre</td>\n",
       "    </tr>\n",
       "    <tr>\n",
       "      <th>7</th>\n",
       "      <td>Phoenix Hostel</td>\n",
       "      <td>No Privates Available</td>\n",
       "      <td>₹2,702</td>\n",
       "      <td>7.5</td>\n",
       "      <td>(4534)</td>\n",
       "      <td>- 4.2km from city centre</td>\n",
       "    </tr>\n",
       "    <tr>\n",
       "      <th>8</th>\n",
       "      <td>Queen Elizabeth Chelsea</td>\n",
       "      <td>No Privates Available</td>\n",
       "      <td>₹18,498</td>\n",
       "      <td>7.1</td>\n",
       "      <td>(3623)</td>\n",
       "      <td>- 5.7km from city centre</td>\n",
       "    </tr>\n",
       "    <tr>\n",
       "      <th>9</th>\n",
       "      <td>No.8 Seven Sisters</td>\n",
       "      <td>No Privates Available</td>\n",
       "      <td>₹12,211</td>\n",
       "      <td>7.6</td>\n",
       "      <td>(4115)</td>\n",
       "      <td>- 9km from city centre</td>\n",
       "    </tr>\n",
       "    <tr>\n",
       "      <th>10</th>\n",
       "      <td>Hostelle - women only hostel London</td>\n",
       "      <td>No Privates Available</td>\n",
       "      <td>No Dorms Available</td>\n",
       "      <td>6.5</td>\n",
       "      <td>(77)</td>\n",
       "      <td>- 5.1km from city centre</td>\n",
       "    </tr>\n",
       "    <tr>\n",
       "      <th>11</th>\n",
       "      <td>St Christopher's Hammersmith</td>\n",
       "      <td>No Privates Available</td>\n",
       "      <td>No Dorms Available</td>\n",
       "      <td>8.8</td>\n",
       "      <td>(4338)</td>\n",
       "      <td>- 7.5km from city centre</td>\n",
       "    </tr>\n",
       "    <tr>\n",
       "      <th>12</th>\n",
       "      <td>London Backpackers</td>\n",
       "      <td>No Privates Available</td>\n",
       "      <td>No Dorms Available</td>\n",
       "      <td>7.6</td>\n",
       "      <td>(4544)</td>\n",
       "      <td>- 11.9km from city centre</td>\n",
       "    </tr>\n",
       "    <tr>\n",
       "      <th>13</th>\n",
       "      <td>Saint James Backpackers</td>\n",
       "      <td>-10% Privates From ₹8,949 ₹8,054</td>\n",
       "      <td>No Dorms Available</td>\n",
       "      <td>8.0</td>\n",
       "      <td>(1938)</td>\n",
       "      <td>- 5.5km from city centre</td>\n",
       "    </tr>\n",
       "    <tr>\n",
       "      <th>14</th>\n",
       "      <td>St Christopher's Inn - London Bridge</td>\n",
       "      <td>No Privates Available</td>\n",
       "      <td>No Dorms Available</td>\n",
       "      <td>7.7</td>\n",
       "      <td>(3565)</td>\n",
       "      <td>- 1.8km from city centre</td>\n",
       "    </tr>\n",
       "    <tr>\n",
       "      <th>15</th>\n",
       "      <td>YHA London Earls Court</td>\n",
       "      <td>No Privates Available</td>\n",
       "      <td>No Dorms Available</td>\n",
       "      <td>7.8</td>\n",
       "      <td>(1477)</td>\n",
       "      <td>- 5.1km from city centre</td>\n",
       "    </tr>\n",
       "    <tr>\n",
       "      <th>16</th>\n",
       "      <td>St Christopher's Camden</td>\n",
       "      <td>No Privates Available</td>\n",
       "      <td>No Dorms Available</td>\n",
       "      <td>9.3</td>\n",
       "      <td>(4104)</td>\n",
       "      <td>- 4.3km from city centre</td>\n",
       "    </tr>\n",
       "    <tr>\n",
       "      <th>17</th>\n",
       "      <td>Bell House Hostel</td>\n",
       "      <td>Privates From ₹5,940</td>\n",
       "      <td>No Dorms Available</td>\n",
       "      <td>7.4</td>\n",
       "      <td>(112)</td>\n",
       "      <td>- 4.2km from city centre</td>\n",
       "    </tr>\n",
       "    <tr>\n",
       "      <th>18</th>\n",
       "      <td>YHA London St Pauls</td>\n",
       "      <td>Privates From ₹13,577</td>\n",
       "      <td>No Dorms Available</td>\n",
       "      <td>7.1</td>\n",
       "      <td>(2104)</td>\n",
       "      <td>- 1.9km from city centre</td>\n",
       "    </tr>\n",
       "    <tr>\n",
       "      <th>19</th>\n",
       "      <td>Park Villa</td>\n",
       "      <td>No Privates Available</td>\n",
       "      <td>No Dorms Available</td>\n",
       "      <td>8.8</td>\n",
       "      <td>(925)</td>\n",
       "      <td>- 6.3km from city centre</td>\n",
       "    </tr>\n",
       "    <tr>\n",
       "      <th>20</th>\n",
       "      <td>YHA London Thameside</td>\n",
       "      <td>Privates From ₹11,203</td>\n",
       "      <td>No Dorms Available</td>\n",
       "      <td>8.8</td>\n",
       "      <td>(533)</td>\n",
       "      <td>- 4.9km from city centre</td>\n",
       "    </tr>\n",
       "    <tr>\n",
       "      <th>21</th>\n",
       "      <td>Kensal Green Backpackers</td>\n",
       "      <td>No Privates Available</td>\n",
       "      <td>No Dorms Available</td>\n",
       "      <td>9.1</td>\n",
       "      <td>(3734)</td>\n",
       "      <td>- 8.2km from city centre</td>\n",
       "    </tr>\n",
       "    <tr>\n",
       "      <th>22</th>\n",
       "      <td>Enrico Hotel</td>\n",
       "      <td>Privates From ₹11,201</td>\n",
       "      <td>No Dorms Available</td>\n",
       "      <td>5.1</td>\n",
       "      <td>(177)</td>\n",
       "      <td>- 2km from city centre</td>\n",
       "    </tr>\n",
       "    <tr>\n",
       "      <th>23</th>\n",
       "      <td>PubLove @ The Green Man, Paddington</td>\n",
       "      <td>No Privates Available</td>\n",
       "      <td>No Dorms Available</td>\n",
       "      <td>7.5</td>\n",
       "      <td>(455)</td>\n",
       "      <td>- 4.3km from city centre</td>\n",
       "    </tr>\n",
       "    <tr>\n",
       "      <th>24</th>\n",
       "      <td>Tony's House Hotel</td>\n",
       "      <td>Privates From ₹15,715</td>\n",
       "      <td>No Dorms Available</td>\n",
       "      <td>6.0</td>\n",
       "      <td>(433)</td>\n",
       "      <td>- 4.3km from city centre</td>\n",
       "    </tr>\n",
       "    <tr>\n",
       "      <th>25</th>\n",
       "      <td>Marble Arch Inn</td>\n",
       "      <td>Privates From ₹10,590</td>\n",
       "      <td>No Dorms Available</td>\n",
       "      <td>5.8</td>\n",
       "      <td>(231)</td>\n",
       "      <td>- 3.5km from city centre</td>\n",
       "    </tr>\n",
       "    <tr>\n",
       "      <th>26</th>\n",
       "      <td>London House Hotel</td>\n",
       "      <td>-30% Privates From ₹26,426 ₹18,498</td>\n",
       "      <td>No Dorms Available</td>\n",
       "      <td>9.1</td>\n",
       "      <td>(1383)</td>\n",
       "      <td>- 5.3km from city centre</td>\n",
       "    </tr>\n",
       "    <tr>\n",
       "      <th>27</th>\n",
       "      <td>Kip Hotel</td>\n",
       "      <td>Privates From ₹10,183</td>\n",
       "      <td>No Dorms Available</td>\n",
       "      <td>10</td>\n",
       "      <td>(56)</td>\n",
       "      <td>- 6.8km from city centre</td>\n",
       "    </tr>\n",
       "    <tr>\n",
       "      <th>28</th>\n",
       "      <td>Litsa's Central Studios</td>\n",
       "      <td>Privates From ₹9,979</td>\n",
       "      <td>No Dorms Available</td>\n",
       "      <td>4.6</td>\n",
       "      <td>(1)</td>\n",
       "      <td>- 4.3km from city centre</td>\n",
       "    </tr>\n",
       "    <tr>\n",
       "      <th>29</th>\n",
       "      <td>Hotel Shepherds Bush London</td>\n",
       "      <td>-20% Privates From ₹15,264 ₹12,211</td>\n",
       "      <td>No Dorms Available</td>\n",
       "      <td>10</td>\n",
       "      <td>(1)</td>\n",
       "      <td>- 7.6km from city centre</td>\n",
       "    </tr>\n",
       "  </tbody>\n",
       "</table>\n",
       "</div>"
      ],
      "text/plain": [
       "                                       Name  \\\n",
       "0                      Urbany Hostel London   \n",
       "1             Palmers Lodge - Swiss Cottage   \n",
       "2                          Generator London   \n",
       "3                          NX London Hostel   \n",
       "4   Safestay London Kensington Holland Park   \n",
       "5              No.8 Willesden Hostel London   \n",
       "6               Smart Russell Square Hostel   \n",
       "7                            Phoenix Hostel   \n",
       "8                   Queen Elizabeth Chelsea   \n",
       "9                        No.8 Seven Sisters   \n",
       "10      Hostelle - women only hostel London   \n",
       "11             St Christopher's Hammersmith   \n",
       "12                       London Backpackers   \n",
       "13                  Saint James Backpackers   \n",
       "14     St Christopher's Inn - London Bridge   \n",
       "15                   YHA London Earls Court   \n",
       "16                  St Christopher's Camden   \n",
       "17                        Bell House Hostel   \n",
       "18                      YHA London St Pauls   \n",
       "19                               Park Villa   \n",
       "20                     YHA London Thameside   \n",
       "21                 Kensal Green Backpackers   \n",
       "22                             Enrico Hotel   \n",
       "23      PubLove @ The Green Man, Paddington   \n",
       "24                       Tony's House Hotel   \n",
       "25                          Marble Arch Inn   \n",
       "26                       London House Hotel   \n",
       "27                                Kip Hotel   \n",
       "28                  Litsa's Central Studios   \n",
       "29              Hotel Shepherds Bush London   \n",
       "\n",
       "                     Privatesfromprice               Dorms Rating  Reviews  \\\n",
       "0                Privates From ₹10,560              ₹3,236    8.8   (1010)   \n",
       "1                No Privates Available              ₹2,064    9.5  (15811)   \n",
       "2                Privates From ₹12,287              ₹2,132    8.8   (7913)   \n",
       "3                Privates From ₹17,954              ₹2,154    7.5   (2037)   \n",
       "4                No Privates Available              ₹8,054    8.3   (1718)   \n",
       "5                No Privates Available              ₹4,460    6.9   (5139)   \n",
       "6                No Privates Available              ₹2,804    7.1  (10139)   \n",
       "7                No Privates Available              ₹2,702    7.5   (4534)   \n",
       "8                No Privates Available             ₹18,498    7.1   (3623)   \n",
       "9                No Privates Available             ₹12,211    7.6   (4115)   \n",
       "10               No Privates Available  No Dorms Available    6.5     (77)   \n",
       "11               No Privates Available  No Dorms Available    8.8   (4338)   \n",
       "12               No Privates Available  No Dorms Available    7.6   (4544)   \n",
       "13    -10% Privates From ₹8,949 ₹8,054  No Dorms Available    8.0   (1938)   \n",
       "14               No Privates Available  No Dorms Available    7.7   (3565)   \n",
       "15               No Privates Available  No Dorms Available    7.8   (1477)   \n",
       "16               No Privates Available  No Dorms Available    9.3   (4104)   \n",
       "17                Privates From ₹5,940  No Dorms Available    7.4    (112)   \n",
       "18               Privates From ₹13,577  No Dorms Available    7.1   (2104)   \n",
       "19               No Privates Available  No Dorms Available    8.8    (925)   \n",
       "20               Privates From ₹11,203  No Dorms Available    8.8    (533)   \n",
       "21               No Privates Available  No Dorms Available    9.1   (3734)   \n",
       "22               Privates From ₹11,201  No Dorms Available    5.1    (177)   \n",
       "23               No Privates Available  No Dorms Available    7.5    (455)   \n",
       "24               Privates From ₹15,715  No Dorms Available    6.0    (433)   \n",
       "25               Privates From ₹10,590  No Dorms Available    5.8    (231)   \n",
       "26  -30% Privates From ₹26,426 ₹18,498  No Dorms Available    9.1   (1383)   \n",
       "27               Privates From ₹10,183  No Dorms Available     10     (56)   \n",
       "28                Privates From ₹9,979  No Dorms Available    4.6      (1)   \n",
       "29  -20% Privates From ₹15,264 ₹12,211  No Dorms Available     10      (1)   \n",
       "\n",
       "       distancefrpmcitycentre  \n",
       "0    - 5.4km from city centre  \n",
       "1    - 6.5km from city centre  \n",
       "2      - 3km from city centre  \n",
       "3    - 6.1km from city centre  \n",
       "4    - 5.8km from city centre  \n",
       "5     - 10km from city centre  \n",
       "6    - 2.6km from city centre  \n",
       "7    - 4.2km from city centre  \n",
       "8    - 5.7km from city centre  \n",
       "9      - 9km from city centre  \n",
       "10   - 5.1km from city centre  \n",
       "11   - 7.5km from city centre  \n",
       "12  - 11.9km from city centre  \n",
       "13   - 5.5km from city centre  \n",
       "14   - 1.8km from city centre  \n",
       "15   - 5.1km from city centre  \n",
       "16   - 4.3km from city centre  \n",
       "17   - 4.2km from city centre  \n",
       "18   - 1.9km from city centre  \n",
       "19   - 6.3km from city centre  \n",
       "20   - 4.9km from city centre  \n",
       "21   - 8.2km from city centre  \n",
       "22     - 2km from city centre  \n",
       "23   - 4.3km from city centre  \n",
       "24   - 4.3km from city centre  \n",
       "25   - 3.5km from city centre  \n",
       "26   - 5.3km from city centre  \n",
       "27   - 6.8km from city centre  \n",
       "28   - 4.3km from city centre  \n",
       "29   - 7.6km from city centre  "
      ]
     },
     "execution_count": 394,
     "metadata": {},
     "output_type": "execute_result"
    }
   ],
   "source": [
    "hosteldf"
   ]
  },
  {
   "cell_type": "code",
   "execution_count": null,
   "id": "0de7019b",
   "metadata": {},
   "outputs": [],
   "source": []
  }
 ],
 "metadata": {
  "kernelspec": {
   "display_name": "Python 3 (ipykernel)",
   "language": "python",
   "name": "python3"
  },
  "language_info": {
   "codemirror_mode": {
    "name": "ipython",
    "version": 3
   },
   "file_extension": ".py",
   "mimetype": "text/x-python",
   "name": "python",
   "nbconvert_exporter": "python",
   "pygments_lexer": "ipython3",
   "version": "3.10.9"
  }
 },
 "nbformat": 4,
 "nbformat_minor": 5
}
